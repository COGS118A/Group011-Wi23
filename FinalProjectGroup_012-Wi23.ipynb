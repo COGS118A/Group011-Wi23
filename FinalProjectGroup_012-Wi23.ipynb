{
 "cells": [
  {
   "attachments": {},
   "cell_type": "markdown",
   "metadata": {},
   "source": [
    "# COGS 108 - WATER QUALITY IN SAN DIEGO"
   ]
  },
  {
   "cell_type": "markdown",
   "metadata": {},
   "source": [
    "## Permissions\n",
    "\n",
    "Place an `X` in the appropriate bracket below to specify if you would like your group's project to be made available to the public. (Note that student names will be included (but PIDs will be scraped from any groups who include their PIDs).\n",
    "\n",
    "* [  ] YES - make available\n",
    "* [ X ] NO - keep private"
   ]
  },
  {
   "cell_type": "markdown",
   "metadata": {},
   "source": [
    "# Overview"
   ]
  },
  {
   "cell_type": "markdown",
   "metadata": {},
   "source": [
    "Water is a crucial resource for human life and well-being, and ensuring its quality is of utmost importance. This data project seeks to investigate whether there are significant differences in the quality of drinking water and effluent water in regions of San Diego compared to the overall water quality on the national level. By examining the quality of water in San Diego and comparing it to the national level, this project aims to identify any potential areas of improvement in the water treatment process and promote policies that enhance the quality of water.\n",
    "\n",
    "To carry out this project, data will be collected from various sources such as the EPA and the California State Water Resources Control Board. The collected data will then be organized and analyzed to identify any trends or patterns in the quality of drinking water and effluent water in San Diego compared to the national level. Factors such as pH levels, turbidity, and levels of pollutants will be analyzed to determine the overall quality of the water.\n",
    "\n",
    "Statistical analysis will be conducted to determine if there are significant differences between the water quality in San Diego and the national level. If significant differences are identified, this could lead to policy changes and improvements in water treatment processes to enhance the quality of drinking water and effluent water in San Diego. Furthermore, the project could serve as a reference for other regions in their efforts to improve water quality and public health.\n",
    "\n",
    "Overall, this data project has the potential to provide valuable insights into the quality of drinking water and effluent water in San Diego and how it compares to the national level. The results of this project could lead to improvements in water treatment processes, policy changes, and ultimately enhance the quality of water and public health in San Diego and beyond."
   ]
  },
  {
   "cell_type": "markdown",
   "metadata": {},
   "source": [
    "# Names\n",
    "\n",
    "- Joshua Howon Kim\n",
    "- Yun Seo Chang\n",
    "- Nathan Rinker\n",
    "- Hyeonjoo Lee\n",
    "- John Mauricio"
   ]
  },
  {
   "cell_type": "markdown",
   "metadata": {},
   "source": [
    "<a id='research_question'></a>\n",
    "# Research Question"
   ]
  },
  {
   "attachments": {},
   "cell_type": "markdown",
   "metadata": {},
   "source": [
    "Is there a significant difference in the average quality of drinking water in regions of San Diego compared to average drinking water on the national level? Additionally, is there a significant difference between the average quality of effluent water in SD compared to the overall average water quality of the nation?"
   ]
  },
  {
   "cell_type": "markdown",
   "metadata": {},
   "source": [
    "<a id='background'></a>\n",
    "\n",
    "## Background & Prior Work"
   ]
  },
  {
   "attachments": {},
   "cell_type": "markdown",
   "metadata": {},
   "source": [
    "\n",
    "The San Diego County Water Authority (SDCWA) is responsible for regulating the quality of drinking water in the San Diego region, which serves over 3 million residents. The water is sourced from various locations, including local reservoirs, the Colorado River, and the Sacramento-San Joaquin Delta, and treated at several treatment plants before distribution. The SDCWA reports that the drinking water in San Diego meets or exceeds all state and federal drinking water standards. The water is tested regularly for over 200 contaminants, including lead, arsenic, disinfection byproducts, and volatile organic compounds. The SDCWA also implements a comprehensive water quality monitoring program to ensure that the water is safe for consumption. [^SDCWA]\n",
    "\n",
    "According to a report by the Environmental Working Group (EWG), San Diego's drinking water quality is among the best in the nation. The report analyzed data from over 50,000 water utilities across the country and rated each utility on a scale of 0 to 100, with higher scores indicating better water quality. San Diego scored a 91.3, ranking 10th out of the 100 largest cities in the U.S. The report noted that San Diego's water has relatively low levels of contaminants such as lead, arsenic, and disinfection byproducts, and is generally safe for consumption. [^EWG]\n",
    "\n",
    "Effluent water, also known as wastewater or sewage, is the water that is discharged from homes, businesses, and industries after use. The quality of effluent water is regulated by the California State Water Resources Control Board, which sets strict standards for the treatment and discharge of wastewater. In San Diego, effluent water is treated at several wastewater treatment plants before being discharged into the ocean. The City of San Diego Public Utilities Department reports that the effluent water that is discharged from these treatment plants meets or exceeds all state and federal water quality standards. The effluent water is treated to remove harmful contaminants such as bacteria, viruses, and heavy metals, and is safe for aquatic life and recreational use.\n",
    "\n",
    "A study by the California Coastal Commission found that the effluent water that is discharged from the Point Loma Wastewater Treatment Plant in San Diego has significantly improved in quality over the years. The plant, which is the largest wastewater treatment facility in the region, discharges effluent water into the Pacific Ocean. The study found that the effluent water from the plant had a positive impact on the marine ecosystem, providing nutrients and supporting diverse marine life. The study noted that the effluent water from the plant is safe for recreational activities such as swimming and surfing. [^SDPUD]\n",
    "\n",
    "In conclusion, San Diego's drinking water quality is among the best in the nation, meeting or exceeding all state and federal drinking water standards. The water is tested regularly for over 200 contaminants, ensuring its safety for consumption. Effluent water that is discharged from San Diego's wastewater treatment plants meets or exceeds all state and federal water quality standards and is safe for aquatic life and recreational use. The city's comprehensive water quality monitoring and treatment programs ensure that both drinking and effluent water are of high quality and safe for all uses.\n",
    "\n",
    "[^SDCWA]: San Diego County Water Authority. “2019 Water Quality Report.” San Diego County Water Authority, 2020,  https://www.sdcwa.org/. \n",
    "\n",
    "[^EWG]: Environmental Working Group. “Tap Water Database.” Environmental Working Group, 2020, https://www.ewg.org/tapwater/.\n",
    "\n",
    "[^SDPUD]: City of San Diego Public Utilities Department. “2019 Water Quality Report.” City of San Diego, 2020,  https://www.sandiego.gov/.\n",
    "\n"
   ]
  },
  {
   "cell_type": "markdown",
   "metadata": {},
   "source": [
    "# Hypothesis\n"
   ]
  },
  {
   "attachments": {},
   "cell_type": "markdown",
   "metadata": {},
   "source": [
    "Our hypothesis is that due to funding, population density, and location of San Diego that average drinking water quality will overall be better than that on the national level. For the average effluent water quality we hypothesize that it would be worse across all analyte values compared to the average overall water quality of the Nation, this is because effluent water is wastewater so we would hope that the national water quality on average is better than SD's waste water."
   ]
  },
  {
   "cell_type": "markdown",
   "metadata": {},
   "source": [
    "# Dataset(s)"
   ]
  },
  {
   "cell_type": "markdown",
   "metadata": {},
   "source": [
    "- __Dataset Name: Monitoring of Select Chemical Parameters in Water Distribution System__\n",
    "- Link to the dataset: https://data.sandiego.gov/datasets/monitoring-of-select-chemical-parameters-in-drinking-water/\n",
    "- Number of observations: 21,311 Observations\n",
    "- Dataset Description: This dataset contains the results of tests on the drinking water across San Diego. These tests evaluate variables such as flouride levels, water color, and cleaness of the water.\n",
    "\n",
    "\n",
    "- __Dataset Name: Monitoring of Select Chemical Parameters in Water Treatment Plant Effluents__\n",
    "- Link to the dataset: https://data.sandiego.gov/datasets/monitoring-analytes-plant-effluent/\n",
    "- Number of observations: 6,198 Observations\n",
    "- Dataset Description: This dataset contains the results of tests on the water produced by water treatment plants across San Diego. These tests evaluate variables such as flouride levels, cleaness of the water, the pH level, and the amount of lead.\n",
    "\n",
    "\n",
    "- __Dataset Name: Monitoring of Indicator Bacteria in Drinking Water__\n",
    "- Link to the dataset: https://data.sandiego.gov/datasets/monitoring-of-indicator-bacteria-in-drinking-water/\n",
    "- Number of observations: 79,412 Observations\n",
    "- Dataset Description: This dataset contains the results of tests on the drinking water across San Diego. These tests evaluate the presence of harmful bacteria by the presence of the indicator bacteria coliform and E. coli.\n",
    "\n",
    "\n",
    "- __Dataset Name: Water Quality__\n",
    "- Link to the dataset: https://www.kaggle.com/datasets/adityakadiwal/water-potability?resource=download\n",
    "- Number of observations: 3,277 Observations\n",
    "- Dataset Description: This dataset contains the results of tests on different water bodies across the nation. These tests evaluate the different levels of various chemicals and other factors such as pH, Hardness, and Chloramines.\n",
    "\n",
    "\n",
    "To use our three water quality datasets, we plan to merge them based on the sample site, as this is a common variable across all three. From there we can extrapolate the zip code in which each sample was taken. From this, we can use the zip codes present to make inferences and compare different regions of San Diego."
   ]
  },
  {
   "cell_type": "markdown",
   "metadata": {},
   "source": [
    "# Setup"
   ]
  },
  {
   "cell_type": "code",
   "execution_count": 138,
   "metadata": {},
   "outputs": [],
   "source": [
    "import os\n",
    "import numpy as np\n",
    "import pandas as pd\n",
    "import seaborn as sns\n",
    "import matplotlib.pyplot as plt\n",
    "import patsy\n",
    "import statsmodels.api as sm\n",
    "import scipy.stats as stats\n",
    "from scipy.stats import ttest_ind, chisquare, normaltest"
   ]
  },
  {
   "cell_type": "markdown",
   "metadata": {},
   "source": [
    "# Data"
   ]
  },
  {
   "cell_type": "markdown",
   "metadata": {},
   "source": [
    "### Drinking Water"
   ]
  },
  {
   "cell_type": "code",
   "execution_count": 139,
   "metadata": {},
   "outputs": [
    {
     "data": {
      "text/html": [
       "<div>\n",
       "<style scoped>\n",
       "    .dataframe tbody tr th:only-of-type {\n",
       "        vertical-align: middle;\n",
       "    }\n",
       "\n",
       "    .dataframe tbody tr th {\n",
       "        vertical-align: top;\n",
       "    }\n",
       "\n",
       "    .dataframe thead th {\n",
       "        text-align: right;\n",
       "    }\n",
       "</style>\n",
       "<table border=\"1\" class=\"dataframe\">\n",
       "  <thead>\n",
       "    <tr style=\"text-align: right;\">\n",
       "      <th></th>\n",
       "      <th>date_sample</th>\n",
       "      <th>sample_source</th>\n",
       "      <th>sample_id</th>\n",
       "      <th>analyte</th>\n",
       "      <th>value_qualifier</th>\n",
       "      <th>analyte_value</th>\n",
       "      <th>value_units</th>\n",
       "      <th>source_description</th>\n",
       "    </tr>\n",
       "  </thead>\n",
       "  <tbody>\n",
       "    <tr>\n",
       "      <th>0</th>\n",
       "      <td>2023-01-01</td>\n",
       "      <td>174 SYS</td>\n",
       "      <td>W1543804</td>\n",
       "      <td>FLUORIDE</td>\n",
       "      <td>NaN</td>\n",
       "      <td>0.786</td>\n",
       "      <td>MG/L</td>\n",
       "      <td>3250 Camino Del Rio North; Sample Stanchion</td>\n",
       "    </tr>\n",
       "    <tr>\n",
       "      <th>1</th>\n",
       "      <td>2023-01-02</td>\n",
       "      <td>215 SYS</td>\n",
       "      <td>W1543809</td>\n",
       "      <td>FLUORIDE</td>\n",
       "      <td>NaN</td>\n",
       "      <td>0.760</td>\n",
       "      <td>MG/L</td>\n",
       "      <td>Across from 5105 Soledad Rd.</td>\n",
       "    </tr>\n",
       "    <tr>\n",
       "      <th>2</th>\n",
       "      <td>2023-01-03</td>\n",
       "      <td>128 SYS</td>\n",
       "      <td>W1545521</td>\n",
       "      <td>COLOR</td>\n",
       "      <td>ND</td>\n",
       "      <td>NaN</td>\n",
       "      <td>COLOR</td>\n",
       "      <td>Firethorn St/Palm Ave; Sample Stanchion</td>\n",
       "    </tr>\n",
       "    <tr>\n",
       "      <th>3</th>\n",
       "      <td>2023-01-03</td>\n",
       "      <td>128 SYS</td>\n",
       "      <td>W1545521</td>\n",
       "      <td>TON</td>\n",
       "      <td>NaN</td>\n",
       "      <td>1.400</td>\n",
       "      <td>ODOR</td>\n",
       "      <td>Firethorn St/Palm Ave; Sample Stanchion</td>\n",
       "    </tr>\n",
       "    <tr>\n",
       "      <th>4</th>\n",
       "      <td>2023-01-03</td>\n",
       "      <td>128 SYS</td>\n",
       "      <td>W1545521</td>\n",
       "      <td>TURBIDITY</td>\n",
       "      <td>NaN</td>\n",
       "      <td>0.050</td>\n",
       "      <td>NTU</td>\n",
       "      <td>Firethorn St/Palm Ave; Sample Stanchion</td>\n",
       "    </tr>\n",
       "  </tbody>\n",
       "</table>\n",
       "</div>"
      ],
      "text/plain": [
       "  date_sample sample_source sample_id    analyte value_qualifier  \\\n",
       "0  2023-01-01       174 SYS  W1543804   FLUORIDE             NaN   \n",
       "1  2023-01-02       215 SYS  W1543809   FLUORIDE             NaN   \n",
       "2  2023-01-03       128 SYS  W1545521      COLOR              ND   \n",
       "3  2023-01-03       128 SYS  W1545521        TON             NaN   \n",
       "4  2023-01-03       128 SYS  W1545521  TURBIDITY             NaN   \n",
       "\n",
       "   analyte_value value_units                           source_description  \n",
       "0          0.786        MG/L  3250 Camino Del Rio North; Sample Stanchion  \n",
       "1          0.760        MG/L                 Across from 5105 Soledad Rd.  \n",
       "2            NaN       COLOR      Firethorn St/Palm Ave; Sample Stanchion  \n",
       "3          1.400        ODOR      Firethorn St/Palm Ave; Sample Stanchion  \n",
       "4          0.050         NTU      Firethorn St/Palm Ave; Sample Stanchion  "
      ]
     },
     "execution_count": 139,
     "metadata": {},
     "output_type": "execute_result"
    }
   ],
   "source": [
    "df_drinking = pd.read_csv('data/drinking_water.csv')\n",
    "df_drinking.head()"
   ]
  },
  {
   "cell_type": "markdown",
   "metadata": {},
   "source": [
    "### Effluent Water"
   ]
  },
  {
   "cell_type": "code",
   "execution_count": 140,
   "metadata": {},
   "outputs": [
    {
     "data": {
      "text/html": [
       "<div>\n",
       "<style scoped>\n",
       "    .dataframe tbody tr th:only-of-type {\n",
       "        vertical-align: middle;\n",
       "    }\n",
       "\n",
       "    .dataframe tbody tr th {\n",
       "        vertical-align: top;\n",
       "    }\n",
       "\n",
       "    .dataframe thead th {\n",
       "        text-align: right;\n",
       "    }\n",
       "</style>\n",
       "<table border=\"1\" class=\"dataframe\">\n",
       "  <thead>\n",
       "    <tr style=\"text-align: right;\">\n",
       "      <th></th>\n",
       "      <th>date_sample</th>\n",
       "      <th>sample_source</th>\n",
       "      <th>sample_id</th>\n",
       "      <th>analyte</th>\n",
       "      <th>value_qualifier</th>\n",
       "      <th>analyte_value</th>\n",
       "      <th>value_units</th>\n",
       "      <th>source_description</th>\n",
       "    </tr>\n",
       "  </thead>\n",
       "  <tbody>\n",
       "    <tr>\n",
       "      <th>0</th>\n",
       "      <td>2023-01-01</td>\n",
       "      <td>174 SYS</td>\n",
       "      <td>W1543804</td>\n",
       "      <td>Fluoride</td>\n",
       "      <td>NaN</td>\n",
       "      <td>0.786</td>\n",
       "      <td>MG/L</td>\n",
       "      <td>3250 Camino Del Rio North; Sample Stanchion</td>\n",
       "    </tr>\n",
       "    <tr>\n",
       "      <th>1</th>\n",
       "      <td>2023-01-02</td>\n",
       "      <td>215 SYS</td>\n",
       "      <td>W1543809</td>\n",
       "      <td>Fluoride</td>\n",
       "      <td>NaN</td>\n",
       "      <td>0.760</td>\n",
       "      <td>MG/L</td>\n",
       "      <td>Across from 5105 Soledad Rd.</td>\n",
       "    </tr>\n",
       "    <tr>\n",
       "      <th>2</th>\n",
       "      <td>2023-01-03</td>\n",
       "      <td>284 SYS</td>\n",
       "      <td>W1545377</td>\n",
       "      <td>Chlorate</td>\n",
       "      <td>NaN</td>\n",
       "      <td>186.000</td>\n",
       "      <td>UG/L</td>\n",
       "      <td>Ocean View Hills Pkwy and Sea Drift Way</td>\n",
       "    </tr>\n",
       "    <tr>\n",
       "      <th>3</th>\n",
       "      <td>2023-01-03</td>\n",
       "      <td>284 SYS</td>\n",
       "      <td>W1545377</td>\n",
       "      <td>Chlorite</td>\n",
       "      <td>NaN</td>\n",
       "      <td>157.000</td>\n",
       "      <td>UG/L</td>\n",
       "      <td>Ocean View Hills Pkwy and Sea Drift Way</td>\n",
       "    </tr>\n",
       "    <tr>\n",
       "      <th>4</th>\n",
       "      <td>2023-01-03</td>\n",
       "      <td>67 SYS</td>\n",
       "      <td>W1545355</td>\n",
       "      <td>Fluoride</td>\n",
       "      <td>NaN</td>\n",
       "      <td>0.708</td>\n",
       "      <td>MG/L</td>\n",
       "      <td>Pomerado Rd &amp; Grandee Pl</td>\n",
       "    </tr>\n",
       "  </tbody>\n",
       "</table>\n",
       "</div>"
      ],
      "text/plain": [
       "  date_sample sample_source sample_id   analyte value_qualifier  \\\n",
       "0  2023-01-01       174 SYS  W1543804  Fluoride             NaN   \n",
       "1  2023-01-02       215 SYS  W1543809  Fluoride             NaN   \n",
       "2  2023-01-03       284 SYS  W1545377  Chlorate             NaN   \n",
       "3  2023-01-03       284 SYS  W1545377  Chlorite             NaN   \n",
       "4  2023-01-03        67 SYS  W1545355  Fluoride             NaN   \n",
       "\n",
       "   analyte_value value_units                           source_description  \n",
       "0          0.786        MG/L  3250 Camino Del Rio North; Sample Stanchion  \n",
       "1          0.760        MG/L                 Across from 5105 Soledad Rd.  \n",
       "2        186.000        UG/L      Ocean View Hills Pkwy and Sea Drift Way  \n",
       "3        157.000        UG/L      Ocean View Hills Pkwy and Sea Drift Way  \n",
       "4          0.708        MG/L                     Pomerado Rd & Grandee Pl  "
      ]
     },
     "execution_count": 140,
     "metadata": {},
     "output_type": "execute_result"
    }
   ],
   "source": [
    "df_effluent = pd.read_csv('data/effluent.csv')\n",
    "df_effluent.head()"
   ]
  },
  {
   "cell_type": "markdown",
   "metadata": {},
   "source": [
    "We need to clean the data so that the unit of measurements are the same for choloramines for both datasets"
   ]
  },
  {
   "cell_type": "code",
   "execution_count": 141,
   "metadata": {},
   "outputs": [],
   "source": [
    "def ppm(x):\n",
    "    if x =='Chlorate' or x == 'Chlorite':\n",
    "        return x\n",
    "\n",
    "converted_series = df_effluent.loc[(df_effluent['analyte'] =='Chlorate') | (df_effluent['analyte'] =='Chlorite'), 'analyte_value'].apply(lambda x: x * .001)\n",
    "merged_series = df_effluent['analyte_value'].combine(converted_series,min,fill_value=float('+inf'))\n",
    "df_effluent['analyte_value'] = merged_series"
   ]
  },
  {
   "cell_type": "markdown",
   "metadata": {},
   "source": [
    "### Bacteria"
   ]
  },
  {
   "cell_type": "code",
   "execution_count": 142,
   "metadata": {},
   "outputs": [
    {
     "data": {
      "text/html": [
       "<div>\n",
       "<style scoped>\n",
       "    .dataframe tbody tr th:only-of-type {\n",
       "        vertical-align: middle;\n",
       "    }\n",
       "\n",
       "    .dataframe tbody tr th {\n",
       "        vertical-align: top;\n",
       "    }\n",
       "\n",
       "    .dataframe thead th {\n",
       "        text-align: right;\n",
       "    }\n",
       "</style>\n",
       "<table border=\"1\" class=\"dataframe\">\n",
       "  <thead>\n",
       "    <tr style=\"text-align: right;\">\n",
       "      <th></th>\n",
       "      <th>FR_NUM</th>\n",
       "      <th>date_sampled</th>\n",
       "      <th>source</th>\n",
       "      <th>sample_id</th>\n",
       "      <th>t_coliform</th>\n",
       "      <th>cl2_total</th>\n",
       "      <th>e_coli</th>\n",
       "      <th>temperature</th>\n",
       "      <th>ph</th>\n",
       "    </tr>\n",
       "  </thead>\n",
       "  <tbody>\n",
       "    <tr>\n",
       "      <th>0</th>\n",
       "      <td>244324</td>\n",
       "      <td>2014-06-05</td>\n",
       "      <td>244 SYS</td>\n",
       "      <td>W983115</td>\n",
       "      <td>A</td>\n",
       "      <td>1.91</td>\n",
       "      <td>A</td>\n",
       "      <td>23.4</td>\n",
       "      <td>8.02</td>\n",
       "    </tr>\n",
       "    <tr>\n",
       "      <th>1</th>\n",
       "      <td>244325</td>\n",
       "      <td>2014-06-05</td>\n",
       "      <td>245 SYS</td>\n",
       "      <td>W983116</td>\n",
       "      <td>A</td>\n",
       "      <td>1.77</td>\n",
       "      <td>A</td>\n",
       "      <td>24.3</td>\n",
       "      <td>7.99</td>\n",
       "    </tr>\n",
       "    <tr>\n",
       "      <th>2</th>\n",
       "      <td>244326</td>\n",
       "      <td>2014-06-05</td>\n",
       "      <td>66 SYS</td>\n",
       "      <td>W983117</td>\n",
       "      <td>A</td>\n",
       "      <td>1.95</td>\n",
       "      <td>A</td>\n",
       "      <td>25.5</td>\n",
       "      <td>8.02</td>\n",
       "    </tr>\n",
       "    <tr>\n",
       "      <th>3</th>\n",
       "      <td>244328</td>\n",
       "      <td>2014-06-05</td>\n",
       "      <td>250 SYS</td>\n",
       "      <td>W983119</td>\n",
       "      <td>A</td>\n",
       "      <td>2.40</td>\n",
       "      <td>A</td>\n",
       "      <td>22.6</td>\n",
       "      <td>8.02</td>\n",
       "    </tr>\n",
       "    <tr>\n",
       "      <th>4</th>\n",
       "      <td>244329</td>\n",
       "      <td>2014-06-05</td>\n",
       "      <td>248A SYS</td>\n",
       "      <td>W983120</td>\n",
       "      <td>A</td>\n",
       "      <td>1.82</td>\n",
       "      <td>A</td>\n",
       "      <td>24.2</td>\n",
       "      <td>7.96</td>\n",
       "    </tr>\n",
       "  </tbody>\n",
       "</table>\n",
       "</div>"
      ],
      "text/plain": [
       "   FR_NUM date_sampled    source sample_id t_coliform  cl2_total e_coli  \\\n",
       "0  244324   2014-06-05   244 SYS   W983115          A       1.91      A   \n",
       "1  244325   2014-06-05   245 SYS   W983116          A       1.77      A   \n",
       "2  244326   2014-06-05    66 SYS   W983117          A       1.95      A   \n",
       "3  244328   2014-06-05   250 SYS   W983119          A       2.40      A   \n",
       "4  244329   2014-06-05  248A SYS   W983120          A       1.82      A   \n",
       "\n",
       "   temperature    ph  \n",
       "0         23.4  8.02  \n",
       "1         24.3  7.99  \n",
       "2         25.5  8.02  \n",
       "3         22.6  8.02  \n",
       "4         24.2  7.96  "
      ]
     },
     "execution_count": 142,
     "metadata": {},
     "output_type": "execute_result"
    }
   ],
   "source": [
    "df_bacteria = pd.read_csv('data/bacteria.csv')\n",
    "df_bacteria.head()"
   ]
  },
  {
   "cell_type": "markdown",
   "metadata": {},
   "source": [
    "### National"
   ]
  },
  {
   "cell_type": "code",
   "execution_count": 143,
   "metadata": {},
   "outputs": [
    {
     "data": {
      "text/html": [
       "<div>\n",
       "<style scoped>\n",
       "    .dataframe tbody tr th:only-of-type {\n",
       "        vertical-align: middle;\n",
       "    }\n",
       "\n",
       "    .dataframe tbody tr th {\n",
       "        vertical-align: top;\n",
       "    }\n",
       "\n",
       "    .dataframe thead th {\n",
       "        text-align: right;\n",
       "    }\n",
       "</style>\n",
       "<table border=\"1\" class=\"dataframe\">\n",
       "  <thead>\n",
       "    <tr style=\"text-align: right;\">\n",
       "      <th></th>\n",
       "      <th>ph</th>\n",
       "      <th>Hardness</th>\n",
       "      <th>Solids</th>\n",
       "      <th>Chloramines</th>\n",
       "      <th>Sulfate</th>\n",
       "      <th>Conductivity</th>\n",
       "      <th>Organic_carbon</th>\n",
       "      <th>Trihalomethanes</th>\n",
       "      <th>Turbidity</th>\n",
       "      <th>Potability</th>\n",
       "    </tr>\n",
       "  </thead>\n",
       "  <tbody>\n",
       "    <tr>\n",
       "      <th>0</th>\n",
       "      <td>NaN</td>\n",
       "      <td>204.890455</td>\n",
       "      <td>20791.318981</td>\n",
       "      <td>7.300212</td>\n",
       "      <td>368.516441</td>\n",
       "      <td>564.308654</td>\n",
       "      <td>10.379783</td>\n",
       "      <td>86.990970</td>\n",
       "      <td>2.963135</td>\n",
       "      <td>0</td>\n",
       "    </tr>\n",
       "    <tr>\n",
       "      <th>1</th>\n",
       "      <td>3.716080</td>\n",
       "      <td>129.422921</td>\n",
       "      <td>18630.057858</td>\n",
       "      <td>6.635246</td>\n",
       "      <td>NaN</td>\n",
       "      <td>592.885359</td>\n",
       "      <td>15.180013</td>\n",
       "      <td>56.329076</td>\n",
       "      <td>4.500656</td>\n",
       "      <td>0</td>\n",
       "    </tr>\n",
       "    <tr>\n",
       "      <th>2</th>\n",
       "      <td>8.099124</td>\n",
       "      <td>224.236259</td>\n",
       "      <td>19909.541732</td>\n",
       "      <td>9.275884</td>\n",
       "      <td>NaN</td>\n",
       "      <td>418.606213</td>\n",
       "      <td>16.868637</td>\n",
       "      <td>66.420093</td>\n",
       "      <td>3.055934</td>\n",
       "      <td>0</td>\n",
       "    </tr>\n",
       "    <tr>\n",
       "      <th>3</th>\n",
       "      <td>8.316766</td>\n",
       "      <td>214.373394</td>\n",
       "      <td>22018.417441</td>\n",
       "      <td>8.059332</td>\n",
       "      <td>356.886136</td>\n",
       "      <td>363.266516</td>\n",
       "      <td>18.436524</td>\n",
       "      <td>100.341674</td>\n",
       "      <td>4.628771</td>\n",
       "      <td>0</td>\n",
       "    </tr>\n",
       "    <tr>\n",
       "      <th>4</th>\n",
       "      <td>9.092223</td>\n",
       "      <td>181.101509</td>\n",
       "      <td>17978.986339</td>\n",
       "      <td>6.546600</td>\n",
       "      <td>310.135738</td>\n",
       "      <td>398.410813</td>\n",
       "      <td>11.558279</td>\n",
       "      <td>31.997993</td>\n",
       "      <td>4.075075</td>\n",
       "      <td>0</td>\n",
       "    </tr>\n",
       "  </tbody>\n",
       "</table>\n",
       "</div>"
      ],
      "text/plain": [
       "         ph    Hardness        Solids  Chloramines     Sulfate  Conductivity  \\\n",
       "0       NaN  204.890455  20791.318981     7.300212  368.516441    564.308654   \n",
       "1  3.716080  129.422921  18630.057858     6.635246         NaN    592.885359   \n",
       "2  8.099124  224.236259  19909.541732     9.275884         NaN    418.606213   \n",
       "3  8.316766  214.373394  22018.417441     8.059332  356.886136    363.266516   \n",
       "4  9.092223  181.101509  17978.986339     6.546600  310.135738    398.410813   \n",
       "\n",
       "   Organic_carbon  Trihalomethanes  Turbidity  Potability  \n",
       "0       10.379783        86.990970   2.963135           0  \n",
       "1       15.180013        56.329076   4.500656           0  \n",
       "2       16.868637        66.420093   3.055934           0  \n",
       "3       18.436524       100.341674   4.628771           0  \n",
       "4       11.558279        31.997993   4.075075           0  "
      ]
     },
     "execution_count": 143,
     "metadata": {},
     "output_type": "execute_result"
    }
   ],
   "source": [
    "df_national = pd.read_csv('data/water_potability.csv')\n",
    "df_national.head()"
   ]
  },
  {
   "cell_type": "markdown",
   "metadata": {},
   "source": [
    "# Data Analysis & Results (EDA)"
   ]
  },
  {
   "cell_type": "markdown",
   "metadata": {},
   "source": [
    "## EDA on Drinking Water"
   ]
  },
  {
   "cell_type": "markdown",
   "metadata": {},
   "source": [
    "### Data information"
   ]
  },
  {
   "cell_type": "code",
   "execution_count": 144,
   "metadata": {},
   "outputs": [
    {
     "data": {
      "text/plain": [
       "(21310, 8)"
      ]
     },
     "execution_count": 144,
     "metadata": {},
     "output_type": "execute_result"
    }
   ],
   "source": [
    "df_drinking.shape"
   ]
  },
  {
   "cell_type": "markdown",
   "metadata": {},
   "source": [
    "Our drinking water dataset has eight different variables and over 20000 different samples taken."
   ]
  },
  {
   "cell_type": "code",
   "execution_count": 145,
   "metadata": {},
   "outputs": [
    {
     "name": "stdout",
     "output_type": "stream",
     "text": [
      "<class 'pandas.core.frame.DataFrame'>\n",
      "RangeIndex: 21310 entries, 0 to 21309\n",
      "Data columns (total 8 columns):\n",
      " #   Column              Non-Null Count  Dtype  \n",
      "---  ------              --------------  -----  \n",
      " 0   date_sample         21310 non-null  object \n",
      " 1   sample_source       21310 non-null  object \n",
      " 2   sample_id           21310 non-null  object \n",
      " 3   analyte             21310 non-null  object \n",
      " 4   value_qualifier     7841 non-null   object \n",
      " 5   analyte_value       16136 non-null  float64\n",
      " 6   value_units         21310 non-null  object \n",
      " 7   source_description  21310 non-null  object \n",
      "dtypes: float64(1), object(7)\n",
      "memory usage: 1.3+ MB\n"
     ]
    }
   ],
   "source": [
    "df_drinking.info()"
   ]
  },
  {
   "cell_type": "markdown",
   "metadata": {},
   "source": [
    "We can see that most variables are objects, while analyte_value is a float."
   ]
  },
  {
   "cell_type": "code",
   "execution_count": 146,
   "metadata": {},
   "outputs": [
    {
     "data": {
      "text/html": [
       "<div>\n",
       "<style scoped>\n",
       "    .dataframe tbody tr th:only-of-type {\n",
       "        vertical-align: middle;\n",
       "    }\n",
       "\n",
       "    .dataframe tbody tr th {\n",
       "        vertical-align: top;\n",
       "    }\n",
       "\n",
       "    .dataframe thead th {\n",
       "        text-align: right;\n",
       "    }\n",
       "</style>\n",
       "<table border=\"1\" class=\"dataframe\">\n",
       "  <thead>\n",
       "    <tr style=\"text-align: right;\">\n",
       "      <th></th>\n",
       "      <th>analyte_value</th>\n",
       "    </tr>\n",
       "  </thead>\n",
       "  <tbody>\n",
       "    <tr>\n",
       "      <th>count</th>\n",
       "      <td>16136.000000</td>\n",
       "    </tr>\n",
       "    <tr>\n",
       "      <th>mean</th>\n",
       "      <td>0.738161</td>\n",
       "    </tr>\n",
       "    <tr>\n",
       "      <th>std</th>\n",
       "      <td>0.622854</td>\n",
       "    </tr>\n",
       "    <tr>\n",
       "      <th>min</th>\n",
       "      <td>0.040000</td>\n",
       "    </tr>\n",
       "    <tr>\n",
       "      <th>25%</th>\n",
       "      <td>0.120000</td>\n",
       "    </tr>\n",
       "    <tr>\n",
       "      <th>50%</th>\n",
       "      <td>0.730000</td>\n",
       "    </tr>\n",
       "    <tr>\n",
       "      <th>75%</th>\n",
       "      <td>1.000000</td>\n",
       "    </tr>\n",
       "    <tr>\n",
       "      <th>max</th>\n",
       "      <td>10.000000</td>\n",
       "    </tr>\n",
       "  </tbody>\n",
       "</table>\n",
       "</div>"
      ],
      "text/plain": [
       "       analyte_value\n",
       "count   16136.000000\n",
       "mean        0.738161\n",
       "std         0.622854\n",
       "min         0.040000\n",
       "25%         0.120000\n",
       "50%         0.730000\n",
       "75%         1.000000\n",
       "max        10.000000"
      ]
     },
     "execution_count": 146,
     "metadata": {},
     "output_type": "execute_result"
    }
   ],
   "source": [
    "df_drinking.describe()"
   ]
  },
  {
   "cell_type": "markdown",
   "metadata": {},
   "source": [
    "### Exploratory Data Analysis"
   ]
  },
  {
   "cell_type": "code",
   "execution_count": 147,
   "metadata": {},
   "outputs": [
    {
     "data": {
      "text/plain": [
       "date_sample               0\n",
       "sample_source             0\n",
       "sample_id                 0\n",
       "analyte                   0\n",
       "value_qualifier       13469\n",
       "analyte_value          5174\n",
       "value_units               0\n",
       "source_description        0\n",
       "dtype: int64"
      ]
     },
     "execution_count": 147,
     "metadata": {},
     "output_type": "execute_result"
    }
   ],
   "source": [
    "missingdf_drinking = df_drinking.isna().sum()\n",
    "missingdf_drinking"
   ]
  },
  {
   "cell_type": "code",
   "execution_count": 148,
   "metadata": {},
   "outputs": [
    {
     "data": {
      "text/plain": [
       "<AxesSubplot:title={'center':'Count of Nulls'}>"
      ]
     },
     "execution_count": 148,
     "metadata": {},
     "output_type": "execute_result"
    },
    {
     "data": {
      "image/png": "[encoded data removed]",
      "text/plain": [
       "<Figure size 1080x360 with 1 Axes>"
      ]
     },
     "metadata": {
      "needs_background": "light"
     },
     "output_type": "display_data"
    }
   ],
   "source": [
    "plt.figure(figsize=(15,5))\n",
    "plt.title('Count of Nulls')\n",
    "sns.barplot(x=missingdf_drinking.index,y=list(missingdf_drinking))"
   ]
  },
  {
   "cell_type": "markdown",
   "metadata": {},
   "source": [
    "It looks like only value_qualifierand analyte_value have missing values which upon closer inspection of the data, we can see is because these values correspond to the analyte variable. Depending on the analyte, we might need a qualifier for the analyte or a value. When only one is necessary, the other column is null. In this case, we do not want to remove the rows that contain null values."
   ]
  },
  {
   "cell_type": "code",
   "execution_count": 149,
   "metadata": {},
   "outputs": [
    {
     "data": {
      "text/plain": [
       "array(['FLUORIDE', 'COLOR', 'TON', 'TURBIDITY'], dtype=object)"
      ]
     },
     "execution_count": 149,
     "metadata": {},
     "output_type": "execute_result"
    }
   ],
   "source": [
    "df_drinking['analyte'].unique()"
   ]
  },
  {
   "cell_type": "code",
   "execution_count": 150,
   "metadata": {},
   "outputs": [
    {
     "data": {
      "text/plain": [
       "<AxesSubplot:title={'center':'Count of Different Analytes in Dataset'}, xlabel='Number of Samples', ylabel='Analyte'>"
      ]
     },
     "execution_count": 150,
     "metadata": {},
     "output_type": "execute_result"
    },
    {
     "data": {
      "image/png": "[encoded data removed]",
      "text/plain": [
       "<Figure size 1080x360 with 1 Axes>"
      ]
     },
     "metadata": {
      "needs_background": "light"
     },
     "output_type": "display_data"
    }
   ],
   "source": [
    "f_vc = plt.figure(figsize=(15,5))\n",
    "axs_vc = plt.subplot()\n",
    "plt.title(\"Count of Different Analytes in Dataset\")\n",
    "plt.xlabel(\"Number of Samples\")\n",
    "plt.ylabel(\"Analyte\")\n",
    "axs_vc.bar(df_drinking['analyte'].unique(), df_drinking['analyte'].value_counts())\n",
    "f_vc.gca()"
   ]
  },
  {
   "cell_type": "markdown",
   "metadata": {},
   "source": [
    "Here we can see that this dataset evaluates 4 different analytes in the drinking water, Flouride, Color, TON (Threshold Odor Number), and Trubidity (clearness of water)."
   ]
  },
  {
   "cell_type": "markdown",
   "metadata": {},
   "source": [
    "## Data Cleaning on Drinking Water"
   ]
  },
  {
   "cell_type": "markdown",
   "metadata": {},
   "source": [
    "Having all of the analytes be in the same column is a bit inconvienent so let's do some reformating to make this dataset easier to use."
   ]
  },
  {
   "cell_type": "code",
   "execution_count": 151,
   "metadata": {},
   "outputs": [],
   "source": [
    "df_drinking['fluoride'] = np.nan\n",
    "df_drinking['color'] = np.nan\n",
    "df_drinking['ton'] = np.nan\n",
    "df_drinking['turbidity'] = np.nan"
   ]
  },
  {
   "cell_type": "code",
   "execution_count": 152,
   "metadata": {},
   "outputs": [
    {
     "data": {
      "text/html": [
       "<div>\n",
       "<style scoped>\n",
       "    .dataframe tbody tr th:only-of-type {\n",
       "        vertical-align: middle;\n",
       "    }\n",
       "\n",
       "    .dataframe tbody tr th {\n",
       "        vertical-align: top;\n",
       "    }\n",
       "\n",
       "    .dataframe thead th {\n",
       "        text-align: right;\n",
       "    }\n",
       "</style>\n",
       "<table border=\"1\" class=\"dataframe\">\n",
       "  <thead>\n",
       "    <tr style=\"text-align: right;\">\n",
       "      <th></th>\n",
       "      <th>date_sample</th>\n",
       "      <th>sample_source</th>\n",
       "      <th>sample_id</th>\n",
       "      <th>analyte</th>\n",
       "      <th>value_qualifier</th>\n",
       "      <th>analyte_value</th>\n",
       "      <th>value_units</th>\n",
       "      <th>source_description</th>\n",
       "      <th>fluoride</th>\n",
       "      <th>color</th>\n",
       "      <th>ton</th>\n",
       "      <th>turbidity</th>\n",
       "    </tr>\n",
       "  </thead>\n",
       "  <tbody>\n",
       "    <tr>\n",
       "      <th>0</th>\n",
       "      <td>2023-01-01</td>\n",
       "      <td>174 SYS</td>\n",
       "      <td>W1543804</td>\n",
       "      <td>FLUORIDE</td>\n",
       "      <td>NaN</td>\n",
       "      <td>0.786</td>\n",
       "      <td>MG/L</td>\n",
       "      <td>3250 Camino Del Rio North; Sample Stanchion</td>\n",
       "      <td>NaN</td>\n",
       "      <td>NaN</td>\n",
       "      <td>NaN</td>\n",
       "      <td>NaN</td>\n",
       "    </tr>\n",
       "    <tr>\n",
       "      <th>1</th>\n",
       "      <td>2023-01-02</td>\n",
       "      <td>215 SYS</td>\n",
       "      <td>W1543809</td>\n",
       "      <td>FLUORIDE</td>\n",
       "      <td>NaN</td>\n",
       "      <td>0.760</td>\n",
       "      <td>MG/L</td>\n",
       "      <td>Across from 5105 Soledad Rd.</td>\n",
       "      <td>NaN</td>\n",
       "      <td>NaN</td>\n",
       "      <td>NaN</td>\n",
       "      <td>NaN</td>\n",
       "    </tr>\n",
       "    <tr>\n",
       "      <th>2</th>\n",
       "      <td>2023-01-03</td>\n",
       "      <td>128 SYS</td>\n",
       "      <td>W1545521</td>\n",
       "      <td>COLOR</td>\n",
       "      <td>ND</td>\n",
       "      <td>NaN</td>\n",
       "      <td>COLOR</td>\n",
       "      <td>Firethorn St/Palm Ave; Sample Stanchion</td>\n",
       "      <td>NaN</td>\n",
       "      <td>NaN</td>\n",
       "      <td>NaN</td>\n",
       "      <td>NaN</td>\n",
       "    </tr>\n",
       "    <tr>\n",
       "      <th>3</th>\n",
       "      <td>2023-01-03</td>\n",
       "      <td>128 SYS</td>\n",
       "      <td>W1545521</td>\n",
       "      <td>TON</td>\n",
       "      <td>NaN</td>\n",
       "      <td>1.400</td>\n",
       "      <td>ODOR</td>\n",
       "      <td>Firethorn St/Palm Ave; Sample Stanchion</td>\n",
       "      <td>NaN</td>\n",
       "      <td>NaN</td>\n",
       "      <td>NaN</td>\n",
       "      <td>NaN</td>\n",
       "    </tr>\n",
       "    <tr>\n",
       "      <th>4</th>\n",
       "      <td>2023-01-03</td>\n",
       "      <td>128 SYS</td>\n",
       "      <td>W1545521</td>\n",
       "      <td>TURBIDITY</td>\n",
       "      <td>NaN</td>\n",
       "      <td>0.050</td>\n",
       "      <td>NTU</td>\n",
       "      <td>Firethorn St/Palm Ave; Sample Stanchion</td>\n",
       "      <td>NaN</td>\n",
       "      <td>NaN</td>\n",
       "      <td>NaN</td>\n",
       "      <td>NaN</td>\n",
       "    </tr>\n",
       "  </tbody>\n",
       "</table>\n",
       "</div>"
      ],
      "text/plain": [
       "  date_sample sample_source sample_id    analyte value_qualifier  \\\n",
       "0  2023-01-01       174 SYS  W1543804   FLUORIDE             NaN   \n",
       "1  2023-01-02       215 SYS  W1543809   FLUORIDE             NaN   \n",
       "2  2023-01-03       128 SYS  W1545521      COLOR              ND   \n",
       "3  2023-01-03       128 SYS  W1545521        TON             NaN   \n",
       "4  2023-01-03       128 SYS  W1545521  TURBIDITY             NaN   \n",
       "\n",
       "   analyte_value value_units                           source_description  \\\n",
       "0          0.786        MG/L  3250 Camino Del Rio North; Sample Stanchion   \n",
       "1          0.760        MG/L                 Across from 5105 Soledad Rd.   \n",
       "2            NaN       COLOR      Firethorn St/Palm Ave; Sample Stanchion   \n",
       "3          1.400        ODOR      Firethorn St/Palm Ave; Sample Stanchion   \n",
       "4          0.050         NTU      Firethorn St/Palm Ave; Sample Stanchion   \n",
       "\n",
       "   fluoride  color  ton  turbidity  \n",
       "0       NaN    NaN  NaN        NaN  \n",
       "1       NaN    NaN  NaN        NaN  \n",
       "2       NaN    NaN  NaN        NaN  \n",
       "3       NaN    NaN  NaN        NaN  \n",
       "4       NaN    NaN  NaN        NaN  "
      ]
     },
     "execution_count": 152,
     "metadata": {},
     "output_type": "execute_result"
    }
   ],
   "source": [
    "df_drinking.head()"
   ]
  },
  {
   "cell_type": "code",
   "execution_count": 153,
   "metadata": {},
   "outputs": [],
   "source": [
    "for i, row in df_drinking.iterrows():\n",
    "    if row['analyte'] == 'FLUORIDE':\n",
    "        df_drinking.at[i, 'fluoride'] = row['analyte_value']\n",
    "    elif row['analyte'] == 'COLOR':\n",
    "        df_drinking.at[i, 'color'] = row['value_qualifier']\n",
    "    elif row['analyte'] == 'TON':\n",
    "        df_drinking.at[i, 'ton'] = row['analyte_value']\n",
    "    elif row['analyte'] == 'TURBIDITY':\n",
    "        df_drinking.at[i, 'turbidity'] = row['analyte_value']"
   ]
  },
  {
   "cell_type": "code",
   "execution_count": 154,
   "metadata": {},
   "outputs": [
    {
     "data": {
      "text/html": [
       "<div>\n",
       "<style scoped>\n",
       "    .dataframe tbody tr th:only-of-type {\n",
       "        vertical-align: middle;\n",
       "    }\n",
       "\n",
       "    .dataframe tbody tr th {\n",
       "        vertical-align: top;\n",
       "    }\n",
       "\n",
       "    .dataframe thead th {\n",
       "        text-align: right;\n",
       "    }\n",
       "</style>\n",
       "<table border=\"1\" class=\"dataframe\">\n",
       "  <thead>\n",
       "    <tr style=\"text-align: right;\">\n",
       "      <th></th>\n",
       "      <th>date_sample</th>\n",
       "      <th>sample_source</th>\n",
       "      <th>sample_id</th>\n",
       "      <th>analyte</th>\n",
       "      <th>value_qualifier</th>\n",
       "      <th>analyte_value</th>\n",
       "      <th>value_units</th>\n",
       "      <th>source_description</th>\n",
       "      <th>fluoride</th>\n",
       "      <th>color</th>\n",
       "      <th>ton</th>\n",
       "      <th>turbidity</th>\n",
       "    </tr>\n",
       "  </thead>\n",
       "  <tbody>\n",
       "    <tr>\n",
       "      <th>0</th>\n",
       "      <td>2023-01-01</td>\n",
       "      <td>174 SYS</td>\n",
       "      <td>W1543804</td>\n",
       "      <td>FLUORIDE</td>\n",
       "      <td>NaN</td>\n",
       "      <td>0.786</td>\n",
       "      <td>MG/L</td>\n",
       "      <td>3250 Camino Del Rio North; Sample Stanchion</td>\n",
       "      <td>0.786</td>\n",
       "      <td>NaN</td>\n",
       "      <td>NaN</td>\n",
       "      <td>NaN</td>\n",
       "    </tr>\n",
       "    <tr>\n",
       "      <th>1</th>\n",
       "      <td>2023-01-02</td>\n",
       "      <td>215 SYS</td>\n",
       "      <td>W1543809</td>\n",
       "      <td>FLUORIDE</td>\n",
       "      <td>NaN</td>\n",
       "      <td>0.760</td>\n",
       "      <td>MG/L</td>\n",
       "      <td>Across from 5105 Soledad Rd.</td>\n",
       "      <td>0.760</td>\n",
       "      <td>NaN</td>\n",
       "      <td>NaN</td>\n",
       "      <td>NaN</td>\n",
       "    </tr>\n",
       "    <tr>\n",
       "      <th>2</th>\n",
       "      <td>2023-01-03</td>\n",
       "      <td>128 SYS</td>\n",
       "      <td>W1545521</td>\n",
       "      <td>COLOR</td>\n",
       "      <td>ND</td>\n",
       "      <td>NaN</td>\n",
       "      <td>COLOR</td>\n",
       "      <td>Firethorn St/Palm Ave; Sample Stanchion</td>\n",
       "      <td>NaN</td>\n",
       "      <td>ND</td>\n",
       "      <td>NaN</td>\n",
       "      <td>NaN</td>\n",
       "    </tr>\n",
       "    <tr>\n",
       "      <th>3</th>\n",
       "      <td>2023-01-03</td>\n",
       "      <td>128 SYS</td>\n",
       "      <td>W1545521</td>\n",
       "      <td>TON</td>\n",
       "      <td>NaN</td>\n",
       "      <td>1.400</td>\n",
       "      <td>ODOR</td>\n",
       "      <td>Firethorn St/Palm Ave; Sample Stanchion</td>\n",
       "      <td>NaN</td>\n",
       "      <td>NaN</td>\n",
       "      <td>1.4</td>\n",
       "      <td>NaN</td>\n",
       "    </tr>\n",
       "    <tr>\n",
       "      <th>4</th>\n",
       "      <td>2023-01-03</td>\n",
       "      <td>128 SYS</td>\n",
       "      <td>W1545521</td>\n",
       "      <td>TURBIDITY</td>\n",
       "      <td>NaN</td>\n",
       "      <td>0.050</td>\n",
       "      <td>NTU</td>\n",
       "      <td>Firethorn St/Palm Ave; Sample Stanchion</td>\n",
       "      <td>NaN</td>\n",
       "      <td>NaN</td>\n",
       "      <td>NaN</td>\n",
       "      <td>0.05</td>\n",
       "    </tr>\n",
       "  </tbody>\n",
       "</table>\n",
       "</div>"
      ],
      "text/plain": [
       "  date_sample sample_source sample_id    analyte value_qualifier  \\\n",
       "0  2023-01-01       174 SYS  W1543804   FLUORIDE             NaN   \n",
       "1  2023-01-02       215 SYS  W1543809   FLUORIDE             NaN   \n",
       "2  2023-01-03       128 SYS  W1545521      COLOR              ND   \n",
       "3  2023-01-03       128 SYS  W1545521        TON             NaN   \n",
       "4  2023-01-03       128 SYS  W1545521  TURBIDITY             NaN   \n",
       "\n",
       "   analyte_value value_units                           source_description  \\\n",
       "0          0.786        MG/L  3250 Camino Del Rio North; Sample Stanchion   \n",
       "1          0.760        MG/L                 Across from 5105 Soledad Rd.   \n",
       "2            NaN       COLOR      Firethorn St/Palm Ave; Sample Stanchion   \n",
       "3          1.400        ODOR      Firethorn St/Palm Ave; Sample Stanchion   \n",
       "4          0.050         NTU      Firethorn St/Palm Ave; Sample Stanchion   \n",
       "\n",
       "   fluoride color  ton  turbidity  \n",
       "0     0.786   NaN  NaN        NaN  \n",
       "1     0.760   NaN  NaN        NaN  \n",
       "2       NaN    ND  NaN        NaN  \n",
       "3       NaN   NaN  1.4        NaN  \n",
       "4       NaN   NaN  NaN       0.05  "
      ]
     },
     "execution_count": 154,
     "metadata": {},
     "output_type": "execute_result"
    }
   ],
   "source": [
    "df_drinking.head()"
   ]
  },
  {
   "cell_type": "markdown",
   "metadata": {},
   "source": [
    "Now we've managed to seperate out the different analytes into their own columns. We can now go ahead and remove the data we no longer need."
   ]
  },
  {
   "cell_type": "code",
   "execution_count": 155,
   "metadata": {},
   "outputs": [
    {
     "data": {
      "text/html": [
       "<div>\n",
       "<style scoped>\n",
       "    .dataframe tbody tr th:only-of-type {\n",
       "        vertical-align: middle;\n",
       "    }\n",
       "\n",
       "    .dataframe tbody tr th {\n",
       "        vertical-align: top;\n",
       "    }\n",
       "\n",
       "    .dataframe thead th {\n",
       "        text-align: right;\n",
       "    }\n",
       "</style>\n",
       "<table border=\"1\" class=\"dataframe\">\n",
       "  <thead>\n",
       "    <tr style=\"text-align: right;\">\n",
       "      <th></th>\n",
       "      <th>date_sample</th>\n",
       "      <th>sample_source</th>\n",
       "      <th>sample_id</th>\n",
       "      <th>fluoride</th>\n",
       "      <th>color</th>\n",
       "      <th>ton</th>\n",
       "      <th>turbidity</th>\n",
       "      <th>source_description</th>\n",
       "    </tr>\n",
       "  </thead>\n",
       "  <tbody>\n",
       "    <tr>\n",
       "      <th>0</th>\n",
       "      <td>2023-01-01</td>\n",
       "      <td>174 SYS</td>\n",
       "      <td>W1543804</td>\n",
       "      <td>0.786</td>\n",
       "      <td>NaN</td>\n",
       "      <td>NaN</td>\n",
       "      <td>NaN</td>\n",
       "      <td>3250 Camino Del Rio North; Sample Stanchion</td>\n",
       "    </tr>\n",
       "    <tr>\n",
       "      <th>1</th>\n",
       "      <td>2023-01-02</td>\n",
       "      <td>215 SYS</td>\n",
       "      <td>W1543809</td>\n",
       "      <td>0.760</td>\n",
       "      <td>NaN</td>\n",
       "      <td>NaN</td>\n",
       "      <td>NaN</td>\n",
       "      <td>Across from 5105 Soledad Rd.</td>\n",
       "    </tr>\n",
       "    <tr>\n",
       "      <th>2</th>\n",
       "      <td>2023-01-03</td>\n",
       "      <td>128 SYS</td>\n",
       "      <td>W1545521</td>\n",
       "      <td>NaN</td>\n",
       "      <td>ND</td>\n",
       "      <td>NaN</td>\n",
       "      <td>NaN</td>\n",
       "      <td>Firethorn St/Palm Ave; Sample Stanchion</td>\n",
       "    </tr>\n",
       "    <tr>\n",
       "      <th>3</th>\n",
       "      <td>2023-01-03</td>\n",
       "      <td>128 SYS</td>\n",
       "      <td>W1545521</td>\n",
       "      <td>NaN</td>\n",
       "      <td>NaN</td>\n",
       "      <td>1.4</td>\n",
       "      <td>NaN</td>\n",
       "      <td>Firethorn St/Palm Ave; Sample Stanchion</td>\n",
       "    </tr>\n",
       "    <tr>\n",
       "      <th>4</th>\n",
       "      <td>2023-01-03</td>\n",
       "      <td>128 SYS</td>\n",
       "      <td>W1545521</td>\n",
       "      <td>NaN</td>\n",
       "      <td>NaN</td>\n",
       "      <td>NaN</td>\n",
       "      <td>0.05</td>\n",
       "      <td>Firethorn St/Palm Ave; Sample Stanchion</td>\n",
       "    </tr>\n",
       "  </tbody>\n",
       "</table>\n",
       "</div>"
      ],
      "text/plain": [
       "  date_sample sample_source sample_id  fluoride color  ton  turbidity  \\\n",
       "0  2023-01-01       174 SYS  W1543804     0.786   NaN  NaN        NaN   \n",
       "1  2023-01-02       215 SYS  W1543809     0.760   NaN  NaN        NaN   \n",
       "2  2023-01-03       128 SYS  W1545521       NaN    ND  NaN        NaN   \n",
       "3  2023-01-03       128 SYS  W1545521       NaN   NaN  1.4        NaN   \n",
       "4  2023-01-03       128 SYS  W1545521       NaN   NaN  NaN       0.05   \n",
       "\n",
       "                            source_description  \n",
       "0  3250 Camino Del Rio North; Sample Stanchion  \n",
       "1                 Across from 5105 Soledad Rd.  \n",
       "2      Firethorn St/Palm Ave; Sample Stanchion  \n",
       "3      Firethorn St/Palm Ave; Sample Stanchion  \n",
       "4      Firethorn St/Palm Ave; Sample Stanchion  "
      ]
     },
     "execution_count": 155,
     "metadata": {},
     "output_type": "execute_result"
    }
   ],
   "source": [
    "df_dw2 = df_drinking.drop(['analyte', 'value_qualifier', 'analyte_value', 'value_units'], axis = 1)\n",
    "df_dw2 = df_dw2.iloc[:,[0,1,2,4,5,6,7,3]]\n",
    "df_dw2.head()"
   ]
  },
  {
   "cell_type": "code",
   "execution_count": 156,
   "metadata": {},
   "outputs": [
    {
     "data": {
      "text/html": [
       "<div>\n",
       "<style scoped>\n",
       "    .dataframe tbody tr th:only-of-type {\n",
       "        vertical-align: middle;\n",
       "    }\n",
       "\n",
       "    .dataframe tbody tr th {\n",
       "        vertical-align: top;\n",
       "    }\n",
       "\n",
       "    .dataframe thead th {\n",
       "        text-align: right;\n",
       "    }\n",
       "</style>\n",
       "<table border=\"1\" class=\"dataframe\">\n",
       "  <thead>\n",
       "    <tr style=\"text-align: right;\">\n",
       "      <th></th>\n",
       "      <th>date_sample</th>\n",
       "      <th>sample_source</th>\n",
       "      <th>fluoride</th>\n",
       "      <th>color</th>\n",
       "      <th>ton</th>\n",
       "      <th>turbidity</th>\n",
       "      <th>source_description</th>\n",
       "    </tr>\n",
       "    <tr>\n",
       "      <th>sample_id</th>\n",
       "      <th></th>\n",
       "      <th></th>\n",
       "      <th></th>\n",
       "      <th></th>\n",
       "      <th></th>\n",
       "      <th></th>\n",
       "      <th></th>\n",
       "    </tr>\n",
       "  </thead>\n",
       "  <tbody>\n",
       "    <tr>\n",
       "      <th>W1083956</th>\n",
       "      <td>2016-01-01</td>\n",
       "      <td>249A SYS</td>\n",
       "      <td>0.651</td>\n",
       "      <td>NaN</td>\n",
       "      <td>NaN</td>\n",
       "      <td>NaN</td>\n",
       "      <td>6429 Glidden St.; Sample Stanchion</td>\n",
       "    </tr>\n",
       "    <tr>\n",
       "      <th>W1084373</th>\n",
       "      <td>2016-01-02</td>\n",
       "      <td>281 SYS</td>\n",
       "      <td>0.666</td>\n",
       "      <td>NaN</td>\n",
       "      <td>NaN</td>\n",
       "      <td>NaN</td>\n",
       "      <td>6831 Monte Verde Dr</td>\n",
       "    </tr>\n",
       "    <tr>\n",
       "      <th>W1084377</th>\n",
       "      <td>2016-01-03</td>\n",
       "      <td>150 SYS</td>\n",
       "      <td>0.681</td>\n",
       "      <td>NaN</td>\n",
       "      <td>NaN</td>\n",
       "      <td>NaN</td>\n",
       "      <td>Acorn St &amp; 62nd St @ Fire Station</td>\n",
       "    </tr>\n",
       "    <tr>\n",
       "      <th>W1084382</th>\n",
       "      <td>2016-01-09</td>\n",
       "      <td>55A SYS</td>\n",
       "      <td>0.666</td>\n",
       "      <td>NaN</td>\n",
       "      <td>NaN</td>\n",
       "      <td>NaN</td>\n",
       "      <td>5183 Arvinels Ave.</td>\n",
       "    </tr>\n",
       "    <tr>\n",
       "      <th>W1084387</th>\n",
       "      <td>2016-01-10</td>\n",
       "      <td>174 SYS</td>\n",
       "      <td>0.674</td>\n",
       "      <td>NaN</td>\n",
       "      <td>NaN</td>\n",
       "      <td>NaN</td>\n",
       "      <td>3250 Camino Del Rio North; Sample Stanchion</td>\n",
       "    </tr>\n",
       "  </tbody>\n",
       "</table>\n",
       "</div>"
      ],
      "text/plain": [
       "          date_sample sample_source  fluoride color  ton  turbidity  \\\n",
       "sample_id                                                             \n",
       "W1083956   2016-01-01      249A SYS     0.651   NaN  NaN        NaN   \n",
       "W1084373   2016-01-02       281 SYS     0.666   NaN  NaN        NaN   \n",
       "W1084377   2016-01-03       150 SYS     0.681   NaN  NaN        NaN   \n",
       "W1084382   2016-01-09       55A SYS     0.666   NaN  NaN        NaN   \n",
       "W1084387   2016-01-10       174 SYS     0.674   NaN  NaN        NaN   \n",
       "\n",
       "                                    source_description  \n",
       "sample_id                                               \n",
       "W1083956            6429 Glidden St.; Sample Stanchion  \n",
       "W1084373                           6831 Monte Verde Dr  \n",
       "W1084377             Acorn St & 62nd St @ Fire Station  \n",
       "W1084382                            5183 Arvinels Ave.  \n",
       "W1084387   3250 Camino Del Rio North; Sample Stanchion  "
      ]
     },
     "execution_count": 156,
     "metadata": {},
     "output_type": "execute_result"
    }
   ],
   "source": [
    "df_dw3 = df_dw2.groupby(df_dw2['sample_id']).aggregate('first')\n",
    "df_dw3 = df_dw3.fillna(value=np.nan)\n",
    "df_dw3.head()"
   ]
  },
  {
   "cell_type": "markdown",
   "metadata": {},
   "source": [
    "## EDA on Drinking Water (Continued)"
   ]
  },
  {
   "cell_type": "code",
   "execution_count": 157,
   "metadata": {},
   "outputs": [
    {
     "data": {
      "text/html": [
       "<div>\n",
       "<style scoped>\n",
       "    .dataframe tbody tr th:only-of-type {\n",
       "        vertical-align: middle;\n",
       "    }\n",
       "\n",
       "    .dataframe tbody tr th {\n",
       "        vertical-align: top;\n",
       "    }\n",
       "\n",
       "    .dataframe thead th {\n",
       "        text-align: right;\n",
       "    }\n",
       "</style>\n",
       "<table border=\"1\" class=\"dataframe\">\n",
       "  <thead>\n",
       "    <tr style=\"text-align: right;\">\n",
       "      <th></th>\n",
       "      <th>fluoride</th>\n",
       "      <th>ton</th>\n",
       "      <th>turbidity</th>\n",
       "    </tr>\n",
       "  </thead>\n",
       "  <tbody>\n",
       "    <tr>\n",
       "      <th>count</th>\n",
       "      <td>2552.000000</td>\n",
       "      <td>6081.000000</td>\n",
       "      <td>5636.000000</td>\n",
       "    </tr>\n",
       "    <tr>\n",
       "      <th>mean</th>\n",
       "      <td>0.553918</td>\n",
       "      <td>1.155139</td>\n",
       "      <td>0.109823</td>\n",
       "    </tr>\n",
       "    <tr>\n",
       "      <th>std</th>\n",
       "      <td>0.136168</td>\n",
       "      <td>0.307794</td>\n",
       "      <td>0.073288</td>\n",
       "    </tr>\n",
       "    <tr>\n",
       "      <th>min</th>\n",
       "      <td>0.094000</td>\n",
       "      <td>1.000000</td>\n",
       "      <td>0.040000</td>\n",
       "    </tr>\n",
       "    <tr>\n",
       "      <th>25%</th>\n",
       "      <td>0.496000</td>\n",
       "      <td>1.000000</td>\n",
       "      <td>0.080000</td>\n",
       "    </tr>\n",
       "    <tr>\n",
       "      <th>50%</th>\n",
       "      <td>0.573000</td>\n",
       "      <td>1.000000</td>\n",
       "      <td>0.100000</td>\n",
       "    </tr>\n",
       "    <tr>\n",
       "      <th>75%</th>\n",
       "      <td>0.647000</td>\n",
       "      <td>1.400000</td>\n",
       "      <td>0.120000</td>\n",
       "    </tr>\n",
       "    <tr>\n",
       "      <th>max</th>\n",
       "      <td>1.070000</td>\n",
       "      <td>4.000000</td>\n",
       "      <td>3.400000</td>\n",
       "    </tr>\n",
       "  </tbody>\n",
       "</table>\n",
       "</div>"
      ],
      "text/plain": [
       "          fluoride          ton    turbidity\n",
       "count  2552.000000  6081.000000  5636.000000\n",
       "mean      0.553918     1.155139     0.109823\n",
       "std       0.136168     0.307794     0.073288\n",
       "min       0.094000     1.000000     0.040000\n",
       "25%       0.496000     1.000000     0.080000\n",
       "50%       0.573000     1.000000     0.100000\n",
       "75%       0.647000     1.400000     0.120000\n",
       "max       1.070000     4.000000     3.400000"
      ]
     },
     "execution_count": 157,
     "metadata": {},
     "output_type": "execute_result"
    }
   ],
   "source": [
    "df_dw3.describe()"
   ]
  },
  {
   "cell_type": "code",
   "execution_count": 158,
   "metadata": {},
   "outputs": [
    {
     "data": {
      "text/plain": [
       "array([[<AxesSubplot:title={'center':'fluoride'}>,\n",
       "        <AxesSubplot:title={'center':'ton'}>],\n",
       "       [<AxesSubplot:title={'center':'turbidity'}>, <AxesSubplot:>]],\n",
       "      dtype=object)"
      ]
     },
     "execution_count": 158,
     "metadata": {},
     "output_type": "execute_result"
    },
    {
     "data": {
      "image/png": "[encoded data removed]",
      "text/plain": [
       "<Figure size 432x288 with 4 Axes>"
      ]
     },
     "metadata": {
      "needs_background": "light"
     },
     "output_type": "display_data"
    }
   ],
   "source": [
    "df_dw3.hist(column = ['fluoride', 'ton', 'turbidity'])"
   ]
  },
  {
   "cell_type": "code",
   "execution_count": 159,
   "metadata": {},
   "outputs": [
    {
     "data": {
      "text/plain": [
       "<AxesSubplot:xlabel='sample_id'>"
      ]
     },
     "execution_count": 159,
     "metadata": {},
     "output_type": "execute_result"
    },
    {
     "data": {
      "image/png": "[encoded data removed]",
      "text/plain": [
       "<Figure size 432x288 with 1 Axes>"
      ]
     },
     "metadata": {
      "needs_background": "light"
     },
     "output_type": "display_data"
    }
   ],
   "source": [
    "df_dw3['ton'].plot.line()"
   ]
  },
  {
   "cell_type": "code",
   "execution_count": 160,
   "metadata": {},
   "outputs": [
    {
     "data": {
      "text/plain": [
       "<AxesSubplot:xlabel='sample_id'>"
      ]
     },
     "execution_count": 160,
     "metadata": {},
     "output_type": "execute_result"
    },
    {
     "data": {
      "image/png": "[encoded data removed]",
      "text/plain": [
       "<Figure size 432x288 with 1 Axes>"
      ]
     },
     "metadata": {
      "needs_background": "light"
     },
     "output_type": "display_data"
    }
   ],
   "source": [
    "df_dw3['turbidity'].plot.line()"
   ]
  },
  {
   "cell_type": "markdown",
   "metadata": {},
   "source": [
    "## EDA on Effluent Water"
   ]
  },
  {
   "cell_type": "markdown",
   "metadata": {},
   "source": [
    "### Data information"
   ]
  },
  {
   "cell_type": "code",
   "execution_count": 161,
   "metadata": {},
   "outputs": [
    {
     "data": {
      "text/plain": [
       "(6197, 8)"
      ]
     },
     "execution_count": 161,
     "metadata": {},
     "output_type": "execute_result"
    }
   ],
   "source": [
    "df_effluent.shape"
   ]
  },
  {
   "cell_type": "markdown",
   "metadata": {},
   "source": [
    "Our effluent water dataset has eight different variables and over 6000 different samples taken."
   ]
  },
  {
   "cell_type": "code",
   "execution_count": 162,
   "metadata": {},
   "outputs": [
    {
     "name": "stdout",
     "output_type": "stream",
     "text": [
      "<class 'pandas.core.frame.DataFrame'>\n",
      "RangeIndex: 6197 entries, 0 to 6196\n",
      "Data columns (total 8 columns):\n",
      " #   Column              Non-Null Count  Dtype  \n",
      "---  ------              --------------  -----  \n",
      " 0   date_sample         6197 non-null   object \n",
      " 1   sample_source       6197 non-null   object \n",
      " 2   sample_id           6197 non-null   object \n",
      " 3   analyte             6197 non-null   object \n",
      " 4   value_qualifier     250 non-null    object \n",
      " 5   analyte_value       5867 non-null   float64\n",
      " 6   value_units         6197 non-null   object \n",
      " 7   source_description  6197 non-null   object \n",
      "dtypes: float64(1), object(7)\n",
      "memory usage: 387.4+ KB\n"
     ]
    }
   ],
   "source": [
    "df_effluent.info()"
   ]
  },
  {
   "cell_type": "markdown",
   "metadata": {},
   "source": [
    "We can see that most variables are objects, while analyte_value is a float."
   ]
  },
  {
   "cell_type": "code",
   "execution_count": 163,
   "metadata": {},
   "outputs": [
    {
     "data": {
      "text/html": [
       "<div>\n",
       "<style scoped>\n",
       "    .dataframe tbody tr th:only-of-type {\n",
       "        vertical-align: middle;\n",
       "    }\n",
       "\n",
       "    .dataframe tbody tr th {\n",
       "        vertical-align: top;\n",
       "    }\n",
       "\n",
       "    .dataframe thead th {\n",
       "        text-align: right;\n",
       "    }\n",
       "</style>\n",
       "<table border=\"1\" class=\"dataframe\">\n",
       "  <thead>\n",
       "    <tr style=\"text-align: right;\">\n",
       "      <th></th>\n",
       "      <th>analyte_value</th>\n",
       "    </tr>\n",
       "  </thead>\n",
       "  <tbody>\n",
       "    <tr>\n",
       "      <th>count</th>\n",
       "      <td>5867.000000</td>\n",
       "    </tr>\n",
       "    <tr>\n",
       "      <th>mean</th>\n",
       "      <td>4.957859</td>\n",
       "    </tr>\n",
       "    <tr>\n",
       "      <th>std</th>\n",
       "      <td>8.186759</td>\n",
       "    </tr>\n",
       "    <tr>\n",
       "      <th>min</th>\n",
       "      <td>0.020300</td>\n",
       "    </tr>\n",
       "    <tr>\n",
       "      <th>25%</th>\n",
       "      <td>0.518000</td>\n",
       "    </tr>\n",
       "    <tr>\n",
       "      <th>50%</th>\n",
       "      <td>0.686000</td>\n",
       "    </tr>\n",
       "    <tr>\n",
       "      <th>75%</th>\n",
       "      <td>7.880000</td>\n",
       "    </tr>\n",
       "    <tr>\n",
       "      <th>max</th>\n",
       "      <td>180.500000</td>\n",
       "    </tr>\n",
       "  </tbody>\n",
       "</table>\n",
       "</div>"
      ],
      "text/plain": [
       "       analyte_value\n",
       "count    5867.000000\n",
       "mean        4.957859\n",
       "std         8.186759\n",
       "min         0.020300\n",
       "25%         0.518000\n",
       "50%         0.686000\n",
       "75%         7.880000\n",
       "max       180.500000"
      ]
     },
     "execution_count": 163,
     "metadata": {},
     "output_type": "execute_result"
    }
   ],
   "source": [
    "df_effluent.describe()"
   ]
  },
  {
   "cell_type": "markdown",
   "metadata": {},
   "source": [
    "### Exploratory Data Analysis"
   ]
  },
  {
   "cell_type": "code",
   "execution_count": 164,
   "metadata": {},
   "outputs": [
    {
     "data": {
      "text/plain": [
       "date_sample              0\n",
       "sample_source            0\n",
       "sample_id                0\n",
       "analyte                  0\n",
       "value_qualifier       5947\n",
       "analyte_value          330\n",
       "value_units              0\n",
       "source_description       0\n",
       "dtype: int64"
      ]
     },
     "execution_count": 164,
     "metadata": {},
     "output_type": "execute_result"
    }
   ],
   "source": [
    "missingdf_effluent = df_effluent.isna().sum()\n",
    "missingdf_effluent"
   ]
  },
  {
   "cell_type": "code",
   "execution_count": 165,
   "metadata": {},
   "outputs": [
    {
     "data": {
      "text/plain": [
       "<AxesSubplot:title={'center':'Count of Nulls'}>"
      ]
     },
     "execution_count": 165,
     "metadata": {},
     "output_type": "execute_result"
    },
    {
     "data": {
      "image/png": "[encoded data removed]",
      "text/plain": [
       "<Figure size 1080x360 with 1 Axes>"
      ]
     },
     "metadata": {
      "needs_background": "light"
     },
     "output_type": "display_data"
    }
   ],
   "source": [
    "plt.figure(figsize=(15,5))\n",
    "plt.title('Count of Nulls')\n",
    "sns.barplot(x=missingdf_effluent.index,y=list(missingdf_effluent))"
   ]
  },
  {
   "cell_type": "markdown",
   "metadata": {},
   "source": [
    "It looks like only value_qualifierand analyte_value have missing values which upon closer inspection of the data, we can see is because these values correspond to the analyte variable. Depending on the analyte, we might need a qualifier for the analyte or a value. When only one is necessary, the other column is null. In this case, we do not want to remove the rows that contain null values."
   ]
  },
  {
   "cell_type": "code",
   "execution_count": 166,
   "metadata": {},
   "outputs": [
    {
     "data": {
      "text/plain": [
       "array(['Fluoride', 'Chlorate', 'Chlorite', 'pH', 'Total THMs', 'Bromide',\n",
       "       'Chloride', 'Nitrate', 'Ortho Phosphate', 'Sulfate',\n",
       "       'Nitrate (as N)', 'Calcium Hardness', 'Total Hardness'],\n",
       "      dtype=object)"
      ]
     },
     "execution_count": 166,
     "metadata": {},
     "output_type": "execute_result"
    }
   ],
   "source": [
    "df_effluent['analyte'].unique()"
   ]
  },
  {
   "cell_type": "code",
   "execution_count": 167,
   "metadata": {},
   "outputs": [
    {
     "data": {
      "text/plain": [
       "<AxesSubplot:title={'center':'Count of Different Analytes in Dataset'}, xlabel='Number of Samples', ylabel='Analyte'>"
      ]
     },
     "execution_count": 167,
     "metadata": {},
     "output_type": "execute_result"
    },
    {
     "data": {
      "image/png": "[encoded data removed]",
      "text/plain": [
       "<Figure size 1080x360 with 1 Axes>"
      ]
     },
     "metadata": {
      "needs_background": "light"
     },
     "output_type": "display_data"
    }
   ],
   "source": [
    "f_vc = plt.figure(figsize=(15,5))\n",
    "axs_vc = plt.subplot()\n",
    "plt.title(\"Count of Different Analytes in Dataset\")\n",
    "plt.xlabel(\"Number of Samples\")\n",
    "plt.ylabel(\"Analyte\")\n",
    "axs_vc.barh(df_effluent['analyte'].unique(), df_effluent['analyte'].value_counts())\n",
    "f_vc.gca()"
   ]
  },
  {
   "cell_type": "markdown",
   "metadata": {},
   "source": [
    "Here we can see that this dataset evaluates a multitude of different analytes, but only 5 have a substantial amount of samples. These are Total THMs (Trihalomethanes), pH, Chlorite, Chlorate, and Flouride."
   ]
  },
  {
   "cell_type": "code",
   "execution_count": 168,
   "metadata": {},
   "outputs": [
    {
     "data": {
      "text/plain": [
       "Fluoride            2575\n",
       "pH                  1590\n",
       "Total THMs          1270\n",
       "Chlorate             374\n",
       "Chlorite             368\n",
       "Bromide                4\n",
       "Chloride               3\n",
       "Nitrate                3\n",
       "Sulfate                3\n",
       "Nitrate (as N)         3\n",
       "Ortho Phosphate        2\n",
       "Calcium Hardness       1\n",
       "Total Hardness         1\n",
       "Name: analyte, dtype: int64"
      ]
     },
     "execution_count": 168,
     "metadata": {},
     "output_type": "execute_result"
    }
   ],
   "source": [
    "df_effluent['analyte'].value_counts()"
   ]
  },
  {
   "cell_type": "markdown",
   "metadata": {},
   "source": [
    "Looking at the counts in more detail, we can see that for the rest of the analytes, there are only a few samples for each one, which is not enough data to be able to make an analysis on them. Beacuse of this, we will remove all samples of an analyte from our dataset if that analyte has too few samples."
   ]
  },
  {
   "cell_type": "markdown",
   "metadata": {},
   "source": [
    "## Data Cleaning on Effluent Water"
   ]
  },
  {
   "cell_type": "code",
   "execution_count": 169,
   "metadata": {},
   "outputs": [],
   "source": [
    "remove = ['Bromide', 'Chloride', 'Nitrate', 'Sulfate', 'Nitrate (as N)', \n",
    "          'Ortho Phosphate', 'Calcium Hardness', 'Total Hardness']\n",
    "\n",
    "df_ef2 = df_effluent\n",
    "for i, row in df_effluent.iterrows():\n",
    "    if row['analyte'] in remove:\n",
    "        df_ef2 = df_ef2.drop([i])"
   ]
  },
  {
   "cell_type": "code",
   "execution_count": 170,
   "metadata": {},
   "outputs": [
    {
     "data": {
      "text/plain": [
       "Fluoride      2575\n",
       "pH            1590\n",
       "Total THMs    1270\n",
       "Chlorate       374\n",
       "Chlorite       368\n",
       "Name: analyte, dtype: int64"
      ]
     },
     "execution_count": 170,
     "metadata": {},
     "output_type": "execute_result"
    }
   ],
   "source": [
    "df_ef2['analyte'].value_counts()"
   ]
  },
  {
   "cell_type": "code",
   "execution_count": 171,
   "metadata": {},
   "outputs": [
    {
     "data": {
      "text/plain": [
       "<AxesSubplot:title={'center':'Count of Different Analytes in Dataset'}, xlabel='Number of Samples', ylabel='Analyte'>"
      ]
     },
     "execution_count": 171,
     "metadata": {},
     "output_type": "execute_result"
    },
    {
     "data": {
      "image/png": "[encoded data removed]",
      "text/plain": [
       "<Figure size 1080x360 with 1 Axes>"
      ]
     },
     "metadata": {
      "needs_background": "light"
     },
     "output_type": "display_data"
    }
   ],
   "source": [
    "f_vc2 = plt.figure(figsize=(15,5))\n",
    "axs_vc2 = plt.subplot()\n",
    "plt.title(\"Count of Different Analytes in Dataset\")\n",
    "plt.xlabel(\"Number of Samples\")\n",
    "plt.ylabel(\"Analyte\")\n",
    "axs_vc2.barh(df_ef2['analyte'].unique(), df_ef2['analyte'].value_counts())\n",
    "f_vc2.gca()"
   ]
  },
  {
   "cell_type": "markdown",
   "metadata": {},
   "source": [
    "Now that we've removed the extraneous samples we can now start reshaping our dataset as having all of the analytes be in the same column is a bit inconvienent so let's do some reformating to make this dataset easier to use."
   ]
  },
  {
   "cell_type": "code",
   "execution_count": 172,
   "metadata": {},
   "outputs": [],
   "source": [
    "df_ef2['fluoride'] = np.nan\n",
    "df_ef2['ph'] = np.nan\n",
    "df_ef2['thms'] = np.nan\n",
    "df_ef2['chlorate'] = np.nan\n",
    "df_ef2['chlorite'] = np.nan"
   ]
  },
  {
   "cell_type": "code",
   "execution_count": 173,
   "metadata": {},
   "outputs": [
    {
     "data": {
      "text/html": [
       "<div>\n",
       "<style scoped>\n",
       "    .dataframe tbody tr th:only-of-type {\n",
       "        vertical-align: middle;\n",
       "    }\n",
       "\n",
       "    .dataframe tbody tr th {\n",
       "        vertical-align: top;\n",
       "    }\n",
       "\n",
       "    .dataframe thead th {\n",
       "        text-align: right;\n",
       "    }\n",
       "</style>\n",
       "<table border=\"1\" class=\"dataframe\">\n",
       "  <thead>\n",
       "    <tr style=\"text-align: right;\">\n",
       "      <th></th>\n",
       "      <th>date_sample</th>\n",
       "      <th>sample_source</th>\n",
       "      <th>sample_id</th>\n",
       "      <th>analyte</th>\n",
       "      <th>value_qualifier</th>\n",
       "      <th>analyte_value</th>\n",
       "      <th>value_units</th>\n",
       "      <th>source_description</th>\n",
       "      <th>fluoride</th>\n",
       "      <th>ph</th>\n",
       "      <th>thms</th>\n",
       "      <th>chlorate</th>\n",
       "      <th>chlorite</th>\n",
       "    </tr>\n",
       "  </thead>\n",
       "  <tbody>\n",
       "    <tr>\n",
       "      <th>0</th>\n",
       "      <td>2023-01-01</td>\n",
       "      <td>174 SYS</td>\n",
       "      <td>W1543804</td>\n",
       "      <td>Fluoride</td>\n",
       "      <td>NaN</td>\n",
       "      <td>0.786</td>\n",
       "      <td>MG/L</td>\n",
       "      <td>3250 Camino Del Rio North; Sample Stanchion</td>\n",
       "      <td>NaN</td>\n",
       "      <td>NaN</td>\n",
       "      <td>NaN</td>\n",
       "      <td>NaN</td>\n",
       "      <td>NaN</td>\n",
       "    </tr>\n",
       "    <tr>\n",
       "      <th>1</th>\n",
       "      <td>2023-01-02</td>\n",
       "      <td>215 SYS</td>\n",
       "      <td>W1543809</td>\n",
       "      <td>Fluoride</td>\n",
       "      <td>NaN</td>\n",
       "      <td>0.760</td>\n",
       "      <td>MG/L</td>\n",
       "      <td>Across from 5105 Soledad Rd.</td>\n",
       "      <td>NaN</td>\n",
       "      <td>NaN</td>\n",
       "      <td>NaN</td>\n",
       "      <td>NaN</td>\n",
       "      <td>NaN</td>\n",
       "    </tr>\n",
       "    <tr>\n",
       "      <th>2</th>\n",
       "      <td>2023-01-03</td>\n",
       "      <td>284 SYS</td>\n",
       "      <td>W1545377</td>\n",
       "      <td>Chlorate</td>\n",
       "      <td>NaN</td>\n",
       "      <td>0.186</td>\n",
       "      <td>UG/L</td>\n",
       "      <td>Ocean View Hills Pkwy and Sea Drift Way</td>\n",
       "      <td>NaN</td>\n",
       "      <td>NaN</td>\n",
       "      <td>NaN</td>\n",
       "      <td>NaN</td>\n",
       "      <td>NaN</td>\n",
       "    </tr>\n",
       "    <tr>\n",
       "      <th>3</th>\n",
       "      <td>2023-01-03</td>\n",
       "      <td>284 SYS</td>\n",
       "      <td>W1545377</td>\n",
       "      <td>Chlorite</td>\n",
       "      <td>NaN</td>\n",
       "      <td>0.157</td>\n",
       "      <td>UG/L</td>\n",
       "      <td>Ocean View Hills Pkwy and Sea Drift Way</td>\n",
       "      <td>NaN</td>\n",
       "      <td>NaN</td>\n",
       "      <td>NaN</td>\n",
       "      <td>NaN</td>\n",
       "      <td>NaN</td>\n",
       "    </tr>\n",
       "    <tr>\n",
       "      <th>4</th>\n",
       "      <td>2023-01-03</td>\n",
       "      <td>67 SYS</td>\n",
       "      <td>W1545355</td>\n",
       "      <td>Fluoride</td>\n",
       "      <td>NaN</td>\n",
       "      <td>0.708</td>\n",
       "      <td>MG/L</td>\n",
       "      <td>Pomerado Rd &amp; Grandee Pl</td>\n",
       "      <td>NaN</td>\n",
       "      <td>NaN</td>\n",
       "      <td>NaN</td>\n",
       "      <td>NaN</td>\n",
       "      <td>NaN</td>\n",
       "    </tr>\n",
       "  </tbody>\n",
       "</table>\n",
       "</div>"
      ],
      "text/plain": [
       "  date_sample sample_source sample_id   analyte value_qualifier  \\\n",
       "0  2023-01-01       174 SYS  W1543804  Fluoride             NaN   \n",
       "1  2023-01-02       215 SYS  W1543809  Fluoride             NaN   \n",
       "2  2023-01-03       284 SYS  W1545377  Chlorate             NaN   \n",
       "3  2023-01-03       284 SYS  W1545377  Chlorite             NaN   \n",
       "4  2023-01-03        67 SYS  W1545355  Fluoride             NaN   \n",
       "\n",
       "   analyte_value value_units                           source_description  \\\n",
       "0          0.786        MG/L  3250 Camino Del Rio North; Sample Stanchion   \n",
       "1          0.760        MG/L                 Across from 5105 Soledad Rd.   \n",
       "2          0.186        UG/L      Ocean View Hills Pkwy and Sea Drift Way   \n",
       "3          0.157        UG/L      Ocean View Hills Pkwy and Sea Drift Way   \n",
       "4          0.708        MG/L                     Pomerado Rd & Grandee Pl   \n",
       "\n",
       "   fluoride  ph  thms  chlorate  chlorite  \n",
       "0       NaN NaN   NaN       NaN       NaN  \n",
       "1       NaN NaN   NaN       NaN       NaN  \n",
       "2       NaN NaN   NaN       NaN       NaN  \n",
       "3       NaN NaN   NaN       NaN       NaN  \n",
       "4       NaN NaN   NaN       NaN       NaN  "
      ]
     },
     "execution_count": 173,
     "metadata": {},
     "output_type": "execute_result"
    }
   ],
   "source": [
    "df_ef2.head()"
   ]
  },
  {
   "cell_type": "code",
   "execution_count": 174,
   "metadata": {},
   "outputs": [],
   "source": [
    "for i, row in df_ef2.iterrows():\n",
    "    if row['analyte'] == 'Fluoride':\n",
    "        df_ef2.at[i, 'fluoride'] = row['analyte_value']\n",
    "    elif row['analyte'] == 'pH':\n",
    "        df_ef2.at[i, 'ph'] = row['analyte_value']\n",
    "    elif row['analyte'] == 'Total THMs':\n",
    "        df_ef2.at[i, 'thms'] = row['analyte_value']\n",
    "    elif row['analyte'] == 'Chlorate':\n",
    "        df_ef2.at[i, 'chlorate'] = row['analyte_value']\n",
    "    elif row['analyte'] == 'Chlorite':\n",
    "        df_ef2.at[i, 'chlorite'] = row['analyte_value']"
   ]
  },
  {
   "cell_type": "code",
   "execution_count": 175,
   "metadata": {},
   "outputs": [
    {
     "data": {
      "text/html": [
       "<div>\n",
       "<style scoped>\n",
       "    .dataframe tbody tr th:only-of-type {\n",
       "        vertical-align: middle;\n",
       "    }\n",
       "\n",
       "    .dataframe tbody tr th {\n",
       "        vertical-align: top;\n",
       "    }\n",
       "\n",
       "    .dataframe thead th {\n",
       "        text-align: right;\n",
       "    }\n",
       "</style>\n",
       "<table border=\"1\" class=\"dataframe\">\n",
       "  <thead>\n",
       "    <tr style=\"text-align: right;\">\n",
       "      <th></th>\n",
       "      <th>date_sample</th>\n",
       "      <th>sample_source</th>\n",
       "      <th>sample_id</th>\n",
       "      <th>analyte</th>\n",
       "      <th>value_qualifier</th>\n",
       "      <th>analyte_value</th>\n",
       "      <th>value_units</th>\n",
       "      <th>source_description</th>\n",
       "      <th>fluoride</th>\n",
       "      <th>ph</th>\n",
       "      <th>thms</th>\n",
       "      <th>chlorate</th>\n",
       "      <th>chlorite</th>\n",
       "    </tr>\n",
       "  </thead>\n",
       "  <tbody>\n",
       "    <tr>\n",
       "      <th>0</th>\n",
       "      <td>2023-01-01</td>\n",
       "      <td>174 SYS</td>\n",
       "      <td>W1543804</td>\n",
       "      <td>Fluoride</td>\n",
       "      <td>NaN</td>\n",
       "      <td>0.786</td>\n",
       "      <td>MG/L</td>\n",
       "      <td>3250 Camino Del Rio North; Sample Stanchion</td>\n",
       "      <td>0.786</td>\n",
       "      <td>NaN</td>\n",
       "      <td>NaN</td>\n",
       "      <td>NaN</td>\n",
       "      <td>NaN</td>\n",
       "    </tr>\n",
       "    <tr>\n",
       "      <th>1</th>\n",
       "      <td>2023-01-02</td>\n",
       "      <td>215 SYS</td>\n",
       "      <td>W1543809</td>\n",
       "      <td>Fluoride</td>\n",
       "      <td>NaN</td>\n",
       "      <td>0.760</td>\n",
       "      <td>MG/L</td>\n",
       "      <td>Across from 5105 Soledad Rd.</td>\n",
       "      <td>0.760</td>\n",
       "      <td>NaN</td>\n",
       "      <td>NaN</td>\n",
       "      <td>NaN</td>\n",
       "      <td>NaN</td>\n",
       "    </tr>\n",
       "    <tr>\n",
       "      <th>2</th>\n",
       "      <td>2023-01-03</td>\n",
       "      <td>284 SYS</td>\n",
       "      <td>W1545377</td>\n",
       "      <td>Chlorate</td>\n",
       "      <td>NaN</td>\n",
       "      <td>0.186</td>\n",
       "      <td>UG/L</td>\n",
       "      <td>Ocean View Hills Pkwy and Sea Drift Way</td>\n",
       "      <td>NaN</td>\n",
       "      <td>NaN</td>\n",
       "      <td>NaN</td>\n",
       "      <td>0.186</td>\n",
       "      <td>NaN</td>\n",
       "    </tr>\n",
       "    <tr>\n",
       "      <th>3</th>\n",
       "      <td>2023-01-03</td>\n",
       "      <td>284 SYS</td>\n",
       "      <td>W1545377</td>\n",
       "      <td>Chlorite</td>\n",
       "      <td>NaN</td>\n",
       "      <td>0.157</td>\n",
       "      <td>UG/L</td>\n",
       "      <td>Ocean View Hills Pkwy and Sea Drift Way</td>\n",
       "      <td>NaN</td>\n",
       "      <td>NaN</td>\n",
       "      <td>NaN</td>\n",
       "      <td>NaN</td>\n",
       "      <td>0.157</td>\n",
       "    </tr>\n",
       "    <tr>\n",
       "      <th>4</th>\n",
       "      <td>2023-01-03</td>\n",
       "      <td>67 SYS</td>\n",
       "      <td>W1545355</td>\n",
       "      <td>Fluoride</td>\n",
       "      <td>NaN</td>\n",
       "      <td>0.708</td>\n",
       "      <td>MG/L</td>\n",
       "      <td>Pomerado Rd &amp; Grandee Pl</td>\n",
       "      <td>0.708</td>\n",
       "      <td>NaN</td>\n",
       "      <td>NaN</td>\n",
       "      <td>NaN</td>\n",
       "      <td>NaN</td>\n",
       "    </tr>\n",
       "  </tbody>\n",
       "</table>\n",
       "</div>"
      ],
      "text/plain": [
       "  date_sample sample_source sample_id   analyte value_qualifier  \\\n",
       "0  2023-01-01       174 SYS  W1543804  Fluoride             NaN   \n",
       "1  2023-01-02       215 SYS  W1543809  Fluoride             NaN   \n",
       "2  2023-01-03       284 SYS  W1545377  Chlorate             NaN   \n",
       "3  2023-01-03       284 SYS  W1545377  Chlorite             NaN   \n",
       "4  2023-01-03        67 SYS  W1545355  Fluoride             NaN   \n",
       "\n",
       "   analyte_value value_units                           source_description  \\\n",
       "0          0.786        MG/L  3250 Camino Del Rio North; Sample Stanchion   \n",
       "1          0.760        MG/L                 Across from 5105 Soledad Rd.   \n",
       "2          0.186        UG/L      Ocean View Hills Pkwy and Sea Drift Way   \n",
       "3          0.157        UG/L      Ocean View Hills Pkwy and Sea Drift Way   \n",
       "4          0.708        MG/L                     Pomerado Rd & Grandee Pl   \n",
       "\n",
       "   fluoride  ph  thms  chlorate  chlorite  \n",
       "0     0.786 NaN   NaN       NaN       NaN  \n",
       "1     0.760 NaN   NaN       NaN       NaN  \n",
       "2       NaN NaN   NaN     0.186       NaN  \n",
       "3       NaN NaN   NaN       NaN     0.157  \n",
       "4     0.708 NaN   NaN       NaN       NaN  "
      ]
     },
     "execution_count": 175,
     "metadata": {},
     "output_type": "execute_result"
    }
   ],
   "source": [
    "df_ef2.head()"
   ]
  },
  {
   "cell_type": "markdown",
   "metadata": {},
   "source": [
    "Now we've managed to seperate out the different analytes into their own columns. We can now go ahead and remove the data we no longer need."
   ]
  },
  {
   "cell_type": "code",
   "execution_count": 176,
   "metadata": {},
   "outputs": [
    {
     "data": {
      "text/html": [
       "<div>\n",
       "<style scoped>\n",
       "    .dataframe tbody tr th:only-of-type {\n",
       "        vertical-align: middle;\n",
       "    }\n",
       "\n",
       "    .dataframe tbody tr th {\n",
       "        vertical-align: top;\n",
       "    }\n",
       "\n",
       "    .dataframe thead th {\n",
       "        text-align: right;\n",
       "    }\n",
       "</style>\n",
       "<table border=\"1\" class=\"dataframe\">\n",
       "  <thead>\n",
       "    <tr style=\"text-align: right;\">\n",
       "      <th></th>\n",
       "      <th>date_sample</th>\n",
       "      <th>sample_source</th>\n",
       "      <th>sample_id</th>\n",
       "      <th>fluoride</th>\n",
       "      <th>ph</th>\n",
       "      <th>thms</th>\n",
       "      <th>chlorate</th>\n",
       "      <th>chlorite</th>\n",
       "      <th>source_description</th>\n",
       "    </tr>\n",
       "  </thead>\n",
       "  <tbody>\n",
       "    <tr>\n",
       "      <th>0</th>\n",
       "      <td>2023-01-01</td>\n",
       "      <td>174 SYS</td>\n",
       "      <td>W1543804</td>\n",
       "      <td>0.786</td>\n",
       "      <td>NaN</td>\n",
       "      <td>NaN</td>\n",
       "      <td>NaN</td>\n",
       "      <td>NaN</td>\n",
       "      <td>3250 Camino Del Rio North; Sample Stanchion</td>\n",
       "    </tr>\n",
       "    <tr>\n",
       "      <th>1</th>\n",
       "      <td>2023-01-02</td>\n",
       "      <td>215 SYS</td>\n",
       "      <td>W1543809</td>\n",
       "      <td>0.760</td>\n",
       "      <td>NaN</td>\n",
       "      <td>NaN</td>\n",
       "      <td>NaN</td>\n",
       "      <td>NaN</td>\n",
       "      <td>Across from 5105 Soledad Rd.</td>\n",
       "    </tr>\n",
       "    <tr>\n",
       "      <th>2</th>\n",
       "      <td>2023-01-03</td>\n",
       "      <td>284 SYS</td>\n",
       "      <td>W1545377</td>\n",
       "      <td>NaN</td>\n",
       "      <td>NaN</td>\n",
       "      <td>NaN</td>\n",
       "      <td>0.186</td>\n",
       "      <td>NaN</td>\n",
       "      <td>Ocean View Hills Pkwy and Sea Drift Way</td>\n",
       "    </tr>\n",
       "    <tr>\n",
       "      <th>3</th>\n",
       "      <td>2023-01-03</td>\n",
       "      <td>284 SYS</td>\n",
       "      <td>W1545377</td>\n",
       "      <td>NaN</td>\n",
       "      <td>NaN</td>\n",
       "      <td>NaN</td>\n",
       "      <td>NaN</td>\n",
       "      <td>0.157</td>\n",
       "      <td>Ocean View Hills Pkwy and Sea Drift Way</td>\n",
       "    </tr>\n",
       "    <tr>\n",
       "      <th>4</th>\n",
       "      <td>2023-01-03</td>\n",
       "      <td>67 SYS</td>\n",
       "      <td>W1545355</td>\n",
       "      <td>0.708</td>\n",
       "      <td>NaN</td>\n",
       "      <td>NaN</td>\n",
       "      <td>NaN</td>\n",
       "      <td>NaN</td>\n",
       "      <td>Pomerado Rd &amp; Grandee Pl</td>\n",
       "    </tr>\n",
       "  </tbody>\n",
       "</table>\n",
       "</div>"
      ],
      "text/plain": [
       "  date_sample sample_source sample_id  fluoride  ph  thms  chlorate  chlorite  \\\n",
       "0  2023-01-01       174 SYS  W1543804     0.786 NaN   NaN       NaN       NaN   \n",
       "1  2023-01-02       215 SYS  W1543809     0.760 NaN   NaN       NaN       NaN   \n",
       "2  2023-01-03       284 SYS  W1545377       NaN NaN   NaN     0.186       NaN   \n",
       "3  2023-01-03       284 SYS  W1545377       NaN NaN   NaN       NaN     0.157   \n",
       "4  2023-01-03        67 SYS  W1545355     0.708 NaN   NaN       NaN       NaN   \n",
       "\n",
       "                            source_description  \n",
       "0  3250 Camino Del Rio North; Sample Stanchion  \n",
       "1                 Across from 5105 Soledad Rd.  \n",
       "2      Ocean View Hills Pkwy and Sea Drift Way  \n",
       "3      Ocean View Hills Pkwy and Sea Drift Way  \n",
       "4                     Pomerado Rd & Grandee Pl  "
      ]
     },
     "execution_count": 176,
     "metadata": {},
     "output_type": "execute_result"
    }
   ],
   "source": [
    "df_ef3 = df_ef2.drop(['analyte', 'value_qualifier', 'analyte_value', 'value_units'], axis = 1)\n",
    "df_ef3 = df_ef3.iloc[:,[0,1,2,4,5,6,7,8,3]]\n",
    "df_ef3.head()"
   ]
  },
  {
   "cell_type": "code",
   "execution_count": 177,
   "metadata": {},
   "outputs": [
    {
     "data": {
      "text/html": [
       "<div>\n",
       "<style scoped>\n",
       "    .dataframe tbody tr th:only-of-type {\n",
       "        vertical-align: middle;\n",
       "    }\n",
       "\n",
       "    .dataframe tbody tr th {\n",
       "        vertical-align: top;\n",
       "    }\n",
       "\n",
       "    .dataframe thead th {\n",
       "        text-align: right;\n",
       "    }\n",
       "</style>\n",
       "<table border=\"1\" class=\"dataframe\">\n",
       "  <thead>\n",
       "    <tr style=\"text-align: right;\">\n",
       "      <th></th>\n",
       "      <th>date_sample</th>\n",
       "      <th>sample_source</th>\n",
       "      <th>fluoride</th>\n",
       "      <th>ph</th>\n",
       "      <th>thms</th>\n",
       "      <th>chlorate</th>\n",
       "      <th>chlorite</th>\n",
       "      <th>source_description</th>\n",
       "    </tr>\n",
       "    <tr>\n",
       "      <th>sample_id</th>\n",
       "      <th></th>\n",
       "      <th></th>\n",
       "      <th></th>\n",
       "      <th></th>\n",
       "      <th></th>\n",
       "      <th></th>\n",
       "      <th></th>\n",
       "      <th></th>\n",
       "    </tr>\n",
       "  </thead>\n",
       "  <tbody>\n",
       "    <tr>\n",
       "      <th>W1083956</th>\n",
       "      <td>2016-01-01</td>\n",
       "      <td>249A SYS</td>\n",
       "      <td>0.651</td>\n",
       "      <td>NaN</td>\n",
       "      <td>NaN</td>\n",
       "      <td>NaN</td>\n",
       "      <td>NaN</td>\n",
       "      <td>6429 Glidden St.; Sample Stanchion</td>\n",
       "    </tr>\n",
       "    <tr>\n",
       "      <th>W1084373</th>\n",
       "      <td>2016-01-02</td>\n",
       "      <td>281 SYS</td>\n",
       "      <td>0.666</td>\n",
       "      <td>NaN</td>\n",
       "      <td>NaN</td>\n",
       "      <td>NaN</td>\n",
       "      <td>NaN</td>\n",
       "      <td>6831 Monte Verde Dr</td>\n",
       "    </tr>\n",
       "    <tr>\n",
       "      <th>W1084377</th>\n",
       "      <td>2016-01-03</td>\n",
       "      <td>150 SYS</td>\n",
       "      <td>0.681</td>\n",
       "      <td>NaN</td>\n",
       "      <td>NaN</td>\n",
       "      <td>NaN</td>\n",
       "      <td>NaN</td>\n",
       "      <td>Acorn St &amp; 62nd St @ Fire Station</td>\n",
       "    </tr>\n",
       "    <tr>\n",
       "      <th>W1084382</th>\n",
       "      <td>2016-01-09</td>\n",
       "      <td>55A SYS</td>\n",
       "      <td>0.666</td>\n",
       "      <td>NaN</td>\n",
       "      <td>NaN</td>\n",
       "      <td>NaN</td>\n",
       "      <td>NaN</td>\n",
       "      <td>5183 Arvinels Ave.</td>\n",
       "    </tr>\n",
       "    <tr>\n",
       "      <th>W1084387</th>\n",
       "      <td>2016-01-10</td>\n",
       "      <td>174 SYS</td>\n",
       "      <td>0.674</td>\n",
       "      <td>NaN</td>\n",
       "      <td>NaN</td>\n",
       "      <td>NaN</td>\n",
       "      <td>NaN</td>\n",
       "      <td>3250 Camino Del Rio North; Sample Stanchion</td>\n",
       "    </tr>\n",
       "  </tbody>\n",
       "</table>\n",
       "</div>"
      ],
      "text/plain": [
       "          date_sample sample_source  fluoride  ph  thms  chlorate  chlorite  \\\n",
       "sample_id                                                                     \n",
       "W1083956   2016-01-01      249A SYS     0.651 NaN   NaN       NaN       NaN   \n",
       "W1084373   2016-01-02       281 SYS     0.666 NaN   NaN       NaN       NaN   \n",
       "W1084377   2016-01-03       150 SYS     0.681 NaN   NaN       NaN       NaN   \n",
       "W1084382   2016-01-09       55A SYS     0.666 NaN   NaN       NaN       NaN   \n",
       "W1084387   2016-01-10       174 SYS     0.674 NaN   NaN       NaN       NaN   \n",
       "\n",
       "                                    source_description  \n",
       "sample_id                                               \n",
       "W1083956            6429 Glidden St.; Sample Stanchion  \n",
       "W1084373                           6831 Monte Verde Dr  \n",
       "W1084377             Acorn St & 62nd St @ Fire Station  \n",
       "W1084382                            5183 Arvinels Ave.  \n",
       "W1084387   3250 Camino Del Rio North; Sample Stanchion  "
      ]
     },
     "execution_count": 177,
     "metadata": {},
     "output_type": "execute_result"
    }
   ],
   "source": [
    "df_ef4 = df_ef3.groupby(df_ef3['sample_id']).aggregate('first')\n",
    "df_ef4.head()"
   ]
  },
  {
   "cell_type": "markdown",
   "metadata": {},
   "source": [
    "## EDA on Effluent Water (Continued)"
   ]
  },
  {
   "cell_type": "code",
   "execution_count": 178,
   "metadata": {},
   "outputs": [
    {
     "data": {
      "text/html": [
       "<div>\n",
       "<style scoped>\n",
       "    .dataframe tbody tr th:only-of-type {\n",
       "        vertical-align: middle;\n",
       "    }\n",
       "\n",
       "    .dataframe tbody tr th {\n",
       "        vertical-align: top;\n",
       "    }\n",
       "\n",
       "    .dataframe thead th {\n",
       "        text-align: right;\n",
       "    }\n",
       "</style>\n",
       "<table border=\"1\" class=\"dataframe\">\n",
       "  <thead>\n",
       "    <tr style=\"text-align: right;\">\n",
       "      <th></th>\n",
       "      <th>fluoride</th>\n",
       "      <th>ph</th>\n",
       "      <th>thms</th>\n",
       "      <th>chlorate</th>\n",
       "      <th>chlorite</th>\n",
       "    </tr>\n",
       "  </thead>\n",
       "  <tbody>\n",
       "    <tr>\n",
       "      <th>count</th>\n",
       "      <td>2532.000000</td>\n",
       "      <td>1590.000000</td>\n",
       "      <td>1034.000000</td>\n",
       "      <td>357.000000</td>\n",
       "      <td>342.000000</td>\n",
       "    </tr>\n",
       "    <tr>\n",
       "      <th>mean</th>\n",
       "      <td>0.554586</td>\n",
       "      <td>7.818928</td>\n",
       "      <td>13.799966</td>\n",
       "      <td>0.190509</td>\n",
       "      <td>0.287854</td>\n",
       "    </tr>\n",
       "    <tr>\n",
       "      <th>std</th>\n",
       "      <td>0.135895</td>\n",
       "      <td>0.293850</td>\n",
       "      <td>11.017283</td>\n",
       "      <td>0.057982</td>\n",
       "      <td>0.155094</td>\n",
       "    </tr>\n",
       "    <tr>\n",
       "      <th>min</th>\n",
       "      <td>0.094000</td>\n",
       "      <td>6.920000</td>\n",
       "      <td>0.410000</td>\n",
       "      <td>0.020300</td>\n",
       "      <td>0.034600</td>\n",
       "    </tr>\n",
       "    <tr>\n",
       "      <th>25%</th>\n",
       "      <td>0.497000</td>\n",
       "      <td>7.610000</td>\n",
       "      <td>8.045000</td>\n",
       "      <td>0.156000</td>\n",
       "      <td>0.187000</td>\n",
       "    </tr>\n",
       "    <tr>\n",
       "      <th>50%</th>\n",
       "      <td>0.573500</td>\n",
       "      <td>7.820000</td>\n",
       "      <td>12.250000</td>\n",
       "      <td>0.193000</td>\n",
       "      <td>0.277750</td>\n",
       "    </tr>\n",
       "    <tr>\n",
       "      <th>75%</th>\n",
       "      <td>0.647000</td>\n",
       "      <td>8.040000</td>\n",
       "      <td>16.475000</td>\n",
       "      <td>0.218000</td>\n",
       "      <td>0.363375</td>\n",
       "    </tr>\n",
       "    <tr>\n",
       "      <th>max</th>\n",
       "      <td>1.070000</td>\n",
       "      <td>8.690000</td>\n",
       "      <td>166.000000</td>\n",
       "      <td>0.598000</td>\n",
       "      <td>0.980000</td>\n",
       "    </tr>\n",
       "  </tbody>\n",
       "</table>\n",
       "</div>"
      ],
      "text/plain": [
       "          fluoride           ph         thms    chlorate    chlorite\n",
       "count  2532.000000  1590.000000  1034.000000  357.000000  342.000000\n",
       "mean      0.554586     7.818928    13.799966    0.190509    0.287854\n",
       "std       0.135895     0.293850    11.017283    0.057982    0.155094\n",
       "min       0.094000     6.920000     0.410000    0.020300    0.034600\n",
       "25%       0.497000     7.610000     8.045000    0.156000    0.187000\n",
       "50%       0.573500     7.820000    12.250000    0.193000    0.277750\n",
       "75%       0.647000     8.040000    16.475000    0.218000    0.363375\n",
       "max       1.070000     8.690000   166.000000    0.598000    0.980000"
      ]
     },
     "execution_count": 178,
     "metadata": {},
     "output_type": "execute_result"
    }
   ],
   "source": [
    "df_ef3.describe()"
   ]
  },
  {
   "cell_type": "code",
   "execution_count": 179,
   "metadata": {},
   "outputs": [
    {
     "data": {
      "text/plain": [
       "array([[<AxesSubplot:title={'center':'fluoride'}>,\n",
       "        <AxesSubplot:title={'center':'ph'}>],\n",
       "       [<AxesSubplot:title={'center':'thms'}>, <AxesSubplot:>]],\n",
       "      dtype=object)"
      ]
     },
     "execution_count": 179,
     "metadata": {},
     "output_type": "execute_result"
    },
    {
     "data": {
      "image/png": "[encoded data removed]",
      "text/plain": [
       "<Figure size 432x288 with 4 Axes>"
      ]
     },
     "metadata": {
      "needs_background": "light"
     },
     "output_type": "display_data"
    }
   ],
   "source": [
    "df_ef3.hist(column = ['fluoride', 'ph', 'thms'])"
   ]
  },
  {
   "cell_type": "code",
   "execution_count": 180,
   "metadata": {},
   "outputs": [
    {
     "data": {
      "text/plain": [
       "array([[<AxesSubplot:title={'center':'chlorite'}>,\n",
       "        <AxesSubplot:title={'center':'chlorate'}>]], dtype=object)"
      ]
     },
     "execution_count": 180,
     "metadata": {},
     "output_type": "execute_result"
    },
    {
     "data": {
      "image/png": "[encoded data removed]",
      "text/plain": [
       "<Figure size 432x288 with 2 Axes>"
      ]
     },
     "metadata": {
      "needs_background": "light"
     },
     "output_type": "display_data"
    }
   ],
   "source": [
    "df_ef3.hist(column = ['chlorite', 'chlorate'])"
   ]
  },
  {
   "cell_type": "markdown",
   "metadata": {},
   "source": [
    "## EDA on Bacteria"
   ]
  },
  {
   "cell_type": "markdown",
   "metadata": {},
   "source": [
    "### Data information"
   ]
  },
  {
   "cell_type": "code",
   "execution_count": 181,
   "metadata": {},
   "outputs": [
    {
     "data": {
      "text/plain": [
       "(79411, 9)"
      ]
     },
     "execution_count": 181,
     "metadata": {},
     "output_type": "execute_result"
    }
   ],
   "source": [
    "df_bacteria.shape"
   ]
  },
  {
   "cell_type": "markdown",
   "metadata": {},
   "source": [
    "Our bacteria dataset has nine different variables and almost 80000 different samples taken."
   ]
  },
  {
   "cell_type": "code",
   "execution_count": 182,
   "metadata": {},
   "outputs": [
    {
     "name": "stdout",
     "output_type": "stream",
     "text": [
      "<class 'pandas.core.frame.DataFrame'>\n",
      "RangeIndex: 79411 entries, 0 to 79410\n",
      "Data columns (total 9 columns):\n",
      " #   Column        Non-Null Count  Dtype  \n",
      "---  ------        --------------  -----  \n",
      " 0   FR_NUM        79411 non-null  int64  \n",
      " 1   date_sampled  79411 non-null  object \n",
      " 2   source        79411 non-null  object \n",
      " 3   sample_id     79411 non-null  object \n",
      " 4   t_coliform    79341 non-null  object \n",
      " 5   cl2_total     79411 non-null  float64\n",
      " 6   e_coli        79352 non-null  object \n",
      " 7   temperature   79411 non-null  float64\n",
      " 8   ph            79411 non-null  float64\n",
      "dtypes: float64(3), int64(1), object(5)\n",
      "memory usage: 5.5+ MB\n"
     ]
    }
   ],
   "source": [
    "df_bacteria.info()"
   ]
  },
  {
   "cell_type": "markdown",
   "metadata": {},
   "source": [
    "Here we have a decent variety of variable types with most being objects, the chemical values being floats, and the FR_NUM being an int."
   ]
  },
  {
   "cell_type": "code",
   "execution_count": 183,
   "metadata": {},
   "outputs": [
    {
     "data": {
      "text/html": [
       "<div>\n",
       "<style scoped>\n",
       "    .dataframe tbody tr th:only-of-type {\n",
       "        vertical-align: middle;\n",
       "    }\n",
       "\n",
       "    .dataframe tbody tr th {\n",
       "        vertical-align: top;\n",
       "    }\n",
       "\n",
       "    .dataframe thead th {\n",
       "        text-align: right;\n",
       "    }\n",
       "</style>\n",
       "<table border=\"1\" class=\"dataframe\">\n",
       "  <thead>\n",
       "    <tr style=\"text-align: right;\">\n",
       "      <th></th>\n",
       "      <th>FR_NUM</th>\n",
       "      <th>cl2_total</th>\n",
       "      <th>temperature</th>\n",
       "      <th>ph</th>\n",
       "    </tr>\n",
       "  </thead>\n",
       "  <tbody>\n",
       "    <tr>\n",
       "      <th>count</th>\n",
       "      <td>79411.000000</td>\n",
       "      <td>79411.000000</td>\n",
       "      <td>79411.000000</td>\n",
       "      <td>79411.000000</td>\n",
       "    </tr>\n",
       "    <tr>\n",
       "      <th>mean</th>\n",
       "      <td>329803.640390</td>\n",
       "      <td>1.945466</td>\n",
       "      <td>21.774083</td>\n",
       "      <td>8.075861</td>\n",
       "    </tr>\n",
       "    <tr>\n",
       "      <th>std</th>\n",
       "      <td>42801.121066</td>\n",
       "      <td>0.750238</td>\n",
       "      <td>3.997957</td>\n",
       "      <td>0.179569</td>\n",
       "    </tr>\n",
       "    <tr>\n",
       "      <th>min</th>\n",
       "      <td>244324.000000</td>\n",
       "      <td>0.040000</td>\n",
       "      <td>1.630000</td>\n",
       "      <td>1.940000</td>\n",
       "    </tr>\n",
       "    <tr>\n",
       "      <th>25%</th>\n",
       "      <td>294772.500000</td>\n",
       "      <td>1.440000</td>\n",
       "      <td>18.200000</td>\n",
       "      <td>7.980000</td>\n",
       "    </tr>\n",
       "    <tr>\n",
       "      <th>50%</th>\n",
       "      <td>336201.000000</td>\n",
       "      <td>2.070000</td>\n",
       "      <td>21.600000</td>\n",
       "      <td>8.090000</td>\n",
       "    </tr>\n",
       "    <tr>\n",
       "      <th>75%</th>\n",
       "      <td>365784.500000</td>\n",
       "      <td>2.520000</td>\n",
       "      <td>25.200000</td>\n",
       "      <td>8.180000</td>\n",
       "    </tr>\n",
       "    <tr>\n",
       "      <th>max</th>\n",
       "      <td>395356.000000</td>\n",
       "      <td>3.900000</td>\n",
       "      <td>36.000000</td>\n",
       "      <td>16.200000</td>\n",
       "    </tr>\n",
       "  </tbody>\n",
       "</table>\n",
       "</div>"
      ],
      "text/plain": [
       "              FR_NUM     cl2_total   temperature            ph\n",
       "count   79411.000000  79411.000000  79411.000000  79411.000000\n",
       "mean   329803.640390      1.945466     21.774083      8.075861\n",
       "std     42801.121066      0.750238      3.997957      0.179569\n",
       "min    244324.000000      0.040000      1.630000      1.940000\n",
       "25%    294772.500000      1.440000     18.200000      7.980000\n",
       "50%    336201.000000      2.070000     21.600000      8.090000\n",
       "75%    365784.500000      2.520000     25.200000      8.180000\n",
       "max    395356.000000      3.900000     36.000000     16.200000"
      ]
     },
     "execution_count": 183,
     "metadata": {},
     "output_type": "execute_result"
    }
   ],
   "source": [
    "df_bacteria.describe()"
   ]
  },
  {
   "cell_type": "markdown",
   "metadata": {},
   "source": [
    "### Exploratory Data Analysis"
   ]
  },
  {
   "cell_type": "code",
   "execution_count": 184,
   "metadata": {},
   "outputs": [
    {
     "data": {
      "text/plain": [
       "FR_NUM           0\n",
       "date_sampled     0\n",
       "source           0\n",
       "sample_id        0\n",
       "t_coliform      70\n",
       "cl2_total        0\n",
       "e_coli          59\n",
       "temperature      0\n",
       "ph               0\n",
       "dtype: int64"
      ]
     },
     "execution_count": 184,
     "metadata": {},
     "output_type": "execute_result"
    }
   ],
   "source": [
    "missingdf_bacteria = df_bacteria.isna().sum()\n",
    "missingdf_bacteria"
   ]
  },
  {
   "cell_type": "markdown",
   "metadata": {},
   "source": [
    "We can see that the bacteria dataset contains 70 rows that have missing values but only in 2 of the columns, or only two variables."
   ]
  },
  {
   "cell_type": "code",
   "execution_count": 185,
   "metadata": {},
   "outputs": [
    {
     "data": {
      "text/plain": [
       "<AxesSubplot:title={'center':'Count of Nulls'}>"
      ]
     },
     "execution_count": 185,
     "metadata": {},
     "output_type": "execute_result"
    },
    {
     "data": {
      "image/png": "[encoded data removed]",
      "text/plain": [
       "<Figure size 1080x360 with 1 Axes>"
      ]
     },
     "metadata": {
      "needs_background": "light"
     },
     "output_type": "display_data"
    }
   ],
   "source": [
    "plt.figure(figsize=(15,5))\n",
    "plt.title('Count of Nulls')\n",
    "sns.barplot(x=missingdf_bacteria.index,y=list(missingdf_bacteria))"
   ]
  },
  {
   "cell_type": "markdown",
   "metadata": {},
   "source": [
    "Since the only variables with missing values are the variables that measure bacteria presence, we have no use for these rows with missing values and should remove them from our dataset. Since our dataset is much larger, removing 70 rows should not have much of an impact."
   ]
  },
  {
   "cell_type": "code",
   "execution_count": 186,
   "metadata": {},
   "outputs": [
    {
     "data": {
      "text/plain": [
       "array(['A', '<', nan], dtype=object)"
      ]
     },
     "execution_count": 186,
     "metadata": {},
     "output_type": "execute_result"
    }
   ],
   "source": [
    "df_bacteria['e_coli'].unique()"
   ]
  },
  {
   "cell_type": "code",
   "execution_count": 187,
   "metadata": {},
   "outputs": [],
   "source": [
    "df_bacteria = df_bacteria.dropna()"
   ]
  },
  {
   "cell_type": "code",
   "execution_count": 188,
   "metadata": {},
   "outputs": [
    {
     "data": {
      "text/plain": [
       "(79341, 9)"
      ]
     },
     "execution_count": 188,
     "metadata": {},
     "output_type": "execute_result"
    }
   ],
   "source": [
    "df_bacteria.shape"
   ]
  },
  {
   "cell_type": "code",
   "execution_count": 189,
   "metadata": {},
   "outputs": [
    {
     "data": {
      "text/plain": [
       "FR_NUM          0\n",
       "date_sampled    0\n",
       "source          0\n",
       "sample_id       0\n",
       "t_coliform      0\n",
       "cl2_total       0\n",
       "e_coli          0\n",
       "temperature     0\n",
       "ph              0\n",
       "dtype: int64"
      ]
     },
     "execution_count": 189,
     "metadata": {},
     "output_type": "execute_result"
    }
   ],
   "source": [
    "df_bacteria.isna().sum()"
   ]
  },
  {
   "cell_type": "markdown",
   "metadata": {},
   "source": [
    "We can now see that our bacteria dataset no longer contains any rows with missing values."
   ]
  },
  {
   "cell_type": "code",
   "execution_count": 190,
   "metadata": {},
   "outputs": [
    {
     "data": {
      "text/plain": [
       "array(['A', 'P', '<'], dtype=object)"
      ]
     },
     "execution_count": 190,
     "metadata": {},
     "output_type": "execute_result"
    }
   ],
   "source": [
    "df_bacteria['t_coliform'].unique()"
   ]
  },
  {
   "cell_type": "code",
   "execution_count": 191,
   "metadata": {},
   "outputs": [
    {
     "data": {
      "text/plain": [
       "array(['A', '<'], dtype=object)"
      ]
     },
     "execution_count": 191,
     "metadata": {},
     "output_type": "execute_result"
    }
   ],
   "source": [
    "df_bacteria['e_coli'].unique()"
   ]
  },
  {
   "cell_type": "markdown",
   "metadata": {},
   "source": [
    "Additionally, we can see that in our bacteria dataset, the presence of bacteria is indicated by either A for absent or P for present. While this might be good for readability, but this is difficult to work with. To correct this we will change these varibles to contain ints with 0 standing for absense and 1 for presence. As we do not know what '<' means and the dataset does not offer any insight, we will be removing rows that contain those values from the dataset as well."
   ]
  },
  {
   "cell_type": "code",
   "execution_count": 192,
   "metadata": {},
   "outputs": [
    {
     "data": {
      "text/html": [
       "<div>\n",
       "<style scoped>\n",
       "    .dataframe tbody tr th:only-of-type {\n",
       "        vertical-align: middle;\n",
       "    }\n",
       "\n",
       "    .dataframe tbody tr th {\n",
       "        vertical-align: top;\n",
       "    }\n",
       "\n",
       "    .dataframe thead th {\n",
       "        text-align: right;\n",
       "    }\n",
       "</style>\n",
       "<table border=\"1\" class=\"dataframe\">\n",
       "  <thead>\n",
       "    <tr style=\"text-align: right;\">\n",
       "      <th></th>\n",
       "      <th>FR_NUM</th>\n",
       "      <th>date_sampled</th>\n",
       "      <th>source</th>\n",
       "      <th>sample_id</th>\n",
       "      <th>t_coliform</th>\n",
       "      <th>cl2_total</th>\n",
       "      <th>e_coli</th>\n",
       "      <th>temperature</th>\n",
       "      <th>ph</th>\n",
       "    </tr>\n",
       "  </thead>\n",
       "  <tbody>\n",
       "    <tr>\n",
       "      <th>0</th>\n",
       "      <td>244324</td>\n",
       "      <td>2014-06-05</td>\n",
       "      <td>244 SYS</td>\n",
       "      <td>W983115</td>\n",
       "      <td>0</td>\n",
       "      <td>1.91</td>\n",
       "      <td>0</td>\n",
       "      <td>23.4</td>\n",
       "      <td>8.02</td>\n",
       "    </tr>\n",
       "    <tr>\n",
       "      <th>1</th>\n",
       "      <td>244325</td>\n",
       "      <td>2014-06-05</td>\n",
       "      <td>245 SYS</td>\n",
       "      <td>W983116</td>\n",
       "      <td>0</td>\n",
       "      <td>1.77</td>\n",
       "      <td>0</td>\n",
       "      <td>24.3</td>\n",
       "      <td>7.99</td>\n",
       "    </tr>\n",
       "    <tr>\n",
       "      <th>2</th>\n",
       "      <td>244326</td>\n",
       "      <td>2014-06-05</td>\n",
       "      <td>66 SYS</td>\n",
       "      <td>W983117</td>\n",
       "      <td>0</td>\n",
       "      <td>1.95</td>\n",
       "      <td>0</td>\n",
       "      <td>25.5</td>\n",
       "      <td>8.02</td>\n",
       "    </tr>\n",
       "    <tr>\n",
       "      <th>3</th>\n",
       "      <td>244328</td>\n",
       "      <td>2014-06-05</td>\n",
       "      <td>250 SYS</td>\n",
       "      <td>W983119</td>\n",
       "      <td>0</td>\n",
       "      <td>2.40</td>\n",
       "      <td>0</td>\n",
       "      <td>22.6</td>\n",
       "      <td>8.02</td>\n",
       "    </tr>\n",
       "    <tr>\n",
       "      <th>4</th>\n",
       "      <td>244329</td>\n",
       "      <td>2014-06-05</td>\n",
       "      <td>248A SYS</td>\n",
       "      <td>W983120</td>\n",
       "      <td>0</td>\n",
       "      <td>1.82</td>\n",
       "      <td>0</td>\n",
       "      <td>24.2</td>\n",
       "      <td>7.96</td>\n",
       "    </tr>\n",
       "  </tbody>\n",
       "</table>\n",
       "</div>"
      ],
      "text/plain": [
       "   FR_NUM date_sampled    source sample_id  t_coliform  cl2_total  e_coli  \\\n",
       "0  244324   2014-06-05   244 SYS   W983115           0       1.91       0   \n",
       "1  244325   2014-06-05   245 SYS   W983116           0       1.77       0   \n",
       "2  244326   2014-06-05    66 SYS   W983117           0       1.95       0   \n",
       "3  244328   2014-06-05   250 SYS   W983119           0       2.40       0   \n",
       "4  244329   2014-06-05  248A SYS   W983120           0       1.82       0   \n",
       "\n",
       "   temperature    ph  \n",
       "0         23.4  8.02  \n",
       "1         24.3  7.99  \n",
       "2         25.5  8.02  \n",
       "3         22.6  8.02  \n",
       "4         24.2  7.96  "
      ]
     },
     "execution_count": 192,
     "metadata": {},
     "output_type": "execute_result"
    }
   ],
   "source": [
    "df_bacteria = df_bacteria.replace({'t_coliform': {'A': 0, 'P': 1, '<': None}, 'e_coli': {'A': 0, 'P': 1, '<': None}})\n",
    "df_bacteria = df_bacteria.dropna()\n",
    "df_bacteria = df_bacteria.astype({'t_coliform': bool, 'e_coli': bool}).astype({'t_coliform': int, 'e_coli': int})\n",
    "df_bacteria.head()"
   ]
  },
  {
   "cell_type": "code",
   "execution_count": 193,
   "metadata": {},
   "outputs": [
    {
     "data": {
      "text/plain": [
       "126"
      ]
     },
     "execution_count": 193,
     "metadata": {},
     "output_type": "execute_result"
    }
   ],
   "source": [
    "df_bacteria['t_coliform'].sum() + df_bacteria['e_coli'].sum()"
   ]
  },
  {
   "cell_type": "markdown",
   "metadata": {},
   "source": [
    "We can see that this dataset contains 126 total counts of detected bacteria."
   ]
  },
  {
   "cell_type": "code",
   "execution_count": 194,
   "metadata": {},
   "outputs": [
    {
     "data": {
      "text/plain": [
       "0    79110\n",
       "1      126\n",
       "Name: t_coliform, dtype: int64"
      ]
     },
     "execution_count": 194,
     "metadata": {},
     "output_type": "execute_result"
    }
   ],
   "source": [
    "df_bacteria['t_coliform'].value_counts()"
   ]
  },
  {
   "cell_type": "code",
   "execution_count": 195,
   "metadata": {},
   "outputs": [
    {
     "data": {
      "text/plain": [
       "0    79236\n",
       "Name: e_coli, dtype: int64"
      ]
     },
     "execution_count": 195,
     "metadata": {},
     "output_type": "execute_result"
    }
   ],
   "source": [
    "df_bacteria['e_coli'].value_counts()"
   ]
  },
  {
   "cell_type": "markdown",
   "metadata": {},
   "source": [
    "Of those 126 counts of detected bacteria, all of them were of Coliform bacteria so we can disregard E.coli bacteria for the rest of this study."
   ]
  },
  {
   "cell_type": "markdown",
   "metadata": {},
   "source": [
    "We can try to check for correlation between any of these variables, but to do so we only need the variables that have numeric values."
   ]
  },
  {
   "cell_type": "code",
   "execution_count": 196,
   "metadata": {},
   "outputs": [
    {
     "data": {
      "text/plain": [
       "<seaborn.matrix.ClusterGrid at 0x25aa800e170>"
      ]
     },
     "execution_count": 196,
     "metadata": {},
     "output_type": "execute_result"
    },
    {
     "data": {
      "image/png": "[encoded data removed]",
      "text/plain": [
       "<Figure size 720x720 with 4 Axes>"
      ]
     },
     "metadata": {
      "needs_background": "light"
     },
     "output_type": "display_data"
    }
   ],
   "source": [
    "sns.clustermap(df_bacteria[['t_coliform', 'cl2_total', 'temperature', 'ph']].corr())"
   ]
  },
  {
   "cell_type": "markdown",
   "metadata": {},
   "source": [
    "As we can see, there is no strong correlation between any of our variables, but there is noticeable difference between pH and chlorine levels compared to the rest of the variables. Since this is outside the scope of analyzing detected bacteria, we will move on for now."
   ]
  },
  {
   "cell_type": "markdown",
   "metadata": {},
   "source": [
    "Now that we've examined the results from the bacteria samples, let's pivot and have a look at where these samples were taken from."
   ]
  },
  {
   "cell_type": "code",
   "execution_count": 197,
   "metadata": {},
   "outputs": [
    {
     "data": {
      "text/plain": [
       "array(['244 SYS', '245 SYS', '66 SYS', '250 SYS', '248A SYS', '252A SYS',\n",
       "       '321 SYS', '253 SYS', '341 SYS', '278 SYS', '222A SYS', '150 SYS',\n",
       "       '151A SYS', '185 SYS', '184 SYS', '231 SYS', '320 SYS', '294 SYS',\n",
       "       '317 SYS', '277A SYS', '270A SYS', '288 SYS', '68 SYS', '343 SYS',\n",
       "       '171 SYS', '134A SYS', '334 SYS', '342 SYS', '204A SYS', '324 SYS',\n",
       "       '285 SYS', '299 SYS', '300 SYS', '302 SYS', '303A SYS', '132 SYS',\n",
       "       '256 SYS', '144 SYS', '265 SYS', '306 SYS', '200 SYS', '219 SYS',\n",
       "       '315A SYS', '215 SYS', '309 SYS', '257 SYS', '251 SYS', '216 SYS',\n",
       "       '63A SYS', '283 SYS', '328 SYS', '329 SYS', '325 SYS', '307 SYS',\n",
       "       '331 SYS', '226 SYS', '225 SYS', '224 SYS', '135 SYS', '148 SYS',\n",
       "       '332 SYS', '206 SYS', '44 SYS', '60 SYS', '322 SYS', '338 SYS',\n",
       "       '262 SYS', '52 SYS', '57 SYS', '53 SYS', '333 SYS', '174 SYS',\n",
       "       '242 SYS', '152A SYS', '281 SYS', '212 SYS', '210 SYS', '209 SYS',\n",
       "       '153 SYS', '291 SYS', '318A SYS', '290 SYS', '268 SYS', '276A SYS',\n",
       "       '247A SYS', '241 SYS', '176 SYS', '221 SYS', '301 SYS', '314 SYS',\n",
       "       '258 SYS', '316 SYS', '233 SYS', '236 SYS', '313 SYS', '235 SYS',\n",
       "       '234A SYS', '327 SYS', '326 SYS', '208A SYS', '59 SYS', '264 SYS',\n",
       "       '77A SYS', '214 SYS', '182 SYS', '78A SYS', '48 SYS', '55A SYS',\n",
       "       '50A SYS', '243 SYS', '218 SYS', '49A SYS', '223 SYS', '289 SYS',\n",
       "       '336 SYS', '237 SYS', '67 SYS', '279 SYS', '229 SYS', '286 SYS',\n",
       "       '179 SYS', '65 SYS', '230 SYS', '261 SYS', '282A SYS', '304 SYS',\n",
       "       '155 SYS', '128 SYS', '201 SYS', '305 SYS', '131 SYS', '138A SYS',\n",
       "       '43 SYS', '140 SYS', '173 SYS', '205 SYS', '284 SYS', '280 SYS',\n",
       "       '207 SYS', '213 SYS', '240 SYS', '249A SYS', '255 SYS', '287 SYS',\n",
       "       '274 SYS', '273 SYS', '239 SYS', '330 SYS', '246 SYS', '211A SYS',\n",
       "       '259 SYS', '177 SYS', '339 SYS', '323 SYS', '275A SYS', '321A SYS'],\n",
       "      dtype=object)"
      ]
     },
     "execution_count": 197,
     "metadata": {},
     "output_type": "execute_result"
    }
   ],
   "source": [
    "df_bacteria['source'].unique()"
   ]
  },
  {
   "cell_type": "code",
   "execution_count": 198,
   "metadata": {},
   "outputs": [
    {
     "data": {
      "text/plain": [
       "156"
      ]
     },
     "execution_count": 198,
     "metadata": {},
     "output_type": "execute_result"
    }
   ],
   "source": [
    "df_bacteria['source'].nunique()"
   ]
  },
  {
   "cell_type": "code",
   "execution_count": 199,
   "metadata": {},
   "outputs": [
    {
     "data": {
      "text/plain": [
       "<AxesSubplot:title={'center':'Count of Samples by Source for Bacteria Dataset'}, xlabel='Number of Samples', ylabel='Source'>"
      ]
     },
     "execution_count": 199,
     "metadata": {},
     "output_type": "execute_result"
    },
    {
     "data": {
      "image/png": "[encoded data removed]",
      "text/plain": [
       "<Figure size 1080x1800 with 1 Axes>"
      ]
     },
     "metadata": {
      "needs_background": "light"
     },
     "output_type": "display_data"
    }
   ],
   "source": [
    "f_vc = plt.figure(figsize=(15,25))\n",
    "axs_vc = plt.subplot()\n",
    "plt.title(\"Count of Samples by Source for Bacteria Dataset\")\n",
    "plt.xlabel(\"Number of Samples\")\n",
    "plt.ylabel(\"Source\")\n",
    "axs_vc.barh(df_bacteria['source'].unique(), df_bacteria['source'].value_counts())\n",
    "f_vc.gca()"
   ]
  },
  {
   "cell_type": "markdown",
   "metadata": {},
   "source": [
    "From this we can see that there are 156 different sources with each having been sampled from many times. Unfortunately, the name '___ SYS' is not very helpful to us. Fortunately, we have other datasets published from the same source that will be helpful here."
   ]
  },
  {
   "cell_type": "code",
   "execution_count": 200,
   "metadata": {},
   "outputs": [
    {
     "data": {
      "text/html": [
       "<div>\n",
       "<style scoped>\n",
       "    .dataframe tbody tr th:only-of-type {\n",
       "        vertical-align: middle;\n",
       "    }\n",
       "\n",
       "    .dataframe tbody tr th {\n",
       "        vertical-align: top;\n",
       "    }\n",
       "\n",
       "    .dataframe thead th {\n",
       "        text-align: right;\n",
       "    }\n",
       "</style>\n",
       "<table border=\"1\" class=\"dataframe\">\n",
       "  <thead>\n",
       "    <tr style=\"text-align: right;\">\n",
       "      <th></th>\n",
       "      <th>date_sample</th>\n",
       "      <th>sample_source</th>\n",
       "      <th>sample_id</th>\n",
       "      <th>analyte</th>\n",
       "      <th>value_qualifier</th>\n",
       "      <th>analyte_value</th>\n",
       "      <th>value_units</th>\n",
       "      <th>source_description</th>\n",
       "      <th>fluoride</th>\n",
       "      <th>color</th>\n",
       "      <th>ton</th>\n",
       "      <th>turbidity</th>\n",
       "    </tr>\n",
       "  </thead>\n",
       "  <tbody>\n",
       "    <tr>\n",
       "      <th>0</th>\n",
       "      <td>2023-01-01</td>\n",
       "      <td>174 SYS</td>\n",
       "      <td>W1543804</td>\n",
       "      <td>FLUORIDE</td>\n",
       "      <td>NaN</td>\n",
       "      <td>0.786</td>\n",
       "      <td>MG/L</td>\n",
       "      <td>3250 Camino Del Rio North; Sample Stanchion</td>\n",
       "      <td>0.786</td>\n",
       "      <td>NaN</td>\n",
       "      <td>NaN</td>\n",
       "      <td>NaN</td>\n",
       "    </tr>\n",
       "    <tr>\n",
       "      <th>1</th>\n",
       "      <td>2023-01-02</td>\n",
       "      <td>215 SYS</td>\n",
       "      <td>W1543809</td>\n",
       "      <td>FLUORIDE</td>\n",
       "      <td>NaN</td>\n",
       "      <td>0.760</td>\n",
       "      <td>MG/L</td>\n",
       "      <td>Across from 5105 Soledad Rd.</td>\n",
       "      <td>0.760</td>\n",
       "      <td>NaN</td>\n",
       "      <td>NaN</td>\n",
       "      <td>NaN</td>\n",
       "    </tr>\n",
       "    <tr>\n",
       "      <th>2</th>\n",
       "      <td>2023-01-03</td>\n",
       "      <td>128 SYS</td>\n",
       "      <td>W1545521</td>\n",
       "      <td>COLOR</td>\n",
       "      <td>ND</td>\n",
       "      <td>NaN</td>\n",
       "      <td>COLOR</td>\n",
       "      <td>Firethorn St/Palm Ave; Sample Stanchion</td>\n",
       "      <td>NaN</td>\n",
       "      <td>ND</td>\n",
       "      <td>NaN</td>\n",
       "      <td>NaN</td>\n",
       "    </tr>\n",
       "    <tr>\n",
       "      <th>3</th>\n",
       "      <td>2023-01-03</td>\n",
       "      <td>128 SYS</td>\n",
       "      <td>W1545521</td>\n",
       "      <td>TON</td>\n",
       "      <td>NaN</td>\n",
       "      <td>1.400</td>\n",
       "      <td>ODOR</td>\n",
       "      <td>Firethorn St/Palm Ave; Sample Stanchion</td>\n",
       "      <td>NaN</td>\n",
       "      <td>NaN</td>\n",
       "      <td>1.4</td>\n",
       "      <td>NaN</td>\n",
       "    </tr>\n",
       "    <tr>\n",
       "      <th>4</th>\n",
       "      <td>2023-01-03</td>\n",
       "      <td>128 SYS</td>\n",
       "      <td>W1545521</td>\n",
       "      <td>TURBIDITY</td>\n",
       "      <td>NaN</td>\n",
       "      <td>0.050</td>\n",
       "      <td>NTU</td>\n",
       "      <td>Firethorn St/Palm Ave; Sample Stanchion</td>\n",
       "      <td>NaN</td>\n",
       "      <td>NaN</td>\n",
       "      <td>NaN</td>\n",
       "      <td>0.05</td>\n",
       "    </tr>\n",
       "  </tbody>\n",
       "</table>\n",
       "</div>"
      ],
      "text/plain": [
       "  date_sample sample_source sample_id    analyte value_qualifier  \\\n",
       "0  2023-01-01       174 SYS  W1543804   FLUORIDE             NaN   \n",
       "1  2023-01-02       215 SYS  W1543809   FLUORIDE             NaN   \n",
       "2  2023-01-03       128 SYS  W1545521      COLOR              ND   \n",
       "3  2023-01-03       128 SYS  W1545521        TON             NaN   \n",
       "4  2023-01-03       128 SYS  W1545521  TURBIDITY             NaN   \n",
       "\n",
       "   analyte_value value_units                           source_description  \\\n",
       "0          0.786        MG/L  3250 Camino Del Rio North; Sample Stanchion   \n",
       "1          0.760        MG/L                 Across from 5105 Soledad Rd.   \n",
       "2            NaN       COLOR      Firethorn St/Palm Ave; Sample Stanchion   \n",
       "3          1.400        ODOR      Firethorn St/Palm Ave; Sample Stanchion   \n",
       "4          0.050         NTU      Firethorn St/Palm Ave; Sample Stanchion   \n",
       "\n",
       "   fluoride color  ton  turbidity  \n",
       "0     0.786   NaN  NaN        NaN  \n",
       "1     0.760   NaN  NaN        NaN  \n",
       "2       NaN    ND  NaN        NaN  \n",
       "3       NaN   NaN  1.4        NaN  \n",
       "4       NaN   NaN  NaN       0.05  "
      ]
     },
     "execution_count": 200,
     "metadata": {},
     "output_type": "execute_result"
    }
   ],
   "source": [
    "df_drinking.head()"
   ]
  },
  {
   "cell_type": "markdown",
   "metadata": {},
   "source": [
    "In this dataset we have both source names as well as the address or location of the source. With this we can use the source name to find the location of the source in our bacteria dataset."
   ]
  },
  {
   "cell_type": "code",
   "execution_count": 201,
   "metadata": {},
   "outputs": [
    {
     "data": {
      "text/plain": [
       "array(['174 SYS', '215 SYS', '128 SYS', '131 SYS', '136 SYS', '138A SYS',\n",
       "       '155 SYS', '201 SYS', '208A SYS', '223 SYS', '305 SYS', '340 SYS',\n",
       "       '43 SYS', '48 SYS', '50A SYS', '65 SYS', '67 SYS', '77A SYS',\n",
       "       '78A SYS', '313 SYS', '328 SYS', '55A SYS', '251 SYS', '171 SYS',\n",
       "       '304 SYS', '229 SYS', '59 SYS', '206 SYS', '277A SYS', '205 SYS',\n",
       "       '242 SYS', '249A SYS', '49A SYS', '184 SYS', '281 SYS', '150 SYS',\n",
       "       '259 SYS', '218 SYS', '284 SYS', '173 SYS', '140 SYS', '256 SYS',\n",
       "       '333 SYS', '148 SYS', '332 SYS'], dtype=object)"
      ]
     },
     "execution_count": 201,
     "metadata": {},
     "output_type": "execute_result"
    }
   ],
   "source": [
    "df_drinking['sample_source'].unique()"
   ]
  },
  {
   "cell_type": "code",
   "execution_count": 202,
   "metadata": {},
   "outputs": [
    {
     "data": {
      "text/plain": [
       "45"
      ]
     },
     "execution_count": 202,
     "metadata": {},
     "output_type": "execute_result"
    }
   ],
   "source": [
    "df_drinking['sample_source'].nunique()"
   ]
  },
  {
   "cell_type": "code",
   "execution_count": 203,
   "metadata": {},
   "outputs": [
    {
     "data": {
      "text/plain": [
       "<AxesSubplot:title={'center':'Count of Samples by Source for Drinking Water Dataset'}, xlabel='Number of Samples', ylabel='Source'>"
      ]
     },
     "execution_count": 203,
     "metadata": {},
     "output_type": "execute_result"
    },
    {
     "data": {
      "image/png": "[encoded data removed]",
      "text/plain": [
       "<Figure size 1080x720 with 1 Axes>"
      ]
     },
     "metadata": {
      "needs_background": "light"
     },
     "output_type": "display_data"
    }
   ],
   "source": [
    "f_vc_dw = plt.figure(figsize=(15,10))\n",
    "axs_vc_dw = plt.subplot()\n",
    "plt.title(\"Count of Samples by Source for Drinking Water Dataset\")\n",
    "plt.xlabel(\"Number of Samples\")\n",
    "plt.ylabel(\"Source\")\n",
    "axs_vc_dw.barh(df_drinking['sample_source'].unique(), df_drinking['sample_source'].value_counts())\n",
    "f_vc_dw.gca()"
   ]
  },
  {
   "cell_type": "markdown",
   "metadata": {},
   "source": [
    "Unfortunately, this dataset only has 45 of the sources listed. Lets examine the last dataset available and see if we can get any more locations."
   ]
  },
  {
   "cell_type": "code",
   "execution_count": 204,
   "metadata": {},
   "outputs": [
    {
     "data": {
      "text/html": [
       "<div>\n",
       "<style scoped>\n",
       "    .dataframe tbody tr th:only-of-type {\n",
       "        vertical-align: middle;\n",
       "    }\n",
       "\n",
       "    .dataframe tbody tr th {\n",
       "        vertical-align: top;\n",
       "    }\n",
       "\n",
       "    .dataframe thead th {\n",
       "        text-align: right;\n",
       "    }\n",
       "</style>\n",
       "<table border=\"1\" class=\"dataframe\">\n",
       "  <thead>\n",
       "    <tr style=\"text-align: right;\">\n",
       "      <th></th>\n",
       "      <th>date_sample</th>\n",
       "      <th>sample_source</th>\n",
       "      <th>sample_id</th>\n",
       "      <th>analyte</th>\n",
       "      <th>value_qualifier</th>\n",
       "      <th>analyte_value</th>\n",
       "      <th>value_units</th>\n",
       "      <th>source_description</th>\n",
       "    </tr>\n",
       "  </thead>\n",
       "  <tbody>\n",
       "    <tr>\n",
       "      <th>0</th>\n",
       "      <td>2023-01-01</td>\n",
       "      <td>174 SYS</td>\n",
       "      <td>W1543804</td>\n",
       "      <td>Fluoride</td>\n",
       "      <td>NaN</td>\n",
       "      <td>0.786</td>\n",
       "      <td>MG/L</td>\n",
       "      <td>3250 Camino Del Rio North; Sample Stanchion</td>\n",
       "    </tr>\n",
       "    <tr>\n",
       "      <th>1</th>\n",
       "      <td>2023-01-02</td>\n",
       "      <td>215 SYS</td>\n",
       "      <td>W1543809</td>\n",
       "      <td>Fluoride</td>\n",
       "      <td>NaN</td>\n",
       "      <td>0.760</td>\n",
       "      <td>MG/L</td>\n",
       "      <td>Across from 5105 Soledad Rd.</td>\n",
       "    </tr>\n",
       "    <tr>\n",
       "      <th>2</th>\n",
       "      <td>2023-01-03</td>\n",
       "      <td>284 SYS</td>\n",
       "      <td>W1545377</td>\n",
       "      <td>Chlorate</td>\n",
       "      <td>NaN</td>\n",
       "      <td>0.186</td>\n",
       "      <td>UG/L</td>\n",
       "      <td>Ocean View Hills Pkwy and Sea Drift Way</td>\n",
       "    </tr>\n",
       "    <tr>\n",
       "      <th>3</th>\n",
       "      <td>2023-01-03</td>\n",
       "      <td>284 SYS</td>\n",
       "      <td>W1545377</td>\n",
       "      <td>Chlorite</td>\n",
       "      <td>NaN</td>\n",
       "      <td>0.157</td>\n",
       "      <td>UG/L</td>\n",
       "      <td>Ocean View Hills Pkwy and Sea Drift Way</td>\n",
       "    </tr>\n",
       "    <tr>\n",
       "      <th>4</th>\n",
       "      <td>2023-01-03</td>\n",
       "      <td>67 SYS</td>\n",
       "      <td>W1545355</td>\n",
       "      <td>Fluoride</td>\n",
       "      <td>NaN</td>\n",
       "      <td>0.708</td>\n",
       "      <td>MG/L</td>\n",
       "      <td>Pomerado Rd &amp; Grandee Pl</td>\n",
       "    </tr>\n",
       "  </tbody>\n",
       "</table>\n",
       "</div>"
      ],
      "text/plain": [
       "  date_sample sample_source sample_id   analyte value_qualifier  \\\n",
       "0  2023-01-01       174 SYS  W1543804  Fluoride             NaN   \n",
       "1  2023-01-02       215 SYS  W1543809  Fluoride             NaN   \n",
       "2  2023-01-03       284 SYS  W1545377  Chlorate             NaN   \n",
       "3  2023-01-03       284 SYS  W1545377  Chlorite             NaN   \n",
       "4  2023-01-03        67 SYS  W1545355  Fluoride             NaN   \n",
       "\n",
       "   analyte_value value_units                           source_description  \n",
       "0          0.786        MG/L  3250 Camino Del Rio North; Sample Stanchion  \n",
       "1          0.760        MG/L                 Across from 5105 Soledad Rd.  \n",
       "2          0.186        UG/L      Ocean View Hills Pkwy and Sea Drift Way  \n",
       "3          0.157        UG/L      Ocean View Hills Pkwy and Sea Drift Way  \n",
       "4          0.708        MG/L                     Pomerado Rd & Grandee Pl  "
      ]
     },
     "execution_count": 204,
     "metadata": {},
     "output_type": "execute_result"
    }
   ],
   "source": [
    "df_effluent.head()"
   ]
  },
  {
   "cell_type": "code",
   "execution_count": 205,
   "metadata": {},
   "outputs": [
    {
     "data": {
      "text/plain": [
       "array(['174 SYS', '215 SYS', '284 SYS', '67 SYS', 'OT COMB FILTER',\n",
       "       'OT FILTER 1-8', 'OT FILTER 9-16', 'OT SETTLED', '119 SYS',\n",
       "       '313 SYS', '251 SYS', '300 SYS', '171 SYS', '208A SYS', '50A SYS',\n",
       "       '304 SYS', '229 SYS', '206 SYS', '277A SYS', '205 SYS', '155 SYS',\n",
       "       '242 SYS', '249A SYS', '131 SYS', '49A SYS', '184 SYS', '204A SYS',\n",
       "       '78A SYS', '281 SYS', '150 SYS', '259 SYS', '138A SYS', '218 SYS',\n",
       "       '173 SYS', '55A SYS'], dtype=object)"
      ]
     },
     "execution_count": 205,
     "metadata": {},
     "output_type": "execute_result"
    }
   ],
   "source": [
    "df_effluent['sample_source'].unique()"
   ]
  },
  {
   "cell_type": "code",
   "execution_count": 206,
   "metadata": {},
   "outputs": [
    {
     "data": {
      "text/plain": [
       "35"
      ]
     },
     "execution_count": 206,
     "metadata": {},
     "output_type": "execute_result"
    }
   ],
   "source": [
    "df_effluent['sample_source'].nunique()"
   ]
  },
  {
   "cell_type": "code",
   "execution_count": 207,
   "metadata": {},
   "outputs": [
    {
     "data": {
      "text/plain": [
       "<AxesSubplot:title={'center':'Count of Samples by Source for Effluent Water Dataset'}, xlabel='Number of Samples', ylabel='Source'>"
      ]
     },
     "execution_count": 207,
     "metadata": {},
     "output_type": "execute_result"
    },
    {
     "data": {
      "image/png": "[encoded data removed]",
      "text/plain": [
       "<Figure size 1080x720 with 1 Axes>"
      ]
     },
     "metadata": {
      "needs_background": "light"
     },
     "output_type": "display_data"
    }
   ],
   "source": [
    "f_vc_dw = plt.figure(figsize=(15,10))\n",
    "axs_vc_dw = plt.subplot()\n",
    "plt.title(\"Count of Samples by Source for Effluent Water Dataset\")\n",
    "plt.xlabel(\"Number of Samples\")\n",
    "plt.ylabel(\"Source\")\n",
    "axs_vc_dw.barh(df_effluent['sample_source'].unique(), df_effluent['sample_source'].value_counts())\n",
    "f_vc_dw.gca()"
   ]
  },
  {
   "cell_type": "markdown",
   "metadata": {},
   "source": [
    "This dataset has 35 locations, now let's see which of these locations are unique between these datasets."
   ]
  },
  {
   "cell_type": "code",
   "execution_count": 208,
   "metadata": {},
   "outputs": [
    {
     "name": "stdout",
     "output_type": "stream",
     "text": [
      "['43 SYS', '256 SYS', '333 SYS', '65 SYS', '305 SYS', '148 SYS', '223 SYS', '128 SYS', '136 SYS', '77A SYS', '59 SYS', '332 SYS', '201 SYS', '340 SYS', '140 SYS', '48 SYS', '328 SYS']\n",
      "['OT FILTER 9-16', 'OT COMB FILTER', '204A SYS', '300 SYS', '119 SYS', 'OT SETTLED', 'OT FILTER 1-8']\n"
     ]
    }
   ],
   "source": [
    "dw_not_ef = set(df_drinking['sample_source'])-set(df_effluent['sample_source'])\n",
    "ef_not_dw = set(df_effluent['sample_source'])-set(df_drinking['sample_source'])\n",
    "print(list(dw_not_ef))\n",
    "print(list(ef_not_dw))"
   ]
  },
  {
   "cell_type": "markdown",
   "metadata": {},
   "source": [
    "These are all of the sources that are unique to each dataset, so let's find the ones that do not exist in our bacteria dataset."
   ]
  },
  {
   "cell_type": "code",
   "execution_count": 209,
   "metadata": {},
   "outputs": [
    {
     "data": {
      "text/plain": [
       "['340 SYS', '136 SYS']"
      ]
     },
     "execution_count": 209,
     "metadata": {},
     "output_type": "execute_result"
    }
   ],
   "source": [
    "list(dw_not_ef-set(df_bacteria['source']))"
   ]
  },
  {
   "cell_type": "code",
   "execution_count": 210,
   "metadata": {},
   "outputs": [
    {
     "data": {
      "text/plain": [
       "['OT FILTER 9-16', 'OT COMB FILTER', '119 SYS', 'OT SETTLED', 'OT FILTER 1-8']"
      ]
     },
     "execution_count": 210,
     "metadata": {},
     "output_type": "execute_result"
    }
   ],
   "source": [
    "list(ef_not_dw-set(df_bacteria['source']))"
   ]
  },
  {
   "cell_type": "code",
   "execution_count": 211,
   "metadata": {},
   "outputs": [
    {
     "name": "stdout",
     "output_type": "stream",
     "text": [
      "['OT SETTLED', '119 SYS', 'OT COMB FILTER', 'OT FILTER 9-16', 'OT FILTER 1-8', '340 SYS', '136 SYS']\n"
     ]
    }
   ],
   "source": [
    "not_in = dw_not_ef-set(df_bacteria['source'])|ef_not_dw-set(df_bacteria['source'])\n",
    "print(list(dw_not_ef-set(df_bacteria['source'])|ef_not_dw-set(df_bacteria['source'])))"
   ]
  },
  {
   "cell_type": "markdown",
   "metadata": {},
   "source": [
    "Now we have the list of all locations from our supporting datasets that do not exist in our main bacteria dataset."
   ]
  },
  {
   "cell_type": "code",
   "execution_count": 212,
   "metadata": {},
   "outputs": [
    {
     "name": "stdout",
     "output_type": "stream",
     "text": [
      "['43 SYS', '173 SYS', '205 SYS', '277A SYS', '174 SYS', '218 SYS', '305 SYS', '208A SYS', '206 SYS', '284 SYS', '148 SYS', '59 SYS', '77A SYS', '249A SYS', '281 SYS', '215 SYS', '140 SYS', '50A SYS', '256 SYS', '313 SYS', '184 SYS', '204A SYS', '138A SYS', '67 SYS', '251 SYS', '328 SYS', '333 SYS', '229 SYS', '131 SYS', '223 SYS', '128 SYS', '55A SYS', '201 SYS', '48 SYS', '259 SYS', '242 SYS', '78A SYS', '304 SYS', '171 SYS', '332 SYS', '49A SYS', '300 SYS', '150 SYS', '155 SYS', '65 SYS']\n"
     ]
    }
   ],
   "source": [
    "sources = set(df_drinking['sample_source'].unique())|set(df_effluent['sample_source'].unique())\n",
    "sources = list(sources - not_in)\n",
    "print(sources)"
   ]
  },
  {
   "cell_type": "code",
   "execution_count": 213,
   "metadata": {},
   "outputs": [
    {
     "data": {
      "text/plain": [
       "45"
      ]
     },
     "execution_count": 213,
     "metadata": {},
     "output_type": "execute_result"
    }
   ],
   "source": [
    "combined = (df_drinking.merge(df_effluent,left_on=['sample_source','date_sample', 'source_description'],right_on=['sample_source','date_sample', 'source_description'],how='outer'))\n",
    "combined = combined[~combined['sample_source'].isin(not_in)]\n",
    "combined['sample_source'].nunique()"
   ]
  },
  {
   "cell_type": "markdown",
   "metadata": {},
   "source": [
    "Now we've combined our two supporting datasets and removed all of the samples that were taken from sources not in our bacteria dataset. This leaves us with 45 locations that we can use in our bacteria dataset."
   ]
  },
  {
   "cell_type": "code",
   "execution_count": 214,
   "metadata": {},
   "outputs": [
    {
     "data": {
      "text/html": [
       "<div>\n",
       "<style scoped>\n",
       "    .dataframe tbody tr th:only-of-type {\n",
       "        vertical-align: middle;\n",
       "    }\n",
       "\n",
       "    .dataframe tbody tr th {\n",
       "        vertical-align: top;\n",
       "    }\n",
       "\n",
       "    .dataframe thead th {\n",
       "        text-align: right;\n",
       "    }\n",
       "</style>\n",
       "<table border=\"1\" class=\"dataframe\">\n",
       "  <thead>\n",
       "    <tr style=\"text-align: right;\">\n",
       "      <th></th>\n",
       "      <th>date_sample</th>\n",
       "      <th>sample_source</th>\n",
       "      <th>sample_id_x</th>\n",
       "      <th>analyte_x</th>\n",
       "      <th>value_qualifier_x</th>\n",
       "      <th>analyte_value_x</th>\n",
       "      <th>value_units_x</th>\n",
       "      <th>source_description</th>\n",
       "      <th>fluoride</th>\n",
       "      <th>color</th>\n",
       "      <th>ton</th>\n",
       "      <th>turbidity</th>\n",
       "      <th>sample_id_y</th>\n",
       "      <th>analyte_y</th>\n",
       "      <th>value_qualifier_y</th>\n",
       "      <th>analyte_value_y</th>\n",
       "      <th>value_units_y</th>\n",
       "    </tr>\n",
       "  </thead>\n",
       "  <tbody>\n",
       "    <tr>\n",
       "      <th>0</th>\n",
       "      <td>2023-01-01</td>\n",
       "      <td>174 SYS</td>\n",
       "      <td>W1543804</td>\n",
       "      <td>FLUORIDE</td>\n",
       "      <td>NaN</td>\n",
       "      <td>0.786</td>\n",
       "      <td>MG/L</td>\n",
       "      <td>3250 Camino Del Rio North; Sample Stanchion</td>\n",
       "      <td>0.786</td>\n",
       "      <td>NaN</td>\n",
       "      <td>NaN</td>\n",
       "      <td>NaN</td>\n",
       "      <td>W1543804</td>\n",
       "      <td>Fluoride</td>\n",
       "      <td>NaN</td>\n",
       "      <td>0.786</td>\n",
       "      <td>MG/L</td>\n",
       "    </tr>\n",
       "    <tr>\n",
       "      <th>1</th>\n",
       "      <td>2023-01-02</td>\n",
       "      <td>215 SYS</td>\n",
       "      <td>W1543809</td>\n",
       "      <td>FLUORIDE</td>\n",
       "      <td>NaN</td>\n",
       "      <td>0.760</td>\n",
       "      <td>MG/L</td>\n",
       "      <td>Across from 5105 Soledad Rd.</td>\n",
       "      <td>0.760</td>\n",
       "      <td>NaN</td>\n",
       "      <td>NaN</td>\n",
       "      <td>NaN</td>\n",
       "      <td>W1543809</td>\n",
       "      <td>Fluoride</td>\n",
       "      <td>NaN</td>\n",
       "      <td>0.760</td>\n",
       "      <td>MG/L</td>\n",
       "    </tr>\n",
       "    <tr>\n",
       "      <th>2</th>\n",
       "      <td>2023-01-03</td>\n",
       "      <td>128 SYS</td>\n",
       "      <td>W1545521</td>\n",
       "      <td>COLOR</td>\n",
       "      <td>ND</td>\n",
       "      <td>NaN</td>\n",
       "      <td>COLOR</td>\n",
       "      <td>Firethorn St/Palm Ave; Sample Stanchion</td>\n",
       "      <td>NaN</td>\n",
       "      <td>ND</td>\n",
       "      <td>NaN</td>\n",
       "      <td>NaN</td>\n",
       "      <td>NaN</td>\n",
       "      <td>NaN</td>\n",
       "      <td>NaN</td>\n",
       "      <td>NaN</td>\n",
       "      <td>NaN</td>\n",
       "    </tr>\n",
       "    <tr>\n",
       "      <th>3</th>\n",
       "      <td>2023-01-03</td>\n",
       "      <td>128 SYS</td>\n",
       "      <td>W1545521</td>\n",
       "      <td>TON</td>\n",
       "      <td>NaN</td>\n",
       "      <td>1.400</td>\n",
       "      <td>ODOR</td>\n",
       "      <td>Firethorn St/Palm Ave; Sample Stanchion</td>\n",
       "      <td>NaN</td>\n",
       "      <td>NaN</td>\n",
       "      <td>1.4</td>\n",
       "      <td>NaN</td>\n",
       "      <td>NaN</td>\n",
       "      <td>NaN</td>\n",
       "      <td>NaN</td>\n",
       "      <td>NaN</td>\n",
       "      <td>NaN</td>\n",
       "    </tr>\n",
       "    <tr>\n",
       "      <th>4</th>\n",
       "      <td>2023-01-03</td>\n",
       "      <td>128 SYS</td>\n",
       "      <td>W1545521</td>\n",
       "      <td>TURBIDITY</td>\n",
       "      <td>NaN</td>\n",
       "      <td>0.050</td>\n",
       "      <td>NTU</td>\n",
       "      <td>Firethorn St/Palm Ave; Sample Stanchion</td>\n",
       "      <td>NaN</td>\n",
       "      <td>NaN</td>\n",
       "      <td>NaN</td>\n",
       "      <td>0.05</td>\n",
       "      <td>NaN</td>\n",
       "      <td>NaN</td>\n",
       "      <td>NaN</td>\n",
       "      <td>NaN</td>\n",
       "      <td>NaN</td>\n",
       "    </tr>\n",
       "  </tbody>\n",
       "</table>\n",
       "</div>"
      ],
      "text/plain": [
       "  date_sample sample_source sample_id_x  analyte_x value_qualifier_x  \\\n",
       "0  2023-01-01       174 SYS    W1543804   FLUORIDE               NaN   \n",
       "1  2023-01-02       215 SYS    W1543809   FLUORIDE               NaN   \n",
       "2  2023-01-03       128 SYS    W1545521      COLOR                ND   \n",
       "3  2023-01-03       128 SYS    W1545521        TON               NaN   \n",
       "4  2023-01-03       128 SYS    W1545521  TURBIDITY               NaN   \n",
       "\n",
       "   analyte_value_x value_units_x                           source_description  \\\n",
       "0            0.786          MG/L  3250 Camino Del Rio North; Sample Stanchion   \n",
       "1            0.760          MG/L                 Across from 5105 Soledad Rd.   \n",
       "2              NaN         COLOR      Firethorn St/Palm Ave; Sample Stanchion   \n",
       "3            1.400          ODOR      Firethorn St/Palm Ave; Sample Stanchion   \n",
       "4            0.050           NTU      Firethorn St/Palm Ave; Sample Stanchion   \n",
       "\n",
       "   fluoride color  ton  turbidity sample_id_y analyte_y value_qualifier_y  \\\n",
       "0     0.786   NaN  NaN        NaN    W1543804  Fluoride               NaN   \n",
       "1     0.760   NaN  NaN        NaN    W1543809  Fluoride               NaN   \n",
       "2       NaN    ND  NaN        NaN         NaN       NaN               NaN   \n",
       "3       NaN   NaN  1.4        NaN         NaN       NaN               NaN   \n",
       "4       NaN   NaN  NaN       0.05         NaN       NaN               NaN   \n",
       "\n",
       "   analyte_value_y value_units_y  \n",
       "0            0.786          MG/L  \n",
       "1            0.760          MG/L  \n",
       "2              NaN           NaN  \n",
       "3              NaN           NaN  \n",
       "4              NaN           NaN  "
      ]
     },
     "execution_count": 214,
     "metadata": {},
     "output_type": "execute_result"
    }
   ],
   "source": [
    "combined.head()"
   ]
  },
  {
   "cell_type": "code",
   "execution_count": 215,
   "metadata": {},
   "outputs": [
    {
     "data": {
      "text/html": [
       "<div>\n",
       "<style scoped>\n",
       "    .dataframe tbody tr th:only-of-type {\n",
       "        vertical-align: middle;\n",
       "    }\n",
       "\n",
       "    .dataframe tbody tr th {\n",
       "        vertical-align: top;\n",
       "    }\n",
       "\n",
       "    .dataframe thead th {\n",
       "        text-align: right;\n",
       "    }\n",
       "</style>\n",
       "<table border=\"1\" class=\"dataframe\">\n",
       "  <thead>\n",
       "    <tr style=\"text-align: right;\">\n",
       "      <th></th>\n",
       "      <th>date_sample</th>\n",
       "      <th>sample_source</th>\n",
       "      <th>source_description</th>\n",
       "      <th>fluoride</th>\n",
       "      <th>color</th>\n",
       "      <th>ton</th>\n",
       "      <th>turbidity</th>\n",
       "    </tr>\n",
       "  </thead>\n",
       "  <tbody>\n",
       "    <tr>\n",
       "      <th>0</th>\n",
       "      <td>2023-01-01</td>\n",
       "      <td>174 SYS</td>\n",
       "      <td>3250 Camino Del Rio North; Sample Stanchion</td>\n",
       "      <td>0.786</td>\n",
       "      <td>NaN</td>\n",
       "      <td>NaN</td>\n",
       "      <td>NaN</td>\n",
       "    </tr>\n",
       "    <tr>\n",
       "      <th>1</th>\n",
       "      <td>2023-01-02</td>\n",
       "      <td>215 SYS</td>\n",
       "      <td>Across from 5105 Soledad Rd.</td>\n",
       "      <td>0.760</td>\n",
       "      <td>NaN</td>\n",
       "      <td>NaN</td>\n",
       "      <td>NaN</td>\n",
       "    </tr>\n",
       "    <tr>\n",
       "      <th>2</th>\n",
       "      <td>2023-01-03</td>\n",
       "      <td>128 SYS</td>\n",
       "      <td>Firethorn St/Palm Ave; Sample Stanchion</td>\n",
       "      <td>NaN</td>\n",
       "      <td>ND</td>\n",
       "      <td>NaN</td>\n",
       "      <td>NaN</td>\n",
       "    </tr>\n",
       "    <tr>\n",
       "      <th>3</th>\n",
       "      <td>2023-01-03</td>\n",
       "      <td>128 SYS</td>\n",
       "      <td>Firethorn St/Palm Ave; Sample Stanchion</td>\n",
       "      <td>NaN</td>\n",
       "      <td>NaN</td>\n",
       "      <td>1.4</td>\n",
       "      <td>NaN</td>\n",
       "    </tr>\n",
       "    <tr>\n",
       "      <th>4</th>\n",
       "      <td>2023-01-03</td>\n",
       "      <td>128 SYS</td>\n",
       "      <td>Firethorn St/Palm Ave; Sample Stanchion</td>\n",
       "      <td>NaN</td>\n",
       "      <td>NaN</td>\n",
       "      <td>NaN</td>\n",
       "      <td>0.05</td>\n",
       "    </tr>\n",
       "  </tbody>\n",
       "</table>\n",
       "</div>"
      ],
      "text/plain": [
       "  date_sample sample_source                           source_description  \\\n",
       "0  2023-01-01       174 SYS  3250 Camino Del Rio North; Sample Stanchion   \n",
       "1  2023-01-02       215 SYS                 Across from 5105 Soledad Rd.   \n",
       "2  2023-01-03       128 SYS      Firethorn St/Palm Ave; Sample Stanchion   \n",
       "3  2023-01-03       128 SYS      Firethorn St/Palm Ave; Sample Stanchion   \n",
       "4  2023-01-03       128 SYS      Firethorn St/Palm Ave; Sample Stanchion   \n",
       "\n",
       "   fluoride color  ton  turbidity  \n",
       "0     0.786   NaN  NaN        NaN  \n",
       "1     0.760   NaN  NaN        NaN  \n",
       "2       NaN    ND  NaN        NaN  \n",
       "3       NaN   NaN  1.4        NaN  \n",
       "4       NaN   NaN  NaN       0.05  "
      ]
     },
     "execution_count": 215,
     "metadata": {},
     "output_type": "execute_result"
    }
   ],
   "source": [
    "combined = combined.drop(['sample_id_x', 'analyte_x', 'value_qualifier_x', 'analyte_value_x', 'value_units_x', 'sample_id_y', 'analyte_y', 'value_qualifier_y', 'analyte_value_y', 'value_units_y'], axis = 1)\n",
    "combined.head()"
   ]
  },
  {
   "cell_type": "markdown",
   "metadata": {},
   "source": [
    "The combined dataset had much more data then we actually needed, so we trimmed it down to what we need right now."
   ]
  },
  {
   "cell_type": "code",
   "execution_count": 216,
   "metadata": {},
   "outputs": [
    {
     "data": {
      "text/plain": [
       "array(['3250 Camino Del Rio North; Sample Stanchion',\n",
       "       'Across from 5105 Soledad Rd.',\n",
       "       'Firethorn St/Palm Ave; Sample Stanchion',\n",
       "       'E Park Ave/San Ysidro Blvd;Sample Stanchion',\n",
       "       '4202 N. Harbor Drive; Sample Stanchion', 'Adams & Marlborough',\n",
       "       '1880 Smythe Ave. Sample Stanchion', 'Across from 6236 Wenrich',\n",
       "       '8441 New Salem St @ Fire Station', '4948 1/2 Carbine Way',\n",
       "       '300 Blk of Rosecrans Sample Stanchion',\n",
       "       'Coast Bl. South/Eads Ave; Sample Stanchion', '2693 Melbourne Dr.',\n",
       "       'El Amigo Rd & Durango Dr', 'Pomerado Rd & Grandee Pl',\n",
       "       'Palabra Circle', '6200 Calle Mariselda', '11602 Calle Paracho',\n",
       "       '16909 Stonebridge Pkwy', '5183 Arvinels Ave.',\n",
       "       '5840 Ravenswood Rd.', '6541 Broadway', '14462 Garden Trail',\n",
       "       'Carmel Park Dr/Del Mar Glen @ Public School',\n",
       "       'La Cuenta Dr & Tierrasanta Blvd @ Fire Station',\n",
       "       '1055 Catalina Blvd @ Fire Station Sample Stanchion',\n",
       "       ' 12241 Camino Del Sur',\n",
       "       'close to 1856 Manzana Way; Sample Stanchion', '7260 Barker Way',\n",
       "       '6429 Glidden St.; Sample Stanchion',\n",
       "       'John J. Hopkins Dr. & General Atomic', '12170 Springhurst Dr.',\n",
       "       '6831 Monte Verde Dr', 'Acorn St & 62nd St @ Fire Station',\n",
       "       '3945 Alameda Dr; Sample Box', '2110 Via Casa Alta @ Fire Station',\n",
       "       'Ocean View Hills Pkwy and Sea Drift Way',\n",
       "       'Rancho Hills & Reo Dr @ Library/Sample Stanchion',\n",
       "       '45th St/Imperial Ave; Sample Stanchion',\n",
       "       '1808 Sea Star Lane (hosebib on backflow prev cage)',\n",
       "       '1329 Gertrude St', 'Upas & Richmond', '1277 W. G St',\n",
       "       '5368 Topsail Drive', '2787 Alta View Drive'], dtype=object)"
      ]
     },
     "execution_count": 216,
     "metadata": {},
     "output_type": "execute_result"
    }
   ],
   "source": [
    "combined['source_description'].unique()"
   ]
  },
  {
   "cell_type": "code",
   "execution_count": 217,
   "metadata": {},
   "outputs": [
    {
     "data": {
      "text/plain": [
       "Across from 6236 Wenrich                              1174\n",
       "Pomerado Rd & Grandee Pl                              1166\n",
       "6200 Calle Mariselda                                  1166\n",
       "E Park Ave/San Ysidro Blvd;Sample Stanchion           1162\n",
       "Adams & Marlborough                                   1160\n",
       "2693 Melbourne Dr.                                    1158\n",
       "5183 Arvinels Ave.                                    1155\n",
       "4202 N. Harbor Drive; Sample Stanchion                1150\n",
       "El Amigo Rd & Durango Dr                              1076\n",
       "8441 New Salem St @ Fire Station                      1075\n",
       "Palabra Circle                                        1073\n",
       "Coast Bl. South/Eads Ave; Sample Stanchion            1072\n",
       "Firethorn St/Palm Ave; Sample Stanchion               1071\n",
       "300 Blk of Rosecrans Sample Stanchion                 1071\n",
       "1880 Smythe Ave. Sample Stanchion                     1070\n",
       "Ocean View Hills Pkwy and Sea Drift Way                389\n",
       "5368 Topsail Drive                                     298\n",
       "4948 1/2 Carbine Way                                   248\n",
       "La Cuenta Dr & Tierrasanta Blvd @ Fire Station         246\n",
       "2787 Alta View Drive                                   150\n",
       "6831 Monte Verde Dr                                     98\n",
       "Acorn St & 62nd St @ Fire Station                       96\n",
       "6541 Broadway                                           95\n",
       "3945 Alameda Dr; Sample Box                             94\n",
       "Across from 5105 Soledad Rd.                            93\n",
       "6429 Glidden St.; Sample Stanchion                      93\n",
       "12170 Springhurst Dr.                                   93\n",
       "2110 Via Casa Alta @ Fire Station                       92\n",
       "John J. Hopkins Dr. & General Atomic                    92\n",
       "3250 Camino Del Rio North; Sample Stanchion             92\n",
       "7260 Barker Way                                         92\n",
       "close to 1856 Manzana Way; Sample Stanchion             92\n",
       " 12241 Camino Del Sur                                   92\n",
       "5840 Ravenswood Rd.                                     92\n",
       "11602 Calle Paracho                                     92\n",
       "14462 Garden Trail                                      92\n",
       "Carmel Park Dr/Del Mar Glen @ Public School             91\n",
       "Rancho Hills & Reo Dr @ Library/Sample Stanchion        91\n",
       "1055 Catalina Blvd @ Fire Station Sample Stanchion      90\n",
       "16909 Stonebridge Pkwy                                  28\n",
       "1808 Sea Star Lane (hosebib on backflow prev cage)       2\n",
       "Upas & Richmond                                          2\n",
       "1277 W. G St                                             2\n",
       "45th St/Imperial Ave; Sample Stanchion                   1\n",
       "1329 Gertrude St                                         1\n",
       "Name: source_description, dtype: int64"
      ]
     },
     "execution_count": 217,
     "metadata": {},
     "output_type": "execute_result"
    }
   ],
   "source": [
    "combined['source_description'].value_counts()"
   ]
  },
  {
   "cell_type": "markdown",
   "metadata": {},
   "source": [
    "Now is the tedious part. Since we only have street addresses or approximate locations, we do not have a good way to generalize this information. What we will do now is take these approximate locations and find the zip code that it is located in. This way we can better generalize our data while making it more precise and easier to work with."
   ]
  },
  {
   "cell_type": "code",
   "execution_count": 218,
   "metadata": {},
   "outputs": [],
   "source": [
    "def find_zip(str_in):    \n",
    "    str_in = str_in.replace('Across from 6236 Wenrich', '92120')\n",
    "    str_in = str_in.replace('Pomerado Rd & Grandee Pl', '92128')\n",
    "    str_in = str_in.replace('6200 Calle Mariselda', '92124')\n",
    "    str_in = str_in.replace('E Park Ave/San Ysidro Blvd;Sample Stanchion', '92173')\n",
    "    str_in = str_in.replace('Adams & Marlborough', '92116')\n",
    "    str_in = str_in.replace('2693 Melbourne Dr.', '92123')\n",
    "    str_in = str_in.replace('5183 Arvinels Ave.', '92117')\n",
    "    str_in = str_in.replace('4202 N. Harbor Drive; Sample Stanchion', '92101')\n",
    "    str_in = str_in.replace('El Amigo Rd & Durango Dr', '92014')\n",
    "    str_in = str_in.replace('8441 New Salem St @ Fire Station', '92126')\n",
    "    str_in = str_in.replace('Palabra Circle', '92124')\n",
    "    str_in = str_in.replace('Coast Bl. South/Eads Ave; Sample Stanchion', '92037')\n",
    "    str_in = str_in.replace('Firethorn St/Palm Ave; Sample Stanchion', '92154')\n",
    "    str_in = str_in.replace('300 Blk of Rosecrans Sample Stanchion', '92106')\n",
    "    str_in = str_in.replace('1880 Smythe Ave. Sample Stanchion', '92173')\n",
    "    str_in = str_in.replace('Ocean View Hills Pkwy and Sea Drift Way', '92154')\n",
    "    str_in = str_in.replace('5368 Topsail Drive', '92154')\n",
    "    str_in = str_in.replace('4948 1/2 Carbine Way', '92154')\n",
    "    str_in = str_in.replace('La Cuenta Dr & Tierrasanta Blvd @ Fire Station', '92124')\n",
    "    str_in = str_in.replace('2787 Alta View Drive', '92139')\n",
    "    str_in = str_in.replace('6831 Monte Verde Dr', '92119')\n",
    "    str_in = str_in.replace('Acorn St & 62nd St @ Fire Station', '92115')\n",
    "    str_in = str_in.replace('6541 Broadway', '92114')\n",
    "    str_in = str_in.replace('3945 Alameda Dr; Sample Box', '92103')\n",
    "    str_in = str_in.replace('Across from 5105 Soledad Rd.', '92109')\n",
    "    str_in = str_in.replace('6429 Glidden St.; Sample Stanchion', '92111')\n",
    "    str_in = str_in.replace('12170 Springhurst Dr.', '92128')\n",
    "    str_in = str_in.replace('2110 Via Casa Alta @ Fire Station', '92037')\n",
    "    str_in = str_in.replace('John J. Hopkins Dr. & General Atomic', '92121')\n",
    "    str_in = str_in.replace('3250 Camino Del Rio North; Sample Stanchion', '92108')\n",
    "    str_in = str_in.replace('7260 Barker Way', '92119')\n",
    "    str_in = str_in.replace('close to 1856 Manzana Way; Sample Stanchion', '92139')\n",
    "    str_in = str_in.replace(' 12241 Camino Del Sur', '92129')\n",
    "    str_in = str_in.replace('5840 Ravenswood Rd.', '92037')\n",
    "    str_in = str_in.replace('11602 Calle Paracho', '92128')\n",
    "    str_in = str_in.replace('14462 Garden Trail', '92127')\n",
    "    str_in = str_in.replace('Carmel Park Dr/Del Mar Glen @ Public School', '92130')\n",
    "    str_in = str_in.replace('Rancho Hills & Reo Dr @ Library/Sample Stanchion', '92139')\n",
    "    str_in = str_in.replace('1055 Catalina Blvd @ Fire Station Sample Stanchion', '92106')\n",
    "    str_in = str_in.replace('16909 Stonebridge Pkwy', '92131')\n",
    "    str_in = str_in.replace('1808 Sea Star Lane (hosebib on backflow prev cage)', '92139')\n",
    "    str_in = str_in.replace('Upas & Richmond', '92103')\n",
    "    str_in = str_in.replace('1277 W. G St', '92101')\n",
    "    str_in = str_in.replace('45th St/Imperial Ave; Sample Stanchion', '92113')\n",
    "    str_in = str_in.replace('1329 Gertrude St', '92110')\n",
    "    str_in = str_in.strip()\n",
    "    \n",
    "    # Cast to integer, if what's left seems appropriate\n",
    "    if str_in.isnumeric() and int(str_in) < 100000:\n",
    "        out = int(str_in)\n",
    "    # Otherwise, consider input was probably ill-formed, return nan\n",
    "    else: \n",
    "        out = np.nan\n",
    "    \n",
    "    return out"
   ]
  },
  {
   "cell_type": "code",
   "execution_count": 219,
   "metadata": {},
   "outputs": [
    {
     "data": {
      "text/html": [
       "<div>\n",
       "<style scoped>\n",
       "    .dataframe tbody tr th:only-of-type {\n",
       "        vertical-align: middle;\n",
       "    }\n",
       "\n",
       "    .dataframe tbody tr th {\n",
       "        vertical-align: top;\n",
       "    }\n",
       "\n",
       "    .dataframe thead th {\n",
       "        text-align: right;\n",
       "    }\n",
       "</style>\n",
       "<table border=\"1\" class=\"dataframe\">\n",
       "  <thead>\n",
       "    <tr style=\"text-align: right;\">\n",
       "      <th></th>\n",
       "      <th>date_sample</th>\n",
       "      <th>sample_source</th>\n",
       "      <th>source_description</th>\n",
       "      <th>fluoride</th>\n",
       "      <th>color</th>\n",
       "      <th>ton</th>\n",
       "      <th>turbidity</th>\n",
       "      <th>zip</th>\n",
       "    </tr>\n",
       "  </thead>\n",
       "  <tbody>\n",
       "    <tr>\n",
       "      <th>0</th>\n",
       "      <td>2023-01-01</td>\n",
       "      <td>174 SYS</td>\n",
       "      <td>3250 Camino Del Rio North; Sample Stanchion</td>\n",
       "      <td>0.786</td>\n",
       "      <td>NaN</td>\n",
       "      <td>NaN</td>\n",
       "      <td>NaN</td>\n",
       "      <td>92108</td>\n",
       "    </tr>\n",
       "    <tr>\n",
       "      <th>1</th>\n",
       "      <td>2023-01-02</td>\n",
       "      <td>215 SYS</td>\n",
       "      <td>Across from 5105 Soledad Rd.</td>\n",
       "      <td>0.760</td>\n",
       "      <td>NaN</td>\n",
       "      <td>NaN</td>\n",
       "      <td>NaN</td>\n",
       "      <td>92109</td>\n",
       "    </tr>\n",
       "    <tr>\n",
       "      <th>2</th>\n",
       "      <td>2023-01-03</td>\n",
       "      <td>128 SYS</td>\n",
       "      <td>Firethorn St/Palm Ave; Sample Stanchion</td>\n",
       "      <td>NaN</td>\n",
       "      <td>ND</td>\n",
       "      <td>NaN</td>\n",
       "      <td>NaN</td>\n",
       "      <td>92154</td>\n",
       "    </tr>\n",
       "    <tr>\n",
       "      <th>3</th>\n",
       "      <td>2023-01-03</td>\n",
       "      <td>128 SYS</td>\n",
       "      <td>Firethorn St/Palm Ave; Sample Stanchion</td>\n",
       "      <td>NaN</td>\n",
       "      <td>NaN</td>\n",
       "      <td>1.4</td>\n",
       "      <td>NaN</td>\n",
       "      <td>92154</td>\n",
       "    </tr>\n",
       "    <tr>\n",
       "      <th>4</th>\n",
       "      <td>2023-01-03</td>\n",
       "      <td>128 SYS</td>\n",
       "      <td>Firethorn St/Palm Ave; Sample Stanchion</td>\n",
       "      <td>NaN</td>\n",
       "      <td>NaN</td>\n",
       "      <td>NaN</td>\n",
       "      <td>0.05</td>\n",
       "      <td>92154</td>\n",
       "    </tr>\n",
       "  </tbody>\n",
       "</table>\n",
       "</div>"
      ],
      "text/plain": [
       "  date_sample sample_source                           source_description  \\\n",
       "0  2023-01-01       174 SYS  3250 Camino Del Rio North; Sample Stanchion   \n",
       "1  2023-01-02       215 SYS                 Across from 5105 Soledad Rd.   \n",
       "2  2023-01-03       128 SYS      Firethorn St/Palm Ave; Sample Stanchion   \n",
       "3  2023-01-03       128 SYS      Firethorn St/Palm Ave; Sample Stanchion   \n",
       "4  2023-01-03       128 SYS      Firethorn St/Palm Ave; Sample Stanchion   \n",
       "\n",
       "   fluoride color  ton  turbidity    zip  \n",
       "0     0.786   NaN  NaN        NaN  92108  \n",
       "1     0.760   NaN  NaN        NaN  92109  \n",
       "2       NaN    ND  NaN        NaN  92154  \n",
       "3       NaN   NaN  1.4        NaN  92154  \n",
       "4       NaN   NaN  NaN       0.05  92154  "
      ]
     },
     "execution_count": 219,
     "metadata": {},
     "output_type": "execute_result"
    }
   ],
   "source": [
    "combined['zip'] = combined.loc[:, 'source_description']\n",
    "combined['zip'] = combined['zip'].apply(find_zip)\n",
    "combined.head()"
   ]
  },
  {
   "cell_type": "code",
   "execution_count": 220,
   "metadata": {},
   "outputs": [
    {
     "data": {
      "text/plain": [
       "(19928, 8)"
      ]
     },
     "execution_count": 220,
     "metadata": {},
     "output_type": "execute_result"
    }
   ],
   "source": [
    "combined.shape"
   ]
  },
  {
   "cell_type": "code",
   "execution_count": 221,
   "metadata": {},
   "outputs": [
    {
     "data": {
      "text/plain": [
       "array([92108, 92109, 92154, 92173, 92101, 92116, 92120, 92126, 92106,\n",
       "       92037, 92123, 92014, 92128, 92124, 92131, 92117, 92114, 92127,\n",
       "       92130, 92129, 92139, 92119, 92111, 92121, 92115, 92103, 92113,\n",
       "       92110], dtype=int64)"
      ]
     },
     "execution_count": 221,
     "metadata": {},
     "output_type": "execute_result"
    }
   ],
   "source": [
    "combined['zip'].unique()"
   ]
  },
  {
   "cell_type": "code",
   "execution_count": 222,
   "metadata": {},
   "outputs": [
    {
     "data": {
      "text/plain": [
       "28"
      ]
     },
     "execution_count": 222,
     "metadata": {},
     "output_type": "execute_result"
    }
   ],
   "source": [
    "combined['zip'].nunique()"
   ]
  },
  {
   "cell_type": "markdown",
   "metadata": {},
   "source": [
    "After many manual searches of addresses we now have a list of zip addresses to go with our source locations. In total, we have 28 different zip codes across San Diego."
   ]
  },
  {
   "cell_type": "markdown",
   "metadata": {},
   "source": [
    "Now that we have a list that ties source name to source location to the source's zip code, we can now use this to find out the zip code that our sources are located at in our bacteria dataset."
   ]
  },
  {
   "cell_type": "code",
   "execution_count": 223,
   "metadata": {},
   "outputs": [
    {
     "data": {
      "text/html": [
       "<div>\n",
       "<style scoped>\n",
       "    .dataframe tbody tr th:only-of-type {\n",
       "        vertical-align: middle;\n",
       "    }\n",
       "\n",
       "    .dataframe tbody tr th {\n",
       "        vertical-align: top;\n",
       "    }\n",
       "\n",
       "    .dataframe thead th {\n",
       "        text-align: right;\n",
       "    }\n",
       "</style>\n",
       "<table border=\"1\" class=\"dataframe\">\n",
       "  <thead>\n",
       "    <tr style=\"text-align: right;\">\n",
       "      <th></th>\n",
       "      <th>FR_NUM</th>\n",
       "      <th>date_sampled</th>\n",
       "      <th>source</th>\n",
       "      <th>sample_id</th>\n",
       "      <th>t_coliform</th>\n",
       "      <th>cl2_total</th>\n",
       "      <th>e_coli</th>\n",
       "      <th>temperature</th>\n",
       "      <th>ph</th>\n",
       "      <th>sample_source</th>\n",
       "      <th>zip</th>\n",
       "    </tr>\n",
       "  </thead>\n",
       "  <tbody>\n",
       "    <tr>\n",
       "      <th>0</th>\n",
       "      <td>244336</td>\n",
       "      <td>2014-06-05</td>\n",
       "      <td>150 SYS</td>\n",
       "      <td>W983127</td>\n",
       "      <td>0</td>\n",
       "      <td>3.2</td>\n",
       "      <td>0</td>\n",
       "      <td>22.4</td>\n",
       "      <td>8.06</td>\n",
       "      <td>150 SYS</td>\n",
       "      <td>92115</td>\n",
       "    </tr>\n",
       "    <tr>\n",
       "      <th>96</th>\n",
       "      <td>244908</td>\n",
       "      <td>2014-06-12</td>\n",
       "      <td>150 SYS</td>\n",
       "      <td>W984805</td>\n",
       "      <td>0</td>\n",
       "      <td>2.9</td>\n",
       "      <td>0</td>\n",
       "      <td>23.5</td>\n",
       "      <td>7.80</td>\n",
       "      <td>150 SYS</td>\n",
       "      <td>92115</td>\n",
       "    </tr>\n",
       "    <tr>\n",
       "      <th>192</th>\n",
       "      <td>245268</td>\n",
       "      <td>2014-06-19</td>\n",
       "      <td>150 SYS</td>\n",
       "      <td>W986792</td>\n",
       "      <td>0</td>\n",
       "      <td>3.1</td>\n",
       "      <td>0</td>\n",
       "      <td>25.1</td>\n",
       "      <td>7.96</td>\n",
       "      <td>150 SYS</td>\n",
       "      <td>92115</td>\n",
       "    </tr>\n",
       "    <tr>\n",
       "      <th>288</th>\n",
       "      <td>245352</td>\n",
       "      <td>2014-06-26</td>\n",
       "      <td>150 SYS</td>\n",
       "      <td>W986958</td>\n",
       "      <td>0</td>\n",
       "      <td>3.0</td>\n",
       "      <td>0</td>\n",
       "      <td>24.1</td>\n",
       "      <td>8.25</td>\n",
       "      <td>150 SYS</td>\n",
       "      <td>92115</td>\n",
       "    </tr>\n",
       "    <tr>\n",
       "      <th>384</th>\n",
       "      <td>245867</td>\n",
       "      <td>2014-07-03</td>\n",
       "      <td>150 SYS</td>\n",
       "      <td>W988399</td>\n",
       "      <td>0</td>\n",
       "      <td>2.3</td>\n",
       "      <td>0</td>\n",
       "      <td>25.2</td>\n",
       "      <td>8.03</td>\n",
       "      <td>150 SYS</td>\n",
       "      <td>92115</td>\n",
       "    </tr>\n",
       "  </tbody>\n",
       "</table>\n",
       "</div>"
      ],
      "text/plain": [
       "     FR_NUM date_sampled   source sample_id  t_coliform  cl2_total  e_coli  \\\n",
       "0    244336   2014-06-05  150 SYS   W983127           0        3.2       0   \n",
       "96   244908   2014-06-12  150 SYS   W984805           0        2.9       0   \n",
       "192  245268   2014-06-19  150 SYS   W986792           0        3.1       0   \n",
       "288  245352   2014-06-26  150 SYS   W986958           0        3.0       0   \n",
       "384  245867   2014-07-03  150 SYS   W988399           0        2.3       0   \n",
       "\n",
       "     temperature    ph sample_source    zip  \n",
       "0           22.4  8.06       150 SYS  92115  \n",
       "96          23.5  7.80       150 SYS  92115  \n",
       "192         25.1  7.96       150 SYS  92115  \n",
       "288         24.1  8.25       150 SYS  92115  \n",
       "384         25.2  8.03       150 SYS  92115  "
      ]
     },
     "execution_count": 223,
     "metadata": {},
     "output_type": "execute_result"
    }
   ],
   "source": [
    "df_zip = df_bacteria.merge(combined[['sample_source', 'zip']], left_on=['source'], right_on=['sample_source'], how='inner').drop_duplicates()\n",
    "df_zip.head()"
   ]
  },
  {
   "cell_type": "code",
   "execution_count": 224,
   "metadata": {},
   "outputs": [
    {
     "data": {
      "text/plain": [
       "array([92115, 92128, 92129, 92114, 92139, 92154, 92109, 92037, 92131,\n",
       "       92103, 92101, 92106, 92110, 92108, 92119, 92120, 92124, 92117,\n",
       "       92123, 92121, 92126, 92130, 92014, 92127, 92116, 92173, 92113,\n",
       "       92111], dtype=int64)"
      ]
     },
     "execution_count": 224,
     "metadata": {},
     "output_type": "execute_result"
    }
   ],
   "source": [
    "df_zip['zip'].unique()"
   ]
  },
  {
   "cell_type": "code",
   "execution_count": 225,
   "metadata": {},
   "outputs": [
    {
     "data": {
      "text/plain": [
       "28"
      ]
     },
     "execution_count": 225,
     "metadata": {},
     "output_type": "execute_result"
    }
   ],
   "source": [
    "df_zip['zip'].nunique()"
   ]
  },
  {
   "cell_type": "code",
   "execution_count": 226,
   "metadata": {},
   "outputs": [
    {
     "data": {
      "text/plain": [
       "array(['174 SYS', '215 SYS', '128 SYS', '131 SYS', '138A SYS', '155 SYS',\n",
       "       '201 SYS', '208A SYS', '223 SYS', '305 SYS', '43 SYS', '48 SYS',\n",
       "       '50A SYS', '65 SYS', '67 SYS', '77A SYS', '78A SYS', '313 SYS',\n",
       "       '328 SYS', '55A SYS', '251 SYS', '171 SYS', '304 SYS', '229 SYS',\n",
       "       '59 SYS', '206 SYS', '277A SYS', '205 SYS', '242 SYS', '249A SYS',\n",
       "       '49A SYS', '184 SYS', '281 SYS', '150 SYS', '259 SYS', '218 SYS',\n",
       "       '284 SYS', '173 SYS', '140 SYS', '256 SYS', '333 SYS', '148 SYS',\n",
       "       '332 SYS', '300 SYS', '204A SYS'], dtype=object)"
      ]
     },
     "execution_count": 226,
     "metadata": {},
     "output_type": "execute_result"
    }
   ],
   "source": [
    "combined['sample_source'].unique()"
   ]
  },
  {
   "cell_type": "code",
   "execution_count": 227,
   "metadata": {},
   "outputs": [
    {
     "data": {
      "text/plain": [
       "array(['150 SYS', '184 SYS', '277A SYS', '171 SYS', '204A SYS', '300 SYS',\n",
       "       '256 SYS', '215 SYS', '251 SYS', '328 SYS', '148 SYS', '332 SYS',\n",
       "       '206 SYS', '333 SYS', '174 SYS', '242 SYS', '281 SYS', '313 SYS',\n",
       "       '208A SYS', '59 SYS', '77A SYS', '78A SYS', '48 SYS', '55A SYS',\n",
       "       '50A SYS', '218 SYS', '49A SYS', '223 SYS', '67 SYS', '229 SYS',\n",
       "       '65 SYS', '304 SYS', '155 SYS', '128 SYS', '201 SYS', '305 SYS',\n",
       "       '131 SYS', '138A SYS', '43 SYS', '140 SYS', '173 SYS', '205 SYS',\n",
       "       '284 SYS', '249A SYS', '259 SYS'], dtype=object)"
      ]
     },
     "execution_count": 227,
     "metadata": {},
     "output_type": "execute_result"
    }
   ],
   "source": [
    "df_zip['source'].unique()"
   ]
  },
  {
   "cell_type": "code",
   "execution_count": 228,
   "metadata": {},
   "outputs": [
    {
     "data": {
      "text/plain": [
       "array(['150 SYS', '184 SYS', '277A SYS', '171 SYS', '204A SYS', '300 SYS',\n",
       "       '256 SYS', '215 SYS', '251 SYS', '328 SYS', '148 SYS', '332 SYS',\n",
       "       '206 SYS', '333 SYS', '174 SYS', '242 SYS', '281 SYS', '313 SYS',\n",
       "       '208A SYS', '59 SYS', '77A SYS', '78A SYS', '48 SYS', '55A SYS',\n",
       "       '50A SYS', '218 SYS', '49A SYS', '223 SYS', '67 SYS', '229 SYS',\n",
       "       '65 SYS', '304 SYS', '155 SYS', '128 SYS', '201 SYS', '305 SYS',\n",
       "       '131 SYS', '138A SYS', '43 SYS', '140 SYS', '173 SYS', '205 SYS',\n",
       "       '284 SYS', '249A SYS', '259 SYS'], dtype=object)"
      ]
     },
     "execution_count": 228,
     "metadata": {},
     "output_type": "execute_result"
    }
   ],
   "source": [
    "df_zip['sample_source'].unique()"
   ]
  },
  {
   "cell_type": "code",
   "execution_count": 229,
   "metadata": {},
   "outputs": [
    {
     "data": {
      "text/plain": [
       "True"
      ]
     },
     "execution_count": 229,
     "metadata": {},
     "output_type": "execute_result"
    }
   ],
   "source": [
    "sorted(list(combined['sample_source'].unique())) == sorted(list(df_zip['source'].unique()))"
   ]
  },
  {
   "cell_type": "markdown",
   "metadata": {},
   "source": [
    "We can now see that we have a dataset that contains all of our bacteria information as well as a simple but accurate location to go along with it. Using this we can start to analyze the water samples by location."
   ]
  },
  {
   "cell_type": "code",
   "execution_count": 230,
   "metadata": {},
   "outputs": [
    {
     "data": {
      "text/plain": [
       "zip\n",
       "92014    4\n",
       "92037    0\n",
       "92101    2\n",
       "92103    0\n",
       "92106    3\n",
       "92108    1\n",
       "92109    1\n",
       "92110    0\n",
       "92111    0\n",
       "92113    0\n",
       "92114    1\n",
       "92115    6\n",
       "92116    0\n",
       "92117    0\n",
       "92119    2\n",
       "92120    1\n",
       "92121    0\n",
       "92123    0\n",
       "92124    0\n",
       "92126    1\n",
       "92127    0\n",
       "92128    8\n",
       "92129    0\n",
       "92130    0\n",
       "92131    2\n",
       "92139    2\n",
       "92154    1\n",
       "92173    0\n",
       "Name: t_coliform, dtype: int32"
      ]
     },
     "execution_count": 230,
     "metadata": {},
     "output_type": "execute_result"
    }
   ],
   "source": [
    "df_zip.groupby('zip')['t_coliform'].sum()"
   ]
  },
  {
   "cell_type": "code",
   "execution_count": 231,
   "metadata": {},
   "outputs": [
    {
     "data": {
      "text/plain": [
       "<AxesSubplot:title={'center':'Count of Samples with Detected Coliform Bacteria'}, xlabel='Zip Code', ylabel='Presence of Coliform Bacteria'>"
      ]
     },
     "execution_count": 231,
     "metadata": {},
     "output_type": "execute_result"
    },
    {
     "data": {
      "image/png": "[encoded data removed]",
      "text/plain": [
       "<Figure size 1440x720 with 1 Axes>"
      ]
     },
     "metadata": {
      "needs_background": "light"
     },
     "output_type": "display_data"
    }
   ],
   "source": [
    "f_vc_zip = plt.figure(figsize=(20,10))\n",
    "axs_vc_zip = sns.barplot(x=df_zip['zip'].unique(), y=df_zip.groupby('zip')['t_coliform'].sum())\n",
    "plt.title(\"Count of Samples with Detected Coliform Bacteria\")\n",
    "plt.xlabel(\"Zip Code\")\n",
    "plt.ylabel(\"Presence of Coliform Bacteria\")\n",
    "f_vc_zip.gca()"
   ]
  },
  {
   "cell_type": "markdown",
   "metadata": {},
   "source": [
    "From this we can see that over half of the zip codes in our dataset have had at least one sample with Coliform bacteria detected. Additionally, there are two major outliers with zip code 92106 having 6 samples with detected bacteria and zip code 92130 having 8."
   ]
  },
  {
   "cell_type": "markdown",
   "metadata": {},
   "source": [
    "![Zip code map of San Diego](images/Zip-Code-Map-san-diego-1.webp)"
   ]
  },
  {
   "cell_type": "markdown",
   "metadata": {},
   "source": [
    "*Image source: https://unitedstatesmaps.org/san-diego-zip-code-map/*"
   ]
  },
  {
   "cell_type": "markdown",
   "metadata": {},
   "source": [
    "Looking at the regions that these zip codes correspond to in San Diego we find that the region with the most samples with detected bacteria is Carmel Valley, followed by Point Loma, and then Mid-City. From our results we can see that most of the contaminated samples came from places close to the coast, specifically the region starting at Pacific Beach, then going down towards Point Loma, and from here splitting off with some contaminated samples being detected in Mid-City and others towards Paradise Valley. While we got most of our samples from Carmel Valley, this seems to be an unusual case as we found very few samples with detected bacteria north of the strip outlined above. Additionally, the outlining regions of San Diego had very few samples of bacteria reported, but this could be do to lower populations and lack of samples taken in the area."
   ]
  },
  {
   "cell_type": "markdown",
   "metadata": {},
   "source": [
    "## EDA on National"
   ]
  },
  {
   "cell_type": "markdown",
   "metadata": {},
   "source": [
    "### Data information"
   ]
  },
  {
   "cell_type": "code",
   "execution_count": 232,
   "metadata": {},
   "outputs": [
    {
     "data": {
      "text/plain": [
       "(3276, 10)"
      ]
     },
     "execution_count": 232,
     "metadata": {},
     "output_type": "execute_result"
    }
   ],
   "source": [
    "df_national.shape"
   ]
  },
  {
   "cell_type": "markdown",
   "metadata": {},
   "source": [
    "Our national dataset has ten different variables and over 3000 different samples taken."
   ]
  },
  {
   "cell_type": "code",
   "execution_count": 233,
   "metadata": {},
   "outputs": [
    {
     "name": "stdout",
     "output_type": "stream",
     "text": [
      "<class 'pandas.core.frame.DataFrame'>\n",
      "RangeIndex: 3276 entries, 0 to 3275\n",
      "Data columns (total 10 columns):\n",
      " #   Column           Non-Null Count  Dtype  \n",
      "---  ------           --------------  -----  \n",
      " 0   ph               2785 non-null   float64\n",
      " 1   Hardness         3276 non-null   float64\n",
      " 2   Solids           3276 non-null   float64\n",
      " 3   Chloramines      3276 non-null   float64\n",
      " 4   Sulfate          2495 non-null   float64\n",
      " 5   Conductivity     3276 non-null   float64\n",
      " 6   Organic_carbon   3276 non-null   float64\n",
      " 7   Trihalomethanes  3114 non-null   float64\n",
      " 8   Turbidity        3276 non-null   float64\n",
      " 9   Potability       3276 non-null   int64  \n",
      "dtypes: float64(9), int64(1)\n",
      "memory usage: 256.1 KB\n"
     ]
    }
   ],
   "source": [
    "df_national.info()"
   ]
  },
  {
   "cell_type": "markdown",
   "metadata": {},
   "source": [
    "All variables except for Potability are decimals."
   ]
  },
  {
   "cell_type": "code",
   "execution_count": 234,
   "metadata": {},
   "outputs": [
    {
     "data": {
      "text/html": [
       "<div>\n",
       "<style scoped>\n",
       "    .dataframe tbody tr th:only-of-type {\n",
       "        vertical-align: middle;\n",
       "    }\n",
       "\n",
       "    .dataframe tbody tr th {\n",
       "        vertical-align: top;\n",
       "    }\n",
       "\n",
       "    .dataframe thead th {\n",
       "        text-align: right;\n",
       "    }\n",
       "</style>\n",
       "<table border=\"1\" class=\"dataframe\">\n",
       "  <thead>\n",
       "    <tr style=\"text-align: right;\">\n",
       "      <th></th>\n",
       "      <th>ph</th>\n",
       "      <th>Hardness</th>\n",
       "      <th>Solids</th>\n",
       "      <th>Chloramines</th>\n",
       "      <th>Sulfate</th>\n",
       "      <th>Conductivity</th>\n",
       "      <th>Organic_carbon</th>\n",
       "      <th>Trihalomethanes</th>\n",
       "      <th>Turbidity</th>\n",
       "      <th>Potability</th>\n",
       "    </tr>\n",
       "  </thead>\n",
       "  <tbody>\n",
       "    <tr>\n",
       "      <th>count</th>\n",
       "      <td>2785.000000</td>\n",
       "      <td>3276.000000</td>\n",
       "      <td>3276.000000</td>\n",
       "      <td>3276.000000</td>\n",
       "      <td>2495.000000</td>\n",
       "      <td>3276.000000</td>\n",
       "      <td>3276.000000</td>\n",
       "      <td>3114.000000</td>\n",
       "      <td>3276.000000</td>\n",
       "      <td>3276.000000</td>\n",
       "    </tr>\n",
       "    <tr>\n",
       "      <th>mean</th>\n",
       "      <td>7.080795</td>\n",
       "      <td>196.369496</td>\n",
       "      <td>22014.092526</td>\n",
       "      <td>7.122277</td>\n",
       "      <td>333.775777</td>\n",
       "      <td>426.205111</td>\n",
       "      <td>14.284970</td>\n",
       "      <td>66.396293</td>\n",
       "      <td>3.966786</td>\n",
       "      <td>0.390110</td>\n",
       "    </tr>\n",
       "    <tr>\n",
       "      <th>std</th>\n",
       "      <td>1.594320</td>\n",
       "      <td>32.879761</td>\n",
       "      <td>8768.570828</td>\n",
       "      <td>1.583085</td>\n",
       "      <td>41.416840</td>\n",
       "      <td>80.824064</td>\n",
       "      <td>3.308162</td>\n",
       "      <td>16.175008</td>\n",
       "      <td>0.780382</td>\n",
       "      <td>0.487849</td>\n",
       "    </tr>\n",
       "    <tr>\n",
       "      <th>min</th>\n",
       "      <td>0.000000</td>\n",
       "      <td>47.432000</td>\n",
       "      <td>320.942611</td>\n",
       "      <td>0.352000</td>\n",
       "      <td>129.000000</td>\n",
       "      <td>181.483754</td>\n",
       "      <td>2.200000</td>\n",
       "      <td>0.738000</td>\n",
       "      <td>1.450000</td>\n",
       "      <td>0.000000</td>\n",
       "    </tr>\n",
       "    <tr>\n",
       "      <th>25%</th>\n",
       "      <td>6.093092</td>\n",
       "      <td>176.850538</td>\n",
       "      <td>15666.690297</td>\n",
       "      <td>6.127421</td>\n",
       "      <td>307.699498</td>\n",
       "      <td>365.734414</td>\n",
       "      <td>12.065801</td>\n",
       "      <td>55.844536</td>\n",
       "      <td>3.439711</td>\n",
       "      <td>0.000000</td>\n",
       "    </tr>\n",
       "    <tr>\n",
       "      <th>50%</th>\n",
       "      <td>7.036752</td>\n",
       "      <td>196.967627</td>\n",
       "      <td>20927.833607</td>\n",
       "      <td>7.130299</td>\n",
       "      <td>333.073546</td>\n",
       "      <td>421.884968</td>\n",
       "      <td>14.218338</td>\n",
       "      <td>66.622485</td>\n",
       "      <td>3.955028</td>\n",
       "      <td>0.000000</td>\n",
       "    </tr>\n",
       "    <tr>\n",
       "      <th>75%</th>\n",
       "      <td>8.062066</td>\n",
       "      <td>216.667456</td>\n",
       "      <td>27332.762127</td>\n",
       "      <td>8.114887</td>\n",
       "      <td>359.950170</td>\n",
       "      <td>481.792304</td>\n",
       "      <td>16.557652</td>\n",
       "      <td>77.337473</td>\n",
       "      <td>4.500320</td>\n",
       "      <td>1.000000</td>\n",
       "    </tr>\n",
       "    <tr>\n",
       "      <th>max</th>\n",
       "      <td>14.000000</td>\n",
       "      <td>323.124000</td>\n",
       "      <td>61227.196008</td>\n",
       "      <td>13.127000</td>\n",
       "      <td>481.030642</td>\n",
       "      <td>753.342620</td>\n",
       "      <td>28.300000</td>\n",
       "      <td>124.000000</td>\n",
       "      <td>6.739000</td>\n",
       "      <td>1.000000</td>\n",
       "    </tr>\n",
       "  </tbody>\n",
       "</table>\n",
       "</div>"
      ],
      "text/plain": [
       "                ph     Hardness        Solids  Chloramines      Sulfate  \\\n",
       "count  2785.000000  3276.000000   3276.000000  3276.000000  2495.000000   \n",
       "mean      7.080795   196.369496  22014.092526     7.122277   333.775777   \n",
       "std       1.594320    32.879761   8768.570828     1.583085    41.416840   \n",
       "min       0.000000    47.432000    320.942611     0.352000   129.000000   \n",
       "25%       6.093092   176.850538  15666.690297     6.127421   307.699498   \n",
       "50%       7.036752   196.967627  20927.833607     7.130299   333.073546   \n",
       "75%       8.062066   216.667456  27332.762127     8.114887   359.950170   \n",
       "max      14.000000   323.124000  61227.196008    13.127000   481.030642   \n",
       "\n",
       "       Conductivity  Organic_carbon  Trihalomethanes    Turbidity   Potability  \n",
       "count   3276.000000     3276.000000      3114.000000  3276.000000  3276.000000  \n",
       "mean     426.205111       14.284970        66.396293     3.966786     0.390110  \n",
       "std       80.824064        3.308162        16.175008     0.780382     0.487849  \n",
       "min      181.483754        2.200000         0.738000     1.450000     0.000000  \n",
       "25%      365.734414       12.065801        55.844536     3.439711     0.000000  \n",
       "50%      421.884968       14.218338        66.622485     3.955028     0.000000  \n",
       "75%      481.792304       16.557652        77.337473     4.500320     1.000000  \n",
       "max      753.342620       28.300000       124.000000     6.739000     1.000000  "
      ]
     },
     "execution_count": 234,
     "metadata": {},
     "output_type": "execute_result"
    }
   ],
   "source": [
    "df_national.describe()"
   ]
  },
  {
   "cell_type": "markdown",
   "metadata": {},
   "source": [
    "### Exploratory Data Analysis"
   ]
  },
  {
   "cell_type": "code",
   "execution_count": 235,
   "metadata": {},
   "outputs": [
    {
     "data": {
      "text/plain": [
       "ph                 491\n",
       "Hardness             0\n",
       "Solids               0\n",
       "Chloramines          0\n",
       "Sulfate            781\n",
       "Conductivity         0\n",
       "Organic_carbon       0\n",
       "Trihalomethanes    162\n",
       "Turbidity            0\n",
       "Potability           0\n",
       "dtype: int64"
      ]
     },
     "execution_count": 235,
     "metadata": {},
     "output_type": "execute_result"
    }
   ],
   "source": [
    "missingdf_national = df_national.isna().sum()\n",
    "missingdf_national"
   ]
  },
  {
   "cell_type": "code",
   "execution_count": 236,
   "metadata": {},
   "outputs": [
    {
     "data": {
      "text/plain": [
       "<AxesSubplot:title={'center':'Count of Nulls'}>"
      ]
     },
     "execution_count": 236,
     "metadata": {},
     "output_type": "execute_result"
    },
    {
     "data": {
      "image/png": "[encoded data removed]",
      "text/plain": [
       "<Figure size 1080x360 with 1 Axes>"
      ]
     },
     "metadata": {
      "needs_background": "light"
     },
     "output_type": "display_data"
    }
   ],
   "source": [
    "plt.figure(figsize=(15,5))\n",
    "plt.title('Count of Nulls')\n",
    "sns.barplot(x=missingdf_national.index,y=list(missingdf_national))"
   ]
  },
  {
   "cell_type": "markdown",
   "metadata": {},
   "source": [
    "It looks like only ph, sulfate and Trihalomethanes have missing values which we might need to take care of to get a better analysis by potentially doing imputation"
   ]
  },
  {
   "cell_type": "code",
   "execution_count": 237,
   "metadata": {},
   "outputs": [
    {
     "data": {
      "text/plain": [
       "<AxesSubplot:title={'center':'Potability'}, xlabel='Potability'>"
      ]
     },
     "execution_count": 237,
     "metadata": {},
     "output_type": "execute_result"
    },
    {
     "data": {
      "image/png": "[encoded data removed]",
      "text/plain": [
       "<Figure size 432x288 with 1 Axes>"
      ]
     },
     "metadata": {
      "needs_background": "light"
     },
     "output_type": "display_data"
    }
   ],
   "source": [
    "plt.title('Potability')\n",
    "df_national.groupby('Potability').count()['ph'].plot(kind='bar')"
   ]
  },
  {
   "cell_type": "markdown",
   "metadata": {},
   "source": [
    "It seems like there is more water that is not drinkable (not potable) than drinkable (potable)."
   ]
  },
  {
   "cell_type": "markdown",
   "metadata": {},
   "source": [
    "For each of the variables in the national dataset we should try and see what kind of values denote non-potable water. We are trying to see if there is anything interesting characteritics that make up water that is not drinkable."
   ]
  },
  {
   "cell_type": "code",
   "execution_count": 238,
   "metadata": {},
   "outputs": [
    {
     "data": {
      "image/png": "[encoded data removed]",
      "text/plain": [
       "<Figure size 1080x1080 with 9 Axes>"
      ]
     },
     "metadata": {
      "needs_background": "light"
     },
     "output_type": "display_data"
    }
   ],
   "source": [
    "plt.figure(figsize = (15,15))\n",
    "for ax, col in  enumerate(df_national.columns[:9]):\n",
    "    plt.subplot(3,3, ax+1)\n",
    "    plt.title(col)\n",
    "    sns.kdeplot(x = col,data=df_national, hue='Potability')\n",
    "    sns.kdeplot(x = col,data=df_national, hue='Potability')\n",
    "plt.tight_layout()"
   ]
  },
  {
   "cell_type": "markdown",
   "metadata": {},
   "source": [
    "Here we notice that both potable and non potable water seem to be distributed the same, meaning that atleast in terms of the variables that is represented the water quality, that its characteristics are similar. The only real difference is that non potable water is more centered around the mean for each variable than potable water but this is due to the fact that their is a class imbalance."
   ]
  },
  {
   "cell_type": "markdown",
   "metadata": {},
   "source": [
    "Lets check for any correlation amongst the features."
   ]
  },
  {
   "cell_type": "code",
   "execution_count": 239,
   "metadata": {},
   "outputs": [
    {
     "data": {
      "text/plain": [
       "<seaborn.matrix.ClusterGrid at 0x25ae0ffc310>"
      ]
     },
     "execution_count": 239,
     "metadata": {},
     "output_type": "execute_result"
    },
    {
     "data": {
      "image/png": "[encoded data removed]",
      "text/plain": [
       "<Figure size 720x720 with 4 Axes>"
      ]
     },
     "metadata": {
      "needs_background": "light"
     },
     "output_type": "display_data"
    }
   ],
   "source": [
    "sns.clustermap(df_national.corr())"
   ]
  },
  {
   "cell_type": "markdown",
   "metadata": {},
   "source": [
    "Based on the heatmap it looks like their isn't really any correlation amongst any of the variables meaning that none of the variables affect each other."
   ]
  },
  {
   "cell_type": "markdown",
   "metadata": {},
   "source": [
    "Now that we have zipcode data lets see if their is any interesting insights in comparing drinking water to potable national water to see if analyte in drinking water is similiar. We can also look at SD effluent water agaisnt the national water quality to see if the water analytes are similar as well."
   ]
  },
  {
   "cell_type": "markdown",
   "metadata": {},
   "source": [
    "Let's first combine both effluent and drinking water datasets to our zip code dataset then run some EDA"
   ]
  },
  {
   "cell_type": "code",
   "execution_count": 254,
   "metadata": {},
   "outputs": [
    {
     "data": {
      "text/html": [
       "<div>\n",
       "<style scoped>\n",
       "    .dataframe tbody tr th:only-of-type {\n",
       "        vertical-align: middle;\n",
       "    }\n",
       "\n",
       "    .dataframe tbody tr th {\n",
       "        vertical-align: top;\n",
       "    }\n",
       "\n",
       "    .dataframe thead th {\n",
       "        text-align: right;\n",
       "    }\n",
       "</style>\n",
       "<table border=\"1\" class=\"dataframe\">\n",
       "  <thead>\n",
       "    <tr style=\"text-align: right;\">\n",
       "      <th></th>\n",
       "      <th>date_sample</th>\n",
       "      <th>sample_source</th>\n",
       "      <th>sample_id</th>\n",
       "      <th>analyte</th>\n",
       "      <th>value_qualifier</th>\n",
       "      <th>analyte_value</th>\n",
       "      <th>value_units</th>\n",
       "      <th>source_description_x</th>\n",
       "      <th>source_description_y</th>\n",
       "      <th>fluoride</th>\n",
       "      <th>color</th>\n",
       "      <th>ton</th>\n",
       "      <th>turbidity</th>\n",
       "      <th>zip</th>\n",
       "    </tr>\n",
       "  </thead>\n",
       "  <tbody>\n",
       "    <tr>\n",
       "      <th>0</th>\n",
       "      <td>2023-01-01</td>\n",
       "      <td>174 SYS</td>\n",
       "      <td>W1543804</td>\n",
       "      <td>Fluoride</td>\n",
       "      <td>NaN</td>\n",
       "      <td>0.786</td>\n",
       "      <td>MG/L</td>\n",
       "      <td>3250 Camino Del Rio North; Sample Stanchion</td>\n",
       "      <td>3250 Camino Del Rio North; Sample Stanchion</td>\n",
       "      <td>0.786</td>\n",
       "      <td>NaN</td>\n",
       "      <td>NaN</td>\n",
       "      <td>NaN</td>\n",
       "      <td>92108</td>\n",
       "    </tr>\n",
       "    <tr>\n",
       "      <th>1</th>\n",
       "      <td>2023-01-02</td>\n",
       "      <td>215 SYS</td>\n",
       "      <td>W1543809</td>\n",
       "      <td>Fluoride</td>\n",
       "      <td>NaN</td>\n",
       "      <td>0.760</td>\n",
       "      <td>MG/L</td>\n",
       "      <td>Across from 5105 Soledad Rd.</td>\n",
       "      <td>Across from 5105 Soledad Rd.</td>\n",
       "      <td>0.760</td>\n",
       "      <td>NaN</td>\n",
       "      <td>NaN</td>\n",
       "      <td>NaN</td>\n",
       "      <td>92109</td>\n",
       "    </tr>\n",
       "    <tr>\n",
       "      <th>2</th>\n",
       "      <td>2023-01-03</td>\n",
       "      <td>284 SYS</td>\n",
       "      <td>W1545377</td>\n",
       "      <td>Chlorate</td>\n",
       "      <td>NaN</td>\n",
       "      <td>0.186</td>\n",
       "      <td>UG/L</td>\n",
       "      <td>Ocean View Hills Pkwy and Sea Drift Way</td>\n",
       "      <td>Ocean View Hills Pkwy and Sea Drift Way</td>\n",
       "      <td>NaN</td>\n",
       "      <td>NaN</td>\n",
       "      <td>NaN</td>\n",
       "      <td>NaN</td>\n",
       "      <td>92154</td>\n",
       "    </tr>\n",
       "    <tr>\n",
       "      <th>3</th>\n",
       "      <td>2023-01-03</td>\n",
       "      <td>284 SYS</td>\n",
       "      <td>W1545377</td>\n",
       "      <td>Chlorate</td>\n",
       "      <td>NaN</td>\n",
       "      <td>0.186</td>\n",
       "      <td>UG/L</td>\n",
       "      <td>Ocean View Hills Pkwy and Sea Drift Way</td>\n",
       "      <td>Ocean View Hills Pkwy and Sea Drift Way</td>\n",
       "      <td>NaN</td>\n",
       "      <td>NaN</td>\n",
       "      <td>NaN</td>\n",
       "      <td>NaN</td>\n",
       "      <td>92154</td>\n",
       "    </tr>\n",
       "    <tr>\n",
       "      <th>4</th>\n",
       "      <td>2023-01-03</td>\n",
       "      <td>284 SYS</td>\n",
       "      <td>W1545377</td>\n",
       "      <td>Chlorite</td>\n",
       "      <td>NaN</td>\n",
       "      <td>0.157</td>\n",
       "      <td>UG/L</td>\n",
       "      <td>Ocean View Hills Pkwy and Sea Drift Way</td>\n",
       "      <td>Ocean View Hills Pkwy and Sea Drift Way</td>\n",
       "      <td>NaN</td>\n",
       "      <td>NaN</td>\n",
       "      <td>NaN</td>\n",
       "      <td>NaN</td>\n",
       "      <td>92154</td>\n",
       "    </tr>\n",
       "  </tbody>\n",
       "</table>\n",
       "</div>"
      ],
      "text/plain": [
       "  date_sample sample_source sample_id   analyte value_qualifier  \\\n",
       "0  2023-01-01       174 SYS  W1543804  Fluoride             NaN   \n",
       "1  2023-01-02       215 SYS  W1543809  Fluoride             NaN   \n",
       "2  2023-01-03       284 SYS  W1545377  Chlorate             NaN   \n",
       "3  2023-01-03       284 SYS  W1545377  Chlorate             NaN   \n",
       "4  2023-01-03       284 SYS  W1545377  Chlorite             NaN   \n",
       "\n",
       "   analyte_value value_units                         source_description_x  \\\n",
       "0          0.786        MG/L  3250 Camino Del Rio North; Sample Stanchion   \n",
       "1          0.760        MG/L                 Across from 5105 Soledad Rd.   \n",
       "2          0.186        UG/L      Ocean View Hills Pkwy and Sea Drift Way   \n",
       "3          0.186        UG/L      Ocean View Hills Pkwy and Sea Drift Way   \n",
       "4          0.157        UG/L      Ocean View Hills Pkwy and Sea Drift Way   \n",
       "\n",
       "                          source_description_y  fluoride color  ton  \\\n",
       "0  3250 Camino Del Rio North; Sample Stanchion     0.786   NaN  NaN   \n",
       "1                 Across from 5105 Soledad Rd.     0.760   NaN  NaN   \n",
       "2      Ocean View Hills Pkwy and Sea Drift Way       NaN   NaN  NaN   \n",
       "3      Ocean View Hills Pkwy and Sea Drift Way       NaN   NaN  NaN   \n",
       "4      Ocean View Hills Pkwy and Sea Drift Way       NaN   NaN  NaN   \n",
       "\n",
       "   turbidity    zip  \n",
       "0        NaN  92108  \n",
       "1        NaN  92109  \n",
       "2        NaN  92154  \n",
       "3        NaN  92154  \n",
       "4        NaN  92154  "
      ]
     },
     "execution_count": 254,
     "metadata": {},
     "output_type": "execute_result"
    }
   ],
   "source": [
    "effluent_zip = df_effluent.merge(combined,how='inner',left_on =['sample_source','date_sample'],right_on=['sample_source','date_sample'])\n",
    "effluent_zip.head()"
   ]
  },
  {
   "cell_type": "code",
   "execution_count": 255,
   "metadata": {},
   "outputs": [
    {
     "data": {
      "text/html": [
       "<div>\n",
       "<style scoped>\n",
       "    .dataframe tbody tr th:only-of-type {\n",
       "        vertical-align: middle;\n",
       "    }\n",
       "\n",
       "    .dataframe tbody tr th {\n",
       "        vertical-align: top;\n",
       "    }\n",
       "\n",
       "    .dataframe thead th {\n",
       "        text-align: right;\n",
       "    }\n",
       "</style>\n",
       "<table border=\"1\" class=\"dataframe\">\n",
       "  <thead>\n",
       "    <tr style=\"text-align: right;\">\n",
       "      <th></th>\n",
       "      <th>date_sample</th>\n",
       "      <th>sample_source</th>\n",
       "      <th>sample_id</th>\n",
       "      <th>analyte</th>\n",
       "      <th>value_qualifier</th>\n",
       "      <th>analyte_value</th>\n",
       "      <th>value_units</th>\n",
       "      <th>source_description_x</th>\n",
       "      <th>fluoride_x</th>\n",
       "      <th>color_x</th>\n",
       "      <th>ton_x</th>\n",
       "      <th>turbidity_x</th>\n",
       "      <th>source_description_y</th>\n",
       "      <th>fluoride_y</th>\n",
       "      <th>color_y</th>\n",
       "      <th>ton_y</th>\n",
       "      <th>turbidity_y</th>\n",
       "      <th>zip</th>\n",
       "    </tr>\n",
       "  </thead>\n",
       "  <tbody>\n",
       "    <tr>\n",
       "      <th>0</th>\n",
       "      <td>2023-01-01</td>\n",
       "      <td>174 SYS</td>\n",
       "      <td>W1543804</td>\n",
       "      <td>FLUORIDE</td>\n",
       "      <td>NaN</td>\n",
       "      <td>0.786</td>\n",
       "      <td>MG/L</td>\n",
       "      <td>3250 Camino Del Rio North; Sample Stanchion</td>\n",
       "      <td>0.786</td>\n",
       "      <td>NaN</td>\n",
       "      <td>NaN</td>\n",
       "      <td>NaN</td>\n",
       "      <td>3250 Camino Del Rio North; Sample Stanchion</td>\n",
       "      <td>0.786</td>\n",
       "      <td>NaN</td>\n",
       "      <td>NaN</td>\n",
       "      <td>NaN</td>\n",
       "      <td>92108</td>\n",
       "    </tr>\n",
       "    <tr>\n",
       "      <th>1</th>\n",
       "      <td>2023-01-02</td>\n",
       "      <td>215 SYS</td>\n",
       "      <td>W1543809</td>\n",
       "      <td>FLUORIDE</td>\n",
       "      <td>NaN</td>\n",
       "      <td>0.760</td>\n",
       "      <td>MG/L</td>\n",
       "      <td>Across from 5105 Soledad Rd.</td>\n",
       "      <td>0.760</td>\n",
       "      <td>NaN</td>\n",
       "      <td>NaN</td>\n",
       "      <td>NaN</td>\n",
       "      <td>Across from 5105 Soledad Rd.</td>\n",
       "      <td>0.760</td>\n",
       "      <td>NaN</td>\n",
       "      <td>NaN</td>\n",
       "      <td>NaN</td>\n",
       "      <td>92109</td>\n",
       "    </tr>\n",
       "    <tr>\n",
       "      <th>2</th>\n",
       "      <td>2023-01-03</td>\n",
       "      <td>128 SYS</td>\n",
       "      <td>W1545521</td>\n",
       "      <td>COLOR</td>\n",
       "      <td>ND</td>\n",
       "      <td>NaN</td>\n",
       "      <td>COLOR</td>\n",
       "      <td>Firethorn St/Palm Ave; Sample Stanchion</td>\n",
       "      <td>NaN</td>\n",
       "      <td>ND</td>\n",
       "      <td>NaN</td>\n",
       "      <td>NaN</td>\n",
       "      <td>Firethorn St/Palm Ave; Sample Stanchion</td>\n",
       "      <td>NaN</td>\n",
       "      <td>ND</td>\n",
       "      <td>NaN</td>\n",
       "      <td>NaN</td>\n",
       "      <td>92154</td>\n",
       "    </tr>\n",
       "    <tr>\n",
       "      <th>3</th>\n",
       "      <td>2023-01-03</td>\n",
       "      <td>128 SYS</td>\n",
       "      <td>W1545521</td>\n",
       "      <td>COLOR</td>\n",
       "      <td>ND</td>\n",
       "      <td>NaN</td>\n",
       "      <td>COLOR</td>\n",
       "      <td>Firethorn St/Palm Ave; Sample Stanchion</td>\n",
       "      <td>NaN</td>\n",
       "      <td>ND</td>\n",
       "      <td>NaN</td>\n",
       "      <td>NaN</td>\n",
       "      <td>Firethorn St/Palm Ave; Sample Stanchion</td>\n",
       "      <td>NaN</td>\n",
       "      <td>NaN</td>\n",
       "      <td>1.4</td>\n",
       "      <td>NaN</td>\n",
       "      <td>92154</td>\n",
       "    </tr>\n",
       "    <tr>\n",
       "      <th>4</th>\n",
       "      <td>2023-01-03</td>\n",
       "      <td>128 SYS</td>\n",
       "      <td>W1545521</td>\n",
       "      <td>COLOR</td>\n",
       "      <td>ND</td>\n",
       "      <td>NaN</td>\n",
       "      <td>COLOR</td>\n",
       "      <td>Firethorn St/Palm Ave; Sample Stanchion</td>\n",
       "      <td>NaN</td>\n",
       "      <td>ND</td>\n",
       "      <td>NaN</td>\n",
       "      <td>NaN</td>\n",
       "      <td>Firethorn St/Palm Ave; Sample Stanchion</td>\n",
       "      <td>NaN</td>\n",
       "      <td>NaN</td>\n",
       "      <td>NaN</td>\n",
       "      <td>0.05</td>\n",
       "      <td>92154</td>\n",
       "    </tr>\n",
       "  </tbody>\n",
       "</table>\n",
       "</div>"
      ],
      "text/plain": [
       "  date_sample sample_source sample_id   analyte value_qualifier  \\\n",
       "0  2023-01-01       174 SYS  W1543804  FLUORIDE             NaN   \n",
       "1  2023-01-02       215 SYS  W1543809  FLUORIDE             NaN   \n",
       "2  2023-01-03       128 SYS  W1545521     COLOR              ND   \n",
       "3  2023-01-03       128 SYS  W1545521     COLOR              ND   \n",
       "4  2023-01-03       128 SYS  W1545521     COLOR              ND   \n",
       "\n",
       "   analyte_value value_units                         source_description_x  \\\n",
       "0          0.786        MG/L  3250 Camino Del Rio North; Sample Stanchion   \n",
       "1          0.760        MG/L                 Across from 5105 Soledad Rd.   \n",
       "2            NaN       COLOR      Firethorn St/Palm Ave; Sample Stanchion   \n",
       "3            NaN       COLOR      Firethorn St/Palm Ave; Sample Stanchion   \n",
       "4            NaN       COLOR      Firethorn St/Palm Ave; Sample Stanchion   \n",
       "\n",
       "   fluoride_x color_x  ton_x  turbidity_x  \\\n",
       "0       0.786     NaN    NaN          NaN   \n",
       "1       0.760     NaN    NaN          NaN   \n",
       "2         NaN      ND    NaN          NaN   \n",
       "3         NaN      ND    NaN          NaN   \n",
       "4         NaN      ND    NaN          NaN   \n",
       "\n",
       "                          source_description_y  fluoride_y color_y  ton_y  \\\n",
       "0  3250 Camino Del Rio North; Sample Stanchion       0.786     NaN    NaN   \n",
       "1                 Across from 5105 Soledad Rd.       0.760     NaN    NaN   \n",
       "2      Firethorn St/Palm Ave; Sample Stanchion         NaN      ND    NaN   \n",
       "3      Firethorn St/Palm Ave; Sample Stanchion         NaN     NaN    1.4   \n",
       "4      Firethorn St/Palm Ave; Sample Stanchion         NaN     NaN    NaN   \n",
       "\n",
       "   turbidity_y    zip  \n",
       "0          NaN  92108  \n",
       "1          NaN  92109  \n",
       "2          NaN  92154  \n",
       "3          NaN  92154  \n",
       "4         0.05  92154  "
      ]
     },
     "execution_count": 255,
     "metadata": {},
     "output_type": "execute_result"
    }
   ],
   "source": [
    "drinking_zip = df_drinking.merge(combined,how='inner',left_on =['sample_source','date_sample'],right_on=['sample_source','date_sample'])\n",
    "drinking_zip.head()"
   ]
  },
  {
   "cell_type": "markdown",
   "metadata": {},
   "source": [
    "### EDA Comparing Analytes in National Potable Water with SD Drinking Water"
   ]
  },
  {
   "cell_type": "code",
   "execution_count": 256,
   "metadata": {},
   "outputs": [
    {
     "name": "stderr",
     "output_type": "stream",
     "text": [
      "C:\\Users\\johnm\\AppData\\Local\\Temp\\ipykernel_25464\\1924210458.py:6: FutureWarning: The frame.append method is deprecated and will be removed from pandas in a future version. Use pandas.concat instead.\n",
      "  fluoride = fluoride.append({'zip':'National Avg','analyte_value':turb_mean},ignore_index=True)\n"
     ]
    },
    {
     "data": {
      "text/plain": [
       "<AxesSubplot:title={'center':'Zip Code Turbidity vs National Average Turbidity'}, xlabel='zip', ylabel='analyte_value'>"
      ]
     },
     "execution_count": 256,
     "metadata": {},
     "output_type": "execute_result"
    },
    {
     "data": {
      "image/png": "[encoded data removed]",
      "text/plain": [
       "<Figure size 1080x360 with 1 Axes>"
      ]
     },
     "metadata": {
      "needs_background": "light"
     },
     "output_type": "display_data"
    }
   ],
   "source": [
    "plt.figure(figsize=(15,5))\n",
    "plt.title('Zip Code Turbidity vs National Average Turbidity')\n",
    "potable_df = df_national[df_national['Potability']==1]\n",
    "fluoride = drinking_zip[drinking_zip['analyte']=='TURBIDITY'].groupby('zip').mean().reset_index() \n",
    "turb_mean = potable_df['Turbidity'].mean()    \n",
    "fluoride = fluoride.append({'zip':'National Avg','analyte_value':turb_mean},ignore_index=True)\n",
    "sns.barplot(data=fluoride,x='zip',y='analyte_value')   "
   ]
  },
  {
   "cell_type": "markdown",
   "metadata": {},
   "source": [
    "Here we can see that the national turbidity is much higher than the zip code locations in SD. This is interesting to look at and should be tested whether this difference is significant."
   ]
  },
  {
   "cell_type": "markdown",
   "metadata": {},
   "source": [
    "### EDA comparing effluent water analytes to all national water analytes"
   ]
  },
  {
   "cell_type": "code",
   "execution_count": 257,
   "metadata": {},
   "outputs": [
    {
     "name": "stderr",
     "output_type": "stream",
     "text": [
      "C:\\Users\\johnm\\AppData\\Local\\Temp\\ipykernel_25464\\2621078851.py:5: FutureWarning: The frame.append method is deprecated and will be removed from pandas in a future version. Use pandas.concat instead.\n",
      "  ch_grouped = ch_grouped.append({'zip':'National Avg','analyte_value':ch_mean},ignore_index=True)\n"
     ]
    },
    {
     "data": {
      "text/plain": [
       "<AxesSubplot:title={'center':'Zip Code Chloramines vs National Average Chloramines'}, xlabel='zip', ylabel='analyte_value'>"
      ]
     },
     "execution_count": 257,
     "metadata": {},
     "output_type": "execute_result"
    },
    {
     "data": {
      "image/png": "[encoded data removed]",
      "text/plain": [
       "<Figure size 432x288 with 1 Axes>"
      ]
     },
     "metadata": {
      "needs_background": "light"
     },
     "output_type": "display_data"
    }
   ],
   "source": [
    "plt.title('Zip Code Chloramines vs National Average Chloramines')\n",
    "ch = effluent_zip[(effluent_zip['analyte']=='Chlorate') | (effluent_zip['analyte']=='Chlorite')]\n",
    "ch_grouped = ch.groupby('zip').mean().reset_index()\n",
    "ch_mean = df_national['Chloramines'].mean()    \n",
    "ch_grouped = ch_grouped.append({'zip':'National Avg','analyte_value':ch_mean},ignore_index=True)\n",
    "sns.barplot(data=ch_grouped,x='zip',y='analyte_value')                 \n"
   ]
  },
  {
   "cell_type": "markdown",
   "metadata": {},
   "source": [
    "Notice that very few locations have chloramines in the water and also notice that the national average for chloramines are a lot higher than that in San Diego"
   ]
  },
  {
   "cell_type": "code",
   "execution_count": 258,
   "metadata": {},
   "outputs": [
    {
     "name": "stderr",
     "output_type": "stream",
     "text": [
      "C:\\Users\\johnm\\AppData\\Local\\Temp\\ipykernel_25464\\3409647168.py:5: FutureWarning: The frame.append method is deprecated and will be removed from pandas in a future version. Use pandas.concat instead.\n",
      "  ph_grouped = ph_grouped.append({'zip':'National Avg','analyte_value':ph_mean},ignore_index=True)\n"
     ]
    },
    {
     "data": {
      "text/plain": [
       "<AxesSubplot:title={'center':'Zip Code pH vs National Average pH'}, xlabel='zip', ylabel='analyte_value'>"
      ]
     },
     "execution_count": 258,
     "metadata": {},
     "output_type": "execute_result"
    },
    {
     "data": {
      "image/png": "[encoded data removed]",
      "text/plain": [
       "<Figure size 432x288 with 1 Axes>"
      ]
     },
     "metadata": {
      "needs_background": "light"
     },
     "output_type": "display_data"
    }
   ],
   "source": [
    "plt.title('Zip Code pH vs National Average pH')\n",
    "ph = effluent_zip[(effluent_zip['analyte']=='pH')]\n",
    "ph_grouped = ph.groupby('zip').mean().reset_index()\n",
    "ph_mean = df_national['ph'].mean()    \n",
    "ph_grouped = ph_grouped.append({'zip':'National Avg','analyte_value':ph_mean},ignore_index=True)\n",
    "sns.barplot(data=ph_grouped,x='zip',y='analyte_value')      "
   ]
  },
  {
   "cell_type": "markdown",
   "metadata": {},
   "source": [
    "Here we see something more interesting than previously seen, the national average for ph is a lower than that of effluent water in zipcode locations in SD. "
   ]
  },
  {
   "cell_type": "code",
   "execution_count": 259,
   "metadata": {},
   "outputs": [
    {
     "name": "stderr",
     "output_type": "stream",
     "text": [
      "C:\\Users\\johnm\\AppData\\Local\\Temp\\ipykernel_25464\\2256141829.py:5: FutureWarning: The frame.append method is deprecated and will be removed from pandas in a future version. Use pandas.concat instead.\n",
      "  s_grouped = s_grouped.append({'zip':'National Avg','analyte_value':s_mean},ignore_index=True)\n"
     ]
    },
    {
     "data": {
      "text/plain": [
       "<AxesSubplot:title={'center':'Zip Code Sulfate vs National Average Sulfate'}, xlabel='zip', ylabel='analyte_value'>"
      ]
     },
     "execution_count": 259,
     "metadata": {},
     "output_type": "execute_result"
    },
    {
     "data": {
      "image/png": "[encoded data removed]",
      "text/plain": [
       "<Figure size 432x288 with 1 Axes>"
      ]
     },
     "metadata": {
      "needs_background": "light"
     },
     "output_type": "display_data"
    }
   ],
   "source": [
    "plt.title('Zip Code Sulfate vs National Average Sulfate')\n",
    "s = effluent_zip[(effluent_zip['analyte']=='Sulfate')]\n",
    "s_grouped = s.groupby('zip').mean().reset_index()\n",
    "s_mean = df_national['Sulfate'].mean()    \n",
    "s_grouped = s_grouped.append({'zip':'National Avg','analyte_value':s_mean},ignore_index=True)\n",
    "sns.barplot(data=s_grouped,x='zip',y='analyte_value')      "
   ]
  },
  {
   "cell_type": "markdown",
   "metadata": {},
   "source": [
    "Effluent water sulfate content on average seems to be lower than the national average"
   ]
  },
  {
   "attachments": {},
   "cell_type": "markdown",
   "metadata": {},
   "source": [
    "# Data Analysis & Results\n",
    "## Research Question Part 1\n",
    "### Is The Turbidity of drinking water in each zipcode location in San Diego signifcantly less than that of water in the national level?\n",
    "For all of our t tests we used a significance level of .05"
   ]
  },
  {
   "cell_type": "code",
   "execution_count": 246,
   "metadata": {},
   "outputs": [
    {
     "name": "stdout",
     "output_type": "stream",
     "text": [
      "Average turbidity in NTU nationally is 3.97 NTU\n"
     ]
    }
   ],
   "source": [
    "avg_h_n = df_national['Turbidity'].mean()\n",
    "print('Average turbidity in NTU nationally is {:2.2f} NTU'.format(avg_h_n))"
   ]
  },
  {
   "cell_type": "markdown",
   "metadata": {},
   "source": [
    "Looking at what analytes are present in both the national dataset and the SD drinking water dataset we can only test for difference in Turbidity so lets do that!"
   ]
  },
  {
   "cell_type": "code",
   "execution_count": 260,
   "metadata": {},
   "outputs": [
    {
     "name": "stderr",
     "output_type": "stream",
     "text": [
      "C:\\Users\\johnm\\AppData\\Local\\Temp\\ipykernel_25464\\3280257050.py:1: FutureWarning: The default dtype for empty Series will be 'object' instead of 'float64' in a future version. Specify a dtype explicitly to silence this warning.\n",
      "  drinking_pvals = pd.Series()\n",
      "c:\\Python310\\lib\\site-packages\\numpy\\core\\fromnumeric.py:3757: RuntimeWarning: Degrees of freedom <= 0 for slice\n",
      "  return _methods._var(a, axis=axis, dtype=dtype, out=out, ddof=ddof,\n",
      "c:\\Python310\\lib\\site-packages\\numpy\\core\\_methods.py:256: RuntimeWarning: invalid value encountered in double_scalars\n",
      "  ret = ret.dtype.type(ret / rcount)\n"
     ]
    },
    {
     "data": {
      "text/html": [
       "<div>\n",
       "<style scoped>\n",
       "    .dataframe tbody tr th:only-of-type {\n",
       "        vertical-align: middle;\n",
       "    }\n",
       "\n",
       "    .dataframe tbody tr th {\n",
       "        vertical-align: top;\n",
       "    }\n",
       "\n",
       "    .dataframe thead th {\n",
       "        text-align: right;\n",
       "    }\n",
       "</style>\n",
       "<table border=\"1\" class=\"dataframe\">\n",
       "  <thead>\n",
       "    <tr style=\"text-align: right;\">\n",
       "      <th></th>\n",
       "      <th>zips</th>\n",
       "      <th>p_vals</th>\n",
       "    </tr>\n",
       "  </thead>\n",
       "  <tbody>\n",
       "    <tr>\n",
       "      <th>0</th>\n",
       "      <td>92108</td>\n",
       "      <td>No Turbidity available at the zipcode</td>\n",
       "    </tr>\n",
       "    <tr>\n",
       "      <th>1</th>\n",
       "      <td>92109</td>\n",
       "      <td>No Turbidity available at the zipcode</td>\n",
       "    </tr>\n",
       "    <tr>\n",
       "      <th>2</th>\n",
       "      <td>92154</td>\n",
       "      <td>0.0</td>\n",
       "    </tr>\n",
       "    <tr>\n",
       "      <th>3</th>\n",
       "      <td>92173</td>\n",
       "      <td>0.0</td>\n",
       "    </tr>\n",
       "    <tr>\n",
       "      <th>4</th>\n",
       "      <td>92101</td>\n",
       "      <td>0.0</td>\n",
       "    </tr>\n",
       "    <tr>\n",
       "      <th>5</th>\n",
       "      <td>92116</td>\n",
       "      <td>0.0</td>\n",
       "    </tr>\n",
       "    <tr>\n",
       "      <th>6</th>\n",
       "      <td>92120</td>\n",
       "      <td>0.0</td>\n",
       "    </tr>\n",
       "    <tr>\n",
       "      <th>7</th>\n",
       "      <td>92126</td>\n",
       "      <td>0.0</td>\n",
       "    </tr>\n",
       "    <tr>\n",
       "      <th>8</th>\n",
       "      <td>92106</td>\n",
       "      <td>0.0</td>\n",
       "    </tr>\n",
       "    <tr>\n",
       "      <th>9</th>\n",
       "      <td>92037</td>\n",
       "      <td>0.0</td>\n",
       "    </tr>\n",
       "    <tr>\n",
       "      <th>10</th>\n",
       "      <td>92123</td>\n",
       "      <td>0.0</td>\n",
       "    </tr>\n",
       "    <tr>\n",
       "      <th>11</th>\n",
       "      <td>92014</td>\n",
       "      <td>0.0</td>\n",
       "    </tr>\n",
       "    <tr>\n",
       "      <th>12</th>\n",
       "      <td>92128</td>\n",
       "      <td>0.0</td>\n",
       "    </tr>\n",
       "    <tr>\n",
       "      <th>13</th>\n",
       "      <td>92124</td>\n",
       "      <td>0.0</td>\n",
       "    </tr>\n",
       "    <tr>\n",
       "      <th>14</th>\n",
       "      <td>92131</td>\n",
       "      <td>No Turbidity available at the zipcode</td>\n",
       "    </tr>\n",
       "    <tr>\n",
       "      <th>15</th>\n",
       "      <td>92117</td>\n",
       "      <td>0.0</td>\n",
       "    </tr>\n",
       "    <tr>\n",
       "      <th>16</th>\n",
       "      <td>92114</td>\n",
       "      <td>No Turbidity available at the zipcode</td>\n",
       "    </tr>\n",
       "    <tr>\n",
       "      <th>17</th>\n",
       "      <td>92127</td>\n",
       "      <td>No Turbidity available at the zipcode</td>\n",
       "    </tr>\n",
       "    <tr>\n",
       "      <th>18</th>\n",
       "      <td>92130</td>\n",
       "      <td>No Turbidity available at the zipcode</td>\n",
       "    </tr>\n",
       "    <tr>\n",
       "      <th>19</th>\n",
       "      <td>92129</td>\n",
       "      <td>No Turbidity available at the zipcode</td>\n",
       "    </tr>\n",
       "    <tr>\n",
       "      <th>20</th>\n",
       "      <td>92139</td>\n",
       "      <td>0.011094</td>\n",
       "    </tr>\n",
       "    <tr>\n",
       "      <th>21</th>\n",
       "      <td>92119</td>\n",
       "      <td>No Turbidity available at the zipcode</td>\n",
       "    </tr>\n",
       "    <tr>\n",
       "      <th>22</th>\n",
       "      <td>92111</td>\n",
       "      <td>No Turbidity available at the zipcode</td>\n",
       "    </tr>\n",
       "    <tr>\n",
       "      <th>23</th>\n",
       "      <td>92121</td>\n",
       "      <td>No Turbidity available at the zipcode</td>\n",
       "    </tr>\n",
       "    <tr>\n",
       "      <th>24</th>\n",
       "      <td>92115</td>\n",
       "      <td>No Turbidity available at the zipcode</td>\n",
       "    </tr>\n",
       "    <tr>\n",
       "      <th>25</th>\n",
       "      <td>92103</td>\n",
       "      <td>0.000697</td>\n",
       "    </tr>\n",
       "    <tr>\n",
       "      <th>26</th>\n",
       "      <td>92113</td>\n",
       "      <td>NaN</td>\n",
       "    </tr>\n",
       "    <tr>\n",
       "      <th>27</th>\n",
       "      <td>92110</td>\n",
       "      <td>No Turbidity available at the zipcode</td>\n",
       "    </tr>\n",
       "  </tbody>\n",
       "</table>\n",
       "</div>"
      ],
      "text/plain": [
       "     zips                                 p_vals\n",
       "0   92108  No Turbidity available at the zipcode\n",
       "1   92109  No Turbidity available at the zipcode\n",
       "2   92154                                    0.0\n",
       "3   92173                                    0.0\n",
       "4   92101                                    0.0\n",
       "5   92116                                    0.0\n",
       "6   92120                                    0.0\n",
       "7   92126                                    0.0\n",
       "8   92106                                    0.0\n",
       "9   92037                                    0.0\n",
       "10  92123                                    0.0\n",
       "11  92014                                    0.0\n",
       "12  92128                                    0.0\n",
       "13  92124                                    0.0\n",
       "14  92131  No Turbidity available at the zipcode\n",
       "15  92117                                    0.0\n",
       "16  92114  No Turbidity available at the zipcode\n",
       "17  92127  No Turbidity available at the zipcode\n",
       "18  92130  No Turbidity available at the zipcode\n",
       "19  92129  No Turbidity available at the zipcode\n",
       "20  92139                               0.011094\n",
       "21  92119  No Turbidity available at the zipcode\n",
       "22  92111  No Turbidity available at the zipcode\n",
       "23  92121  No Turbidity available at the zipcode\n",
       "24  92115  No Turbidity available at the zipcode\n",
       "25  92103                               0.000697\n",
       "26  92113                                    NaN\n",
       "27  92110  No Turbidity available at the zipcode"
      ]
     },
     "execution_count": 260,
     "metadata": {},
     "output_type": "execute_result"
    }
   ],
   "source": [
    "drinking_pvals = pd.Series()\n",
    "#Create a for loop and do this for each zip code\n",
    "zips = []\n",
    "p_vals = []\n",
    "for zip in drinking_zip['zip'].unique():\n",
    "    zips.append(zip)\n",
    "    drinking_turb = drinking_zip[(drinking_zip['analyte']=='TURBIDITY') & (drinking_zip['zip']==zip)]\n",
    "    if drinking_turb.shape[0] == 0:\n",
    "         p_vals.append('No Turbidity available at the zipcode')\n",
    "    else:    \n",
    "        h_d = drinking_turb['analyte_value']\n",
    "        h_n = df_national['Turbidity'].sample(n=h_d.shape[0])\n",
    "        avg_h_d =  drinking_turb['analyte_value'].mean()\n",
    "        t_val,p_val = stats.ttest_ind(h_d,h_n,nan_policy='omit',alternative='less')\n",
    "        p_vals.append(p_val)\n",
    "pd.DataFrame({'zips':zips,'p_vals':p_vals})"
   ]
  },
  {
   "cell_type": "markdown",
   "metadata": {},
   "source": [
    "Notice above that for all zipcode locations in SD that had Turbidity values, the average Turbidity in NTU is significantly less than that of the national water dataset. This suggests that the drinking water that San Dieagans digest is a lot more clear than water of that in the national level. This makes sense as the national water dataset doesn't assume the water being analyzed is drinking water\n",
    "\n"
   ]
  },
  {
   "cell_type": "markdown",
   "metadata": {},
   "source": [
    "## Research Question Part 2\n",
    "### Is there a significant difference between the ph and Sulfate in each zipcode location in SD compared to that of the national water quality dataset?"
   ]
  },
  {
   "cell_type": "markdown",
   "metadata": {},
   "source": [
    "### pH"
   ]
  },
  {
   "cell_type": "markdown",
   "metadata": {},
   "source": [
    "Lets first isolate this problem to each variable, looking at ph first"
   ]
  },
  {
   "cell_type": "code",
   "execution_count": 261,
   "metadata": {},
   "outputs": [
    {
     "name": "stdout",
     "output_type": "stream",
     "text": [
      "Average pH nationally is 7.08\n"
     ]
    }
   ],
   "source": [
    "avg_h_n = df_national['ph'].mean()\n",
    "print('Average pH nationally is {:2.2f}'.format(avg_h_n))"
   ]
  },
  {
   "cell_type": "code",
   "execution_count": 262,
   "metadata": {},
   "outputs": [
    {
     "data": {
      "text/html": [
       "<div>\n",
       "<style scoped>\n",
       "    .dataframe tbody tr th:only-of-type {\n",
       "        vertical-align: middle;\n",
       "    }\n",
       "\n",
       "    .dataframe tbody tr th {\n",
       "        vertical-align: top;\n",
       "    }\n",
       "\n",
       "    .dataframe thead th {\n",
       "        text-align: right;\n",
       "    }\n",
       "</style>\n",
       "<table border=\"1\" class=\"dataframe\">\n",
       "  <thead>\n",
       "    <tr style=\"text-align: right;\">\n",
       "      <th></th>\n",
       "      <th>zips</th>\n",
       "      <th>p_vals</th>\n",
       "    </tr>\n",
       "  </thead>\n",
       "  <tbody>\n",
       "    <tr>\n",
       "      <th>0</th>\n",
       "      <td>92108</td>\n",
       "      <td>pH not available at the zipcode</td>\n",
       "    </tr>\n",
       "    <tr>\n",
       "      <th>1</th>\n",
       "      <td>92109</td>\n",
       "      <td>pH not available at the zipcode</td>\n",
       "    </tr>\n",
       "    <tr>\n",
       "      <th>2</th>\n",
       "      <td>92154</td>\n",
       "      <td>0.003983</td>\n",
       "    </tr>\n",
       "    <tr>\n",
       "      <th>3</th>\n",
       "      <td>92128</td>\n",
       "      <td>pH not available at the zipcode</td>\n",
       "    </tr>\n",
       "    <tr>\n",
       "      <th>4</th>\n",
       "      <td>92037</td>\n",
       "      <td>pH not available at the zipcode</td>\n",
       "    </tr>\n",
       "    <tr>\n",
       "      <th>5</th>\n",
       "      <td>92114</td>\n",
       "      <td>pH not available at the zipcode</td>\n",
       "    </tr>\n",
       "    <tr>\n",
       "      <th>6</th>\n",
       "      <td>92120</td>\n",
       "      <td>pH not available at the zipcode</td>\n",
       "    </tr>\n",
       "    <tr>\n",
       "      <th>7</th>\n",
       "      <td>92123</td>\n",
       "      <td>pH not available at the zipcode</td>\n",
       "    </tr>\n",
       "    <tr>\n",
       "      <th>8</th>\n",
       "      <td>92127</td>\n",
       "      <td>pH not available at the zipcode</td>\n",
       "    </tr>\n",
       "    <tr>\n",
       "      <th>9</th>\n",
       "      <td>92130</td>\n",
       "      <td>pH not available at the zipcode</td>\n",
       "    </tr>\n",
       "    <tr>\n",
       "      <th>10</th>\n",
       "      <td>92106</td>\n",
       "      <td>pH not available at the zipcode</td>\n",
       "    </tr>\n",
       "    <tr>\n",
       "      <th>11</th>\n",
       "      <td>92129</td>\n",
       "      <td>pH not available at the zipcode</td>\n",
       "    </tr>\n",
       "    <tr>\n",
       "      <th>12</th>\n",
       "      <td>92139</td>\n",
       "      <td>0.176099</td>\n",
       "    </tr>\n",
       "    <tr>\n",
       "      <th>13</th>\n",
       "      <td>92116</td>\n",
       "      <td>pH not available at the zipcode</td>\n",
       "    </tr>\n",
       "    <tr>\n",
       "      <th>14</th>\n",
       "      <td>92119</td>\n",
       "      <td>pH not available at the zipcode</td>\n",
       "    </tr>\n",
       "    <tr>\n",
       "      <th>15</th>\n",
       "      <td>92111</td>\n",
       "      <td>pH not available at the zipcode</td>\n",
       "    </tr>\n",
       "    <tr>\n",
       "      <th>16</th>\n",
       "      <td>92173</td>\n",
       "      <td>pH not available at the zipcode</td>\n",
       "    </tr>\n",
       "    <tr>\n",
       "      <th>17</th>\n",
       "      <td>92121</td>\n",
       "      <td>pH not available at the zipcode</td>\n",
       "    </tr>\n",
       "    <tr>\n",
       "      <th>18</th>\n",
       "      <td>92124</td>\n",
       "      <td>pH not available at the zipcode</td>\n",
       "    </tr>\n",
       "    <tr>\n",
       "      <th>19</th>\n",
       "      <td>92115</td>\n",
       "      <td>pH not available at the zipcode</td>\n",
       "    </tr>\n",
       "    <tr>\n",
       "      <th>20</th>\n",
       "      <td>92103</td>\n",
       "      <td>pH not available at the zipcode</td>\n",
       "    </tr>\n",
       "    <tr>\n",
       "      <th>21</th>\n",
       "      <td>92101</td>\n",
       "      <td>pH not available at the zipcode</td>\n",
       "    </tr>\n",
       "    <tr>\n",
       "      <th>22</th>\n",
       "      <td>92117</td>\n",
       "      <td>pH not available at the zipcode</td>\n",
       "    </tr>\n",
       "  </tbody>\n",
       "</table>\n",
       "</div>"
      ],
      "text/plain": [
       "     zips                           p_vals\n",
       "0   92108  pH not available at the zipcode\n",
       "1   92109  pH not available at the zipcode\n",
       "2   92154                         0.003983\n",
       "3   92128  pH not available at the zipcode\n",
       "4   92037  pH not available at the zipcode\n",
       "5   92114  pH not available at the zipcode\n",
       "6   92120  pH not available at the zipcode\n",
       "7   92123  pH not available at the zipcode\n",
       "8   92127  pH not available at the zipcode\n",
       "9   92130  pH not available at the zipcode\n",
       "10  92106  pH not available at the zipcode\n",
       "11  92129  pH not available at the zipcode\n",
       "12  92139                         0.176099\n",
       "13  92116  pH not available at the zipcode\n",
       "14  92119  pH not available at the zipcode\n",
       "15  92111  pH not available at the zipcode\n",
       "16  92173  pH not available at the zipcode\n",
       "17  92121  pH not available at the zipcode\n",
       "18  92124  pH not available at the zipcode\n",
       "19  92115  pH not available at the zipcode\n",
       "20  92103  pH not available at the zipcode\n",
       "21  92101  pH not available at the zipcode\n",
       "22  92117  pH not available at the zipcode"
      ]
     },
     "execution_count": 262,
     "metadata": {},
     "output_type": "execute_result"
    }
   ],
   "source": [
    "#Create a for loop and do this for each zip code\n",
    "#might be a prblem here \n",
    "zips = []\n",
    "p_vals = []\n",
    "for zip in effluent_zip['zip'].unique():\n",
    "    zips.append(zip)\n",
    "    effluent_ph = effluent_zip[(effluent_zip['analyte']=='pH') & (effluent_zip['zip']==zip)]\n",
    "    if effluent_ph.shape[0] == 0:\n",
    "         p_vals.append('pH not available at the zipcode')\n",
    "    else:    \n",
    "        h_d = effluent_ph['analyte_value']\n",
    "        h_n = df_national['ph'].sample(n=h_d.shape[0])\n",
    "        avg_h_d =  effluent_ph['analyte_value'].mean()\n",
    "        t_val,p_val = stats.ttest_ind(h_d,h_n,nan_policy='omit')\n",
    "        p_vals.append(p_val)\n",
    "pd.DataFrame({'zips':zips,'p_vals':p_vals})        "
   ]
  },
  {
   "cell_type": "code",
   "execution_count": 268,
   "metadata": {},
   "outputs": [
    {
     "data": {
      "text/html": [
       "<div>\n",
       "<style scoped>\n",
       "    .dataframe tbody tr th:only-of-type {\n",
       "        vertical-align: middle;\n",
       "    }\n",
       "\n",
       "    .dataframe tbody tr th {\n",
       "        vertical-align: top;\n",
       "    }\n",
       "\n",
       "    .dataframe thead th {\n",
       "        text-align: right;\n",
       "    }\n",
       "</style>\n",
       "<table border=\"1\" class=\"dataframe\">\n",
       "  <thead>\n",
       "    <tr style=\"text-align: right;\">\n",
       "      <th></th>\n",
       "      <th>zips</th>\n",
       "      <th>p_vals</th>\n",
       "    </tr>\n",
       "  </thead>\n",
       "  <tbody>\n",
       "    <tr>\n",
       "      <th>0</th>\n",
       "      <td>92108</td>\n",
       "      <td>pH not available at the zipcode</td>\n",
       "    </tr>\n",
       "    <tr>\n",
       "      <th>1</th>\n",
       "      <td>92109</td>\n",
       "      <td>pH not available at the zipcode</td>\n",
       "    </tr>\n",
       "    <tr>\n",
       "      <th>2</th>\n",
       "      <td>92154</td>\n",
       "      <td>0.069721</td>\n",
       "    </tr>\n",
       "    <tr>\n",
       "      <th>3</th>\n",
       "      <td>92128</td>\n",
       "      <td>pH not available at the zipcode</td>\n",
       "    </tr>\n",
       "    <tr>\n",
       "      <th>4</th>\n",
       "      <td>92037</td>\n",
       "      <td>pH not available at the zipcode</td>\n",
       "    </tr>\n",
       "    <tr>\n",
       "      <th>5</th>\n",
       "      <td>92114</td>\n",
       "      <td>pH not available at the zipcode</td>\n",
       "    </tr>\n",
       "    <tr>\n",
       "      <th>6</th>\n",
       "      <td>92120</td>\n",
       "      <td>pH not available at the zipcode</td>\n",
       "    </tr>\n",
       "    <tr>\n",
       "      <th>7</th>\n",
       "      <td>92123</td>\n",
       "      <td>pH not available at the zipcode</td>\n",
       "    </tr>\n",
       "    <tr>\n",
       "      <th>8</th>\n",
       "      <td>92127</td>\n",
       "      <td>pH not available at the zipcode</td>\n",
       "    </tr>\n",
       "    <tr>\n",
       "      <th>9</th>\n",
       "      <td>92130</td>\n",
       "      <td>pH not available at the zipcode</td>\n",
       "    </tr>\n",
       "    <tr>\n",
       "      <th>10</th>\n",
       "      <td>92106</td>\n",
       "      <td>pH not available at the zipcode</td>\n",
       "    </tr>\n",
       "    <tr>\n",
       "      <th>11</th>\n",
       "      <td>92129</td>\n",
       "      <td>pH not available at the zipcode</td>\n",
       "    </tr>\n",
       "    <tr>\n",
       "      <th>12</th>\n",
       "      <td>92139</td>\n",
       "      <td>0.689268</td>\n",
       "    </tr>\n",
       "    <tr>\n",
       "      <th>13</th>\n",
       "      <td>92116</td>\n",
       "      <td>pH not available at the zipcode</td>\n",
       "    </tr>\n",
       "    <tr>\n",
       "      <th>14</th>\n",
       "      <td>92119</td>\n",
       "      <td>pH not available at the zipcode</td>\n",
       "    </tr>\n",
       "    <tr>\n",
       "      <th>15</th>\n",
       "      <td>92111</td>\n",
       "      <td>pH not available at the zipcode</td>\n",
       "    </tr>\n",
       "    <tr>\n",
       "      <th>16</th>\n",
       "      <td>92173</td>\n",
       "      <td>pH not available at the zipcode</td>\n",
       "    </tr>\n",
       "    <tr>\n",
       "      <th>17</th>\n",
       "      <td>92121</td>\n",
       "      <td>pH not available at the zipcode</td>\n",
       "    </tr>\n",
       "    <tr>\n",
       "      <th>18</th>\n",
       "      <td>92124</td>\n",
       "      <td>pH not available at the zipcode</td>\n",
       "    </tr>\n",
       "    <tr>\n",
       "      <th>19</th>\n",
       "      <td>92115</td>\n",
       "      <td>pH not available at the zipcode</td>\n",
       "    </tr>\n",
       "    <tr>\n",
       "      <th>20</th>\n",
       "      <td>92103</td>\n",
       "      <td>pH not available at the zipcode</td>\n",
       "    </tr>\n",
       "    <tr>\n",
       "      <th>21</th>\n",
       "      <td>92101</td>\n",
       "      <td>pH not available at the zipcode</td>\n",
       "    </tr>\n",
       "    <tr>\n",
       "      <th>22</th>\n",
       "      <td>92117</td>\n",
       "      <td>pH not available at the zipcode</td>\n",
       "    </tr>\n",
       "  </tbody>\n",
       "</table>\n",
       "</div>"
      ],
      "text/plain": [
       "     zips                           p_vals\n",
       "0   92108  pH not available at the zipcode\n",
       "1   92109  pH not available at the zipcode\n",
       "2   92154                         0.069721\n",
       "3   92128  pH not available at the zipcode\n",
       "4   92037  pH not available at the zipcode\n",
       "5   92114  pH not available at the zipcode\n",
       "6   92120  pH not available at the zipcode\n",
       "7   92123  pH not available at the zipcode\n",
       "8   92127  pH not available at the zipcode\n",
       "9   92130  pH not available at the zipcode\n",
       "10  92106  pH not available at the zipcode\n",
       "11  92129  pH not available at the zipcode\n",
       "12  92139                         0.689268\n",
       "13  92116  pH not available at the zipcode\n",
       "14  92119  pH not available at the zipcode\n",
       "15  92111  pH not available at the zipcode\n",
       "16  92173  pH not available at the zipcode\n",
       "17  92121  pH not available at the zipcode\n",
       "18  92124  pH not available at the zipcode\n",
       "19  92115  pH not available at the zipcode\n",
       "20  92103  pH not available at the zipcode\n",
       "21  92101  pH not available at the zipcode\n",
       "22  92117  pH not available at the zipcode"
      ]
     },
     "execution_count": 268,
     "metadata": {},
     "output_type": "execute_result"
    }
   ],
   "source": [
    "#Create a for loop and do this for each zip code\n",
    "#might be a prblem here \n",
    "zips = []\n",
    "p_vals = []\n",
    "for zip in effluent_zip['zip'].unique():\n",
    "    zips.append(zip)\n",
    "    effluent_ph = effluent_zip[(effluent_zip['analyte']=='pH') & (effluent_zip['zip']==zip)]\n",
    "    if effluent_ph.shape[0] == 0:\n",
    "         p_vals.append('pH not available at the zipcode')\n",
    "    else:    \n",
    "        h_d = effluent_ph['analyte_value']\n",
    "        h_n = df_national['ph'].sample(n=h_d.shape[0])\n",
    "        avg_h_d =  effluent_ph['analyte_value'].mean()\n",
    "        t_val,p_val = stats.ttest_ind(h_d,h_n,nan_policy='omit')\n",
    "        p_vals.append(p_val)\n",
    "pd.DataFrame({'zips':zips,'p_vals':p_vals}) "
   ]
  },
  {
   "attachments": {},
   "cell_type": "markdown",
   "metadata": {},
   "source": [
    "Firstly, there is only a two locations that have pH levels in the SD county atleast in our dataset. Out of those zipcodes that have pH levels we can see that there is no significant difference between the average pH levels of the national dataset and the average pH level of the individual zipcodes"
   ]
  },
  {
   "cell_type": "markdown",
   "metadata": {},
   "source": [
    "## Sulfate "
   ]
  },
  {
   "cell_type": "code",
   "execution_count": 252,
   "metadata": {},
   "outputs": [
    {
     "name": "stdout",
     "output_type": "stream",
     "text": [
      "Average Sulfate levels in mg/L nationally is 333.78\n"
     ]
    }
   ],
   "source": [
    "avg_h_n = df_national['Sulfate'].mean()\n",
    "print('Average Sulfate levels in mg/L nationally is {:2.2f}'.format(avg_h_n))"
   ]
  },
  {
   "cell_type": "code",
   "execution_count": 270,
   "metadata": {},
   "outputs": [
    {
     "data": {
      "text/html": [
       "<div>\n",
       "<style scoped>\n",
       "    .dataframe tbody tr th:only-of-type {\n",
       "        vertical-align: middle;\n",
       "    }\n",
       "\n",
       "    .dataframe tbody tr th {\n",
       "        vertical-align: top;\n",
       "    }\n",
       "\n",
       "    .dataframe thead th {\n",
       "        text-align: right;\n",
       "    }\n",
       "</style>\n",
       "<table border=\"1\" class=\"dataframe\">\n",
       "  <thead>\n",
       "    <tr style=\"text-align: right;\">\n",
       "      <th></th>\n",
       "      <th>zips</th>\n",
       "      <th>p_vals</th>\n",
       "    </tr>\n",
       "  </thead>\n",
       "  <tbody>\n",
       "    <tr>\n",
       "      <th>0</th>\n",
       "      <td>92108</td>\n",
       "      <td>Sulfate measurements not available at the zipcode</td>\n",
       "    </tr>\n",
       "    <tr>\n",
       "      <th>1</th>\n",
       "      <td>92109</td>\n",
       "      <td>Sulfate measurements not available at the zipcode</td>\n",
       "    </tr>\n",
       "    <tr>\n",
       "      <th>2</th>\n",
       "      <td>92154</td>\n",
       "      <td>Sulfate measurements not available at the zipcode</td>\n",
       "    </tr>\n",
       "    <tr>\n",
       "      <th>3</th>\n",
       "      <td>92128</td>\n",
       "      <td>Sulfate measurements not available at the zipcode</td>\n",
       "    </tr>\n",
       "    <tr>\n",
       "      <th>4</th>\n",
       "      <td>92037</td>\n",
       "      <td>Sulfate measurements not available at the zipcode</td>\n",
       "    </tr>\n",
       "    <tr>\n",
       "      <th>5</th>\n",
       "      <td>92114</td>\n",
       "      <td>Sulfate measurements not available at the zipcode</td>\n",
       "    </tr>\n",
       "    <tr>\n",
       "      <th>6</th>\n",
       "      <td>92120</td>\n",
       "      <td>0.0</td>\n",
       "    </tr>\n",
       "    <tr>\n",
       "      <th>7</th>\n",
       "      <td>92123</td>\n",
       "      <td>Sulfate measurements not available at the zipcode</td>\n",
       "    </tr>\n",
       "    <tr>\n",
       "      <th>8</th>\n",
       "      <td>92127</td>\n",
       "      <td>Sulfate measurements not available at the zipcode</td>\n",
       "    </tr>\n",
       "    <tr>\n",
       "      <th>9</th>\n",
       "      <td>92130</td>\n",
       "      <td>Sulfate measurements not available at the zipcode</td>\n",
       "    </tr>\n",
       "    <tr>\n",
       "      <th>10</th>\n",
       "      <td>92106</td>\n",
       "      <td>Sulfate measurements not available at the zipcode</td>\n",
       "    </tr>\n",
       "    <tr>\n",
       "      <th>11</th>\n",
       "      <td>92129</td>\n",
       "      <td>Sulfate measurements not available at the zipcode</td>\n",
       "    </tr>\n",
       "    <tr>\n",
       "      <th>12</th>\n",
       "      <td>92139</td>\n",
       "      <td>Sulfate measurements not available at the zipcode</td>\n",
       "    </tr>\n",
       "    <tr>\n",
       "      <th>13</th>\n",
       "      <td>92116</td>\n",
       "      <td>Sulfate measurements not available at the zipcode</td>\n",
       "    </tr>\n",
       "    <tr>\n",
       "      <th>14</th>\n",
       "      <td>92119</td>\n",
       "      <td>0.000002</td>\n",
       "    </tr>\n",
       "    <tr>\n",
       "      <th>15</th>\n",
       "      <td>92111</td>\n",
       "      <td>Sulfate measurements not available at the zipcode</td>\n",
       "    </tr>\n",
       "    <tr>\n",
       "      <th>16</th>\n",
       "      <td>92173</td>\n",
       "      <td>Sulfate measurements not available at the zipcode</td>\n",
       "    </tr>\n",
       "    <tr>\n",
       "      <th>17</th>\n",
       "      <td>92121</td>\n",
       "      <td>Sulfate measurements not available at the zipcode</td>\n",
       "    </tr>\n",
       "    <tr>\n",
       "      <th>18</th>\n",
       "      <td>92124</td>\n",
       "      <td>Sulfate measurements not available at the zipcode</td>\n",
       "    </tr>\n",
       "    <tr>\n",
       "      <th>19</th>\n",
       "      <td>92115</td>\n",
       "      <td>0.000003</td>\n",
       "    </tr>\n",
       "    <tr>\n",
       "      <th>20</th>\n",
       "      <td>92103</td>\n",
       "      <td>Sulfate measurements not available at the zipcode</td>\n",
       "    </tr>\n",
       "    <tr>\n",
       "      <th>21</th>\n",
       "      <td>92101</td>\n",
       "      <td>Sulfate measurements not available at the zipcode</td>\n",
       "    </tr>\n",
       "    <tr>\n",
       "      <th>22</th>\n",
       "      <td>92117</td>\n",
       "      <td>Sulfate measurements not available at the zipcode</td>\n",
       "    </tr>\n",
       "  </tbody>\n",
       "</table>\n",
       "</div>"
      ],
      "text/plain": [
       "     zips                                             p_vals\n",
       "0   92108  Sulfate measurements not available at the zipcode\n",
       "1   92109  Sulfate measurements not available at the zipcode\n",
       "2   92154  Sulfate measurements not available at the zipcode\n",
       "3   92128  Sulfate measurements not available at the zipcode\n",
       "4   92037  Sulfate measurements not available at the zipcode\n",
       "5   92114  Sulfate measurements not available at the zipcode\n",
       "6   92120                                                0.0\n",
       "7   92123  Sulfate measurements not available at the zipcode\n",
       "8   92127  Sulfate measurements not available at the zipcode\n",
       "9   92130  Sulfate measurements not available at the zipcode\n",
       "10  92106  Sulfate measurements not available at the zipcode\n",
       "11  92129  Sulfate measurements not available at the zipcode\n",
       "12  92139  Sulfate measurements not available at the zipcode\n",
       "13  92116  Sulfate measurements not available at the zipcode\n",
       "14  92119                                           0.000002\n",
       "15  92111  Sulfate measurements not available at the zipcode\n",
       "16  92173  Sulfate measurements not available at the zipcode\n",
       "17  92121  Sulfate measurements not available at the zipcode\n",
       "18  92124  Sulfate measurements not available at the zipcode\n",
       "19  92115                                           0.000003\n",
       "20  92103  Sulfate measurements not available at the zipcode\n",
       "21  92101  Sulfate measurements not available at the zipcode\n",
       "22  92117  Sulfate measurements not available at the zipcode"
      ]
     },
     "execution_count": 270,
     "metadata": {},
     "output_type": "execute_result"
    }
   ],
   "source": [
    "zips = []\n",
    "p_vals = []\n",
    "for zip in effluent_zip['zip'].unique():\n",
    "    zips.append(zip)\n",
    "    effluent_ph = effluent_zip[(effluent_zip['analyte']=='Sulfate') & (effluent_zip['zip']==zip)]\n",
    "    if effluent_ph.shape[0] == 0:\n",
    "         p_vals.append('Sulfate measurements not available at the zipcode')\n",
    "    else:    \n",
    "        h_d = effluent_ph['analyte_value']\n",
    "        h_n = df_national['Sulfate'].sample(n=h_d.shape[0])\n",
    "        avg_h_d =  effluent_ph['analyte_value'].mean()\n",
    "        t_val,p_val = stats.ttest_ind(h_d,h_n,nan_policy='omit',alternative='less')\n",
    "        p_vals.append(p_val)\n",
    "pd.DataFrame({'zips':zips,'p_vals':p_vals}) "
   ]
  },
  {
   "attachments": {},
   "cell_type": "markdown",
   "metadata": {},
   "source": [
    "In the zipcodes that have sulfate measurements in MG/L notice that the average sulfate in MG/L are significantly less in the effluent water dataset than that of the national water dataset, this assumes that SD's effluent water has less sulfate than national water"
   ]
  },
  {
   "cell_type": "markdown",
   "metadata": {},
   "source": [
    "# Ethics & Privacy"
   ]
  },
  {
   "cell_type": "markdown",
   "metadata": {},
   "source": [
    "In our water quality datasets that are being used, their are 2 other variables other than the mesurements of the quality of water that may cause concern. The two variables are \"Site ID\" and \"Source Description\". \"Site ID\" gives us the site in which the sample of water was taken and \"Source Description\" gives us an even more detailed description of the street names that are closest to the sites. The problem that may occur is that we are analyzing housing income vs water quality and since the street name locations are disclosed this might cause an effect on businesses and household that are looking to venture into these locations negativaley impacting the daily lives of those are are currentley living their.\n",
    "\n",
    "In terms of data collection for the water quality tests their shouldn't be any ethical concerns since the water was tested in all locations around San Diego that are being used for consumption, is in public spaces, or is products of water treatment facilities. \n",
    "\n",
    "We can prevent issues caused by our study by not giving specific locations but generalizing the locations into a more broad classification scheme, in this case, zip codes. \n",
    "\n",
    "In regards to the national water quality dataset, we are not provided with any locations or other identifying information. In fact, the only information given is different values for different analytes. We can avoid any ethical and privacy issues by not speculating at the location of samples taken in this dataset. "
   ]
  },
  {
   "cell_type": "markdown",
   "metadata": {},
   "source": [
    "# Conclusion & Discussion"
   ]
  },
  {
   "attachments": {},
   "cell_type": "markdown",
   "metadata": {},
   "source": [
    "In this study, our team investigated on the research question aimed to investigate the average quality of drinking water and effluent water(based on water quality parameters (including turbidity, and effluence(such as pH, and sulfate)) in San Diego(zip code locations) and compare it to the national water quality dataset. The analysis involved exploring various variables such as bacteria presence, fluoride levels, turbidity, pH, sulfate, and others in different zip codes of San Diego and comparing them to the national dataset.\n",
    "\n",
    "The results showed that over half of the zip codes in the SD dataset had at least one sample with Coliform bacteria detected, with Carmel Valley having the most samples. However, the zip codes in San Diego had on average significantly less Turbidity values than the national water dataset, suggesting that the drinking water in San Diego is clearer than water in the national level. In terms of pH levels, there was no significant difference between the individual zip codes in San Diego and the national dataset. However, the average sulfate levels in effluent water were significantly less in San Diego than the national water dataset. In conclusion, the analysis underscores the importance of monitoring and enhancing the quality of drinking water in San Diego, particularly in areas situated near the coast. By comparing San Diego's water quality to the national dataset, valuable insights are gained that can guide decision-making and policies concerning water management and public health.\n",
    "\n",
    "However, there are some limitations to consider. Firstly, the dataset only includes results from San Diego, so the conclusions may not apply to other regions. Secondly, the datasets cover a limited time period, so the findings may not be representative of long-term water quality trends in San Diego. Additionally, due to the need to clean or remove data with missing or extraneous values, the dataset only includes certain variables such as fluoride levels, pH levels, and bacteria in the water, which may not encompass all variables that could affect water quality.\n",
    "\n",
    "Overall, This project carries significant implications for public health and safety as it identifies areas where water quality concerns may arise, which could potentially harm the health of local residents. By identifying regions where water quality issues are more prevalent, policymakers and water authorities can allocate resources to improve water quality in those areas. This effort helps ensure that all individuals, regardless of their socioeconomic status or location, have access to safe and pure drinking water."
   ]
  },
  {
   "cell_type": "markdown",
   "metadata": {},
   "source": [
    "# Team Contributions"
   ]
  },
  {
   "attachments": {},
   "cell_type": "markdown",
   "metadata": {},
   "source": [
    "## Joshua Howon Kim\n",
    "For this project, I contrubuted by most parts included in the proposal, and did the background research needed for our project. I helped the group come up with the the topic and contributed in helping the group keep on track\n",
    "## Yun Seo Chang\n",
    "For this project, I contributed to the conclusion and discussion part through summarizing up the overall analysis and results.\n",
    "## Nathan Rinker\n",
    "In this project I contributed to many different parts of the project. In terms of working with the team and organization, I helped keep the team on track, call for meetings, and assignment of tasks. On the project itself, I helped find the datasets and write the summary of them, plus contributed to cleaning the data. Finally, I wrote large portions of the EDAs for all three of our San Diego datasets, with the bacteria dataset being the one I put the most work into.\n",
    "## Hyeonjoo Lee\n",
    "In this project, I contributed to wrtie an overview and present introduction part (1/3 of the presentation) during final presentation video. I wrote presentation introduction part of script based on the overview, research question, background & prior work, and hypothesis.\n",
    "## John Mauricio\n",
    "I worked on the statistcal analysis of our project, running the t tests that would actually test our hypothesis. I also did the EDA for the national water dataset. I also presented last third of our project in the video.\n",
    "\n",
    "\n",
    "## Video Link\n",
    "https://www.youtube.com/watch?v=TF4nvGVs5Ws&t=60s"
   ]
  },
  {
   "cell_type": "code",
   "execution_count": null,
   "metadata": {},
   "outputs": [],
   "source": []
  }
 ],
 "metadata": {
  "kernelspec": {
   "display_name": "Python 3",
   "language": "python",
   "name": "python3"
  },
  "language_info": {
   "codemirror_mode": {
    "name": "ipython",
    "version": 3
   },
   "file_extension": ".py",
   "mimetype": "text/x-python",
   "name": "python",
   "nbconvert_exporter": "python",
   "pygments_lexer": "ipython3",
   "version": "3.11.1 (v3.11.1:a7a450f84a, Dec  6 2022, 15:24:06) [Clang 13.0.0 (clang-1300.0.29.30)]"
  },
  "vscode": {
   "interpreter": {
    "hash": "aee8b7b246df8f9039afb4144a1f6fd8d2ca17a180786b69acc140d282b71a49"
   }
  }
 },
 "nbformat": 4,
 "nbformat_minor": 2
}
